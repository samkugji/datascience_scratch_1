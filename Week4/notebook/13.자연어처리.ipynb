{
 "cells": [
  {
   "cell_type": "code",
   "execution_count": 2,
   "metadata": {},
   "outputs": [],
   "source": [
    "import pandas as pd\n",
    "import matplotlib.pyplot as plt\n",
    "from matplotlib import style\n",
    "style.use('ggplot')\n",
    "%matplotlib inline"
   ]
  },
  {
   "cell_type": "code",
   "execution_count": 3,
   "metadata": {},
   "outputs": [
    {
     "data": {
      "text/html": [
       "<style>.container { width:75% !important; }</style>"
      ],
      "text/plain": [
       "<IPython.core.display.HTML object>"
      ]
     },
     "metadata": {},
     "output_type": "display_data"
    }
   ],
   "source": [
    "## 주피터노트북 cell 너비 조정\n",
    "\n",
    "from IPython.core.display import display, HTML\n",
    "display(HTML(\"<style>.container { width:75% !important; }</style>\"))"
   ]
  },
  {
   "cell_type": "code",
   "execution_count": 10,
   "metadata": {},
   "outputs": [],
   "source": [
    "from konlpy.tag import Twitter\n",
    "m = Twitter()"
   ]
  },
  {
   "cell_type": "code",
   "execution_count": 11,
   "metadata": {},
   "outputs": [],
   "source": [
    "import codecs\n",
    "with codecs.open(\"ratings_train.txt\", encoding='utf-8') as f:\n",
    "    data = [line.split('\\t') for line in f.read().splitlines()]\n",
    "    data = data[1:]   # header 제외"
   ]
  },
  {
   "cell_type": "markdown",
   "metadata": {},
   "source": [
    "## 1. 형태소 분석"
   ]
  },
  {
   "cell_type": "code",
   "execution_count": 8,
   "metadata": {},
   "outputs": [
    {
     "data": {
      "text/plain": [
       "'아 더빙.. 진짜 짜증나네요 목소리'"
      ]
     },
     "execution_count": 8,
     "metadata": {},
     "output_type": "execute_result"
    }
   ],
   "source": [
    "data[0][1]"
   ]
  },
  {
   "cell_type": "code",
   "execution_count": 28,
   "metadata": {},
   "outputs": [],
   "source": [
    "import konlpy.tag as tag"
   ]
  },
  {
   "cell_type": "code",
   "execution_count": 7,
   "metadata": {},
   "outputs": [
    {
     "data": {
      "text/plain": [
       "[('아', 'IC'),\n",
       " ('더빙', 'NNG'),\n",
       " ('.', 'SF'),\n",
       " ('.', 'SY'),\n",
       " ('진짜', 'MAG'),\n",
       " ('짜증', 'NNG'),\n",
       " ('나', 'NP'),\n",
       " ('네요', 'VCP+EC'),\n",
       " ('목소리', 'NNG')]"
      ]
     },
     "execution_count": 7,
     "metadata": {},
     "output_type": "execute_result"
    }
   ],
   "source": [
    "## 품사 태깅\n",
    "m.pos(data[0][1])"
   ]
  },
  {
   "cell_type": "code",
   "execution_count": 9,
   "metadata": {},
   "outputs": [
    {
     "data": {
      "text/plain": [
       "['더빙', '짜증', '나', '목소리']"
      ]
     },
     "execution_count": 9,
     "metadata": {},
     "output_type": "execute_result"
    }
   ],
   "source": [
    "## 명사만 추출\n",
    "\n",
    "m.nouns(data[0][1])"
   ]
  },
  {
   "cell_type": "code",
   "execution_count": 29,
   "metadata": {},
   "outputs": [
    {
     "data": {
      "text/plain": [
       "[('아기', 'NNG'),\n",
       " ('다리', 'VV'),\n",
       " ('고', 'EC'),\n",
       " ('기다리', 'VV'),\n",
       " ('던', 'ETM'),\n",
       " ('소풍', 'NNG')]"
      ]
     },
     "execution_count": 29,
     "metadata": {},
     "output_type": "execute_result"
    }
   ],
   "source": [
    "m.pos('아기다리고기다리던소풍')"
   ]
  },
  {
   "cell_type": "code",
   "execution_count": 31,
   "metadata": {},
   "outputs": [],
   "source": [
    "from konlpy.tag import Kkma\n",
    "k = Kkma()"
   ]
  },
  {
   "cell_type": "code",
   "execution_count": 32,
   "metadata": {},
   "outputs": [
    {
     "data": {
      "text/plain": [
       "[('아', 'VV'),\n",
       " ('아', 'ECS'),\n",
       " ('기다리', 'VV'),\n",
       " ('고', 'ECE'),\n",
       " ('기다리', 'VV'),\n",
       " ('더', 'EPT'),\n",
       " ('ㄴ', 'ETD'),\n",
       " ('소풍', 'NNG')]"
      ]
     },
     "execution_count": 32,
     "metadata": {},
     "output_type": "execute_result"
    }
   ],
   "source": [
    "k.pos('아기다리고기다리던소풍')"
   ]
  },
  {
   "cell_type": "markdown",
   "metadata": {},
   "source": [
    "## 2. Word2Vec"
   ]
  },
  {
   "cell_type": "markdown",
   "metadata": {},
   "source": [
    "- 단어를 벡터화하는 방법론\n",
    "    - 단어 임베딩(Word Embedding) : 텍스트를 구성하는 하나의 단어를 수치화하는 방법의 일종.\n",
    "- word2vec은 CBOW 방식과 Skip-Gram 방식의 단어 임베딩을 구현한 C++ 라이브러리로 구글에 있던 Mikolov 등이 개발하였다.\n",
    "    - CBOW (Continuos Bag Of Words ) : 연속된 여러 단어를 보고 그 다음에 올 단어를 예측하는 방법\n",
    "    - Skip-Gram : 하나의 단어를 보고 그 다음에 올 문맥을 예측하는 방법\n",
    "- 결국, 앞 뒤간의 관계성을 파악하는 알고리즘이므로 다양한 분야에 활용가능하다.\n",
    "    - sequential mining, 추천시스템 등\n",
    "    \n",
    "<img src=\"https://datascienceschool.net/upfiles/3cdbdbfe1c8a4742aaf2e0c40917948f.png\" alt=\"Drawing\" style=\"width: 10px;\" align = \"left\"/>\n",
    "<img src=\"https://datascienceschool.net/upfiles/8f8ebfa0ebb34eb584d24d59fe60a12d.png\" alt=\"Drawing\" style=\"width: 10px;\" align = \"right\"/>"
   ]
  },
  {
   "cell_type": "markdown",
   "metadata": {},
   "source": [
    "> ### 임베딩의 장점\n",
    "- 벡터공간에서 텍스트들간의 관계를 파악할 수 있고 수학적 계산을 할 수 있다.\n",
    "\n",
    "\n",
    "<img src=\"https://www.tensorflow.org/versions/r0.11/images/linear-relationships.png\" alt=\"Drawing\" style=\"width: 10px;\" align = \"left\"/>"
   ]
  },
  {
   "cell_type": "code",
   "execution_count": 12,
   "metadata": {},
   "outputs": [
    {
     "name": "stderr",
     "output_type": "stream",
     "text": [
      "150000it [00:25, 5777.82it/s]\n"
     ]
    }
   ],
   "source": [
    "## 명사만 추출\n",
    "\n",
    "from tqdm import tqdm\n",
    "\n",
    "for _, row in tqdm(enumerate(data)):\n",
    "    row.append(m.nouns(row[1]))"
   ]
  },
  {
   "cell_type": "code",
   "execution_count": 14,
   "metadata": {},
   "outputs": [],
   "source": [
    "from gensim.models.word2vec import Word2Vec"
   ]
  },
  {
   "cell_type": "code",
   "execution_count": 19,
   "metadata": {},
   "outputs": [],
   "source": [
    "## word2vec 모델링\n",
    "model = Word2Vec([row[-1] for _, row in enumerate(data)])"
   ]
  },
  {
   "cell_type": "code",
   "execution_count": 26,
   "metadata": {},
   "outputs": [
    {
     "data": {
      "text/plain": [
       "[('이연희', 0.9758511185646057),\n",
       " ('박중훈', 0.9746931195259094),\n",
       " ('강동원', 0.9729968309402466),\n",
       " ('김수로', 0.9711499810218811),\n",
       " ('전지현', 0.9706459641456604),\n",
       " ('송혜교', 0.9694119095802307),\n",
       " ('이준기', 0.9674740433692932),\n",
       " ('권상우', 0.9669971466064453),\n",
       " ('이승기', 0.9667418003082275),\n",
       " ('이범수', 0.9663347601890564)]"
      ]
     },
     "execution_count": 26,
     "metadata": {},
     "output_type": "execute_result"
    }
   ],
   "source": [
    "## 코사인 거리가 가장 가까운 순서대로 \n",
    "# 배우\n",
    "\n",
    "model.most_similar('정우성')"
   ]
  },
  {
   "cell_type": "code",
   "execution_count": 27,
   "metadata": {},
   "outputs": [
    {
     "data": {
      "text/plain": [
       "[('홍상수', 0.9527831673622131),\n",
       " ('천재', 0.9273989796638489),\n",
       " ('장진', 0.9122887253761292),\n",
       " ('임권택', 0.9025713801383972),\n",
       " ('연줄', 0.8987452983856201),\n",
       " ('최양일', 0.8937935829162598),\n",
       " ('의심', 0.8928626179695129),\n",
       " ('능력', 0.8905345797538757),\n",
       " ('재능', 0.8829715251922607),\n",
       " ('이장호', 0.8772603869438171)]"
      ]
     },
     "execution_count": 27,
     "metadata": {},
     "output_type": "execute_result"
    }
   ],
   "source": [
    "## 코사인 거리가 가장 가까운 순서대로 \n",
    "# 감독\n",
    "\n",
    "model.most_similar('김기덕')"
   ]
  },
  {
   "cell_type": "code",
   "execution_count": null,
   "metadata": {},
   "outputs": [],
   "source": []
  },
  {
   "cell_type": "code",
   "execution_count": null,
   "metadata": {},
   "outputs": [],
   "source": []
  },
  {
   "cell_type": "code",
   "execution_count": null,
   "metadata": {},
   "outputs": [],
   "source": []
  },
  {
   "cell_type": "code",
   "execution_count": null,
   "metadata": {},
   "outputs": [],
   "source": []
  }
 ],
 "metadata": {
  "anaconda-cloud": {},
  "kernelspec": {
   "display_name": "Python [conda root]",
   "language": "python",
   "name": "conda-root-py"
  },
  "language_info": {
   "codemirror_mode": {
    "name": "ipython",
    "version": 3
   },
   "file_extension": ".py",
   "mimetype": "text/x-python",
   "name": "python",
   "nbconvert_exporter": "python",
   "pygments_lexer": "ipython3",
   "version": "3.5.4"
  }
 },
 "nbformat": 4,
 "nbformat_minor": 2
}
