{
 "cells": [
  {
   "cell_type": "code",
   "execution_count": 4,
   "metadata": {
    "collapsed": true
   },
   "outputs": [],
   "source": [
    "import matplotlib.pyplot as plt"
   ]
  },
  {
   "cell_type": "code",
   "execution_count": 12,
   "metadata": {
    "collapsed": true
   },
   "outputs": [],
   "source": [
    "%run linear_algebra.py\n",
    "%run statistics.py"
   ]
  },
  {
   "cell_type": "markdown",
   "metadata": {},
   "source": [
    "# 가설과 추론\n"
   ]
  },
  {
   "cell_type": "markdown",
   "metadata": {
    "collapsed": true
   },
   "source": [
    "## 1. 통계적 가설 검정 (statistical hypothesis testing)\n",
    ">- 데이터 뒤에 숨어있는 확률 변수의 분포와 모수에 대한 가설의 진위를 정량적(quantitatively)으로 증명하는 작업을 말한다.\n",
    "    - 귀무가설 (H0, null hypothesis) : 검정하고 싶은 기본 가설\n",
    "    - 대립가설 (H1, alternative hypothesis) : 비교하고 싶은 가설"
   ]
  },
  {
   "cell_type": "markdown",
   "metadata": {
    "collapsed": true
   },
   "source": [
    "## 2. 동전던지기 예시\n",
    "> - 하나의 동전이 공평한 동전인지 아닌지 검정\n",
    "    - 앞면이 나올 확률 = p\n",
    "    - 귀무 가설 : p = 0.5\n",
    "    - 대립 가설 : p != 0.5"
   ]
  },
  {
   "cell_type": "code",
   "execution_count": 2,
   "metadata": {
    "collapsed": true
   },
   "outputs": [],
   "source": [
    "## 동전던지기는 베르누이 시행, n번 던지기는 이항분포\n",
    "## (n이 충분히 크다면) 이항분포는 정규분포로 근사할 수 있다.\n",
    "\n",
    "def normal_approximation_to_bionomial(n, p):\n",
    "    import math\n",
    "    \"\"\"Binomial(n, p)에 해당되는 평균과 표준편차 계산\"\"\"\n",
    "    mu = p * n\n",
    "    sigma = math.sqrt(p*(1-p)*n)\n",
    "    return mu, sigma"
   ]
  },
  {
   "cell_type": "code",
   "execution_count": null,
   "metadata": {
    "collapsed": true
   },
   "outputs": [],
   "source": [
    "############################# 스터디원 코드 #############################\n",
    "\n",
    "\n",
    "\n",
    "\n"
   ]
  },
  {
   "cell_type": "code",
   "execution_count": 5,
   "metadata": {
    "collapsed": true
   },
   "outputs": [],
   "source": [
    "## 확률변수가 정규분포를 따른다는 가정하에, normal_cdf를 사용하면 실제 동전 던지기로부터 얻은 값이 \n",
    "## 구간 안(혹은 밖)에 존재할 확률을 계산할 수 있다."
   ]
  },
  {
   "cell_type": "code",
   "execution_count": 6,
   "metadata": {
    "collapsed": true
   },
   "outputs": [],
   "source": [
    "# 누적분포함수는 확률변수가 특정 값보다 작을 확률을 나타낸다.\n",
    "normal_probability_below = normal_cdf\n",
    "\n",
    "# 만약 확률변수가 특정 값보다 작지 않다면, 특정 값보다 크다는 것을 의미한다.\n",
    "def normal_probability_above(lo, mu=0, sigma=1):\n",
    "    return 1 - normal_cdf(lo, mu, sigma)\n",
    "    \n",
    "# 만약 확률변수가 hi보다 작고 lo보다 작지 않다면, 확률변수는 hi와 lo사이에 존재한다.\n",
    "def normal_probability_between(lo, hi, mu=0, sigma=1):\n",
    "    return normal_cdf(hi, mu, sigma) - normal_cdf(lo, mu, sigma)\n",
    "\n",
    "# 만약 확률변수가 범위 밖에 존재한다면, 범위 안에 존재하지 않다는 것을 의미한다.\n",
    "def normal_probability_outside(lo, hi, mu=0, sigma=1):\n",
    "    return 1 - normal_probability_between(lo, hi, mu, sigma)\n",
    "\n",
    "def normal_upper_bound(probability, mu=0, sigma=1):\n",
    "    \"\"\"P(Z <= z) = probability 인 z값 반환\"\"\"\n",
    "    return inverse_normal_cdf(probability, mu, sigma)\n",
    "    \n",
    "def normal_lower_bound(probability, mu=0, sigma=1):\n",
    "    \"\"\"P(Z >= z) = probability 인 z값 반환\"\"\"\n",
    "    return inverse_normal_cdf(1 - probability, mu, sigma)\n",
    "\n",
    "def normal_two_sided_bounds(probability, mu=0, sigma=1):\n",
    "    \"\"\"입력한 probability 값을 포함하고 평균을 중심으로 대칭적인 구간\"\"\"\n",
    "    tail_probability = (1 - probability) / 2\n",
    "\n",
    "    # 구간의 상한은 tail_probability값 이상의 학률 값을 갖고 있다.\n",
    "    upper_bound = normal_lower_bound(tail_probability, mu, sigma)\n",
    "\n",
    "    # 구간의 하한은 tail_probability값 이하의 학률 값을 갖고 있다.\n",
    "    lower_bound = normal_upper_bound(tail_probability, mu, sigma)\n",
    "\n",
    "    return lower_bound, upper_bound"
   ]
  },
  {
   "cell_type": "code",
   "execution_count": 8,
   "metadata": {},
   "outputs": [
    {
     "data": {
      "text/plain": [
       "(500.0, 15.811388300841896)"
      ]
     },
     "execution_count": 8,
     "metadata": {},
     "output_type": "execute_result"
    }
   ],
   "source": [
    "mu_0, sigma_0 = normal_approximation_to_bionomial(1000, 0.5)\n",
    "mu_0, sigma_0"
   ]
  },
  {
   "cell_type": "code",
   "execution_count": null,
   "metadata": {
    "collapsed": true
   },
   "outputs": [],
   "source": [
    "############################# 스터디원 코드 #############################\n",
    "\n",
    "\n",
    "\n",
    "\n"
   ]
  },
  {
   "cell_type": "markdown",
   "metadata": {},
   "source": [
    "> ### 유의수준, 검정력\n",
    "- **유의 수준**\n",
    "    - 1종 오류 ($\\alpha$) : H_0가 참이지만 H_0를 기각하는 false positive 오류.\n",
    "    - ***유의 수준*** : 1종 오류를 얼마나 허용해줄 것인지를 의미한다.\n",
    "    - 일반적으로 5%, 1%로 설정하는 경우가 많다.    \n",
    "- **검정력**\n",
    "    - 2종 오류 ($\\beta$) : H_0가 거짓이지만 H_0를 기각하지 않는 오류를 의미\n",
    "    - ***검정력*** : 2종 오류를 범하지 않을 확률 ( 1 - $\\beta$ )"
   ]
  },
  {
   "cell_type": "code",
   "execution_count": 13,
   "metadata": {},
   "outputs": [
    {
     "data": {
      "text/plain": [
       "(469.01026640487555, 530.9897335951244)"
      ]
     },
     "execution_count": 13,
     "metadata": {},
     "output_type": "execute_result"
    }
   ],
   "source": [
    "## X가 주어진 범위를 벗어나면 귀무가설을 기각하는 가설검정을 고려해보자\n",
    "\n",
    "normal_two_sided_bounds(0.95, mu_0, sigma_0)"
   ]
  },
  {
   "cell_type": "code",
   "execution_count": 14,
   "metadata": {
    "collapsed": true
   },
   "outputs": [],
   "source": [
    "## p = 0.55인 경우의 검정력\n",
    "\n",
    "# p가 0.5라고 가정할 때, 유의수준이 5%인 구간\n",
    "lo, hi = normal_two_sided_bounds(0.95, mu_0, sigma_0)\n",
    "\n",
    "# p=0.55인 경우의 실제 평균과 표준 편차\n",
    "\n",
    "mu_1, sigma_1 = normal_approximation_to_bionomial(1000, 0.55)"
   ]
  },
  {
   "cell_type": "code",
   "execution_count": 16,
   "metadata": {},
   "outputs": [
    {
     "data": {
      "text/plain": [
       "0.8865480012953671"
      ]
     },
     "execution_count": 16,
     "metadata": {},
     "output_type": "execute_result"
    }
   ],
   "source": [
    "## 2종 오류란 귀무가설을 기각하지 못한다는 의미\n",
    "## 즉, 우리가 검정하고자 하는 X가 p=0.55인 정규분포에 있을 확률???\n",
    "\n",
    "type_2_probability = normal_probability_between(lo, hi, mu_1, sigma_1)\n",
    "power = 1 - type_2_probability\n",
    "power"
   ]
  },
  {
   "cell_type": "code",
   "execution_count": null,
   "metadata": {
    "collapsed": true
   },
   "outputs": [],
   "source": [
    "############################# 스터디원 코드 #############################\n",
    "\n",
    "\n",
    "\n",
    "\n"
   ]
  },
  {
   "cell_type": "markdown",
   "metadata": {},
   "source": [
    "> - 귀무가설이 어떤지에 검정력을 구하는 방법이 달라진다.\n",
    "    - 단측 검정\n",
    "    - 양측 검정"
   ]
  },
  {
   "cell_type": "markdown",
   "metadata": {},
   "source": [
    "## 3. p-value\n",
    "> - H_0가 참이라고 가정하고 실제로 관측된 값보다 더 극단적인 값이 나올 확률을 구하는 것"
   ]
  },
  {
   "cell_type": "code",
   "execution_count": 17,
   "metadata": {
    "collapsed": true
   },
   "outputs": [],
   "source": [
    "def two_sided_p_value(x, mu=0, sigma=1):\n",
    "    if x>- mu:\n",
    "        # 만약 x가 평뷴보다 크다면, x보다 큰 부분이 꼬리다.\n",
    "        return 2 * normal_probability_above(x, mu, sigma)\n",
    "    else:\n",
    "        # 만약 x가 평균보다 작다면, x보다 작은 부분이 꼬리다\n",
    "        return 2 * normal_probability_below(x, mu, sigma)"
   ]
  },
  {
   "cell_type": "code",
   "execution_count": 20,
   "metadata": {},
   "outputs": [
    {
     "data": {
      "text/plain": [
       "0.06207721579598857"
      ]
     },
     "execution_count": 20,
     "metadata": {},
     "output_type": "execute_result"
    }
   ],
   "source": [
    "two_sided_p_value(529.5, mu_0, sigma_0)"
   ]
  },
  {
   "cell_type": "code",
   "execution_count": null,
   "metadata": {
    "collapsed": true
   },
   "outputs": [],
   "source": [
    "## 530 대신 529.5를 사용한 이유?\n",
    "## 연속수정때문"
   ]
  },
  {
   "cell_type": "code",
   "execution_count": 24,
   "metadata": {},
   "outputs": [
    {
     "name": "stdout",
     "output_type": "stream",
     "text": [
      "0.06221\n"
     ]
    }
   ],
   "source": [
    "import random\n",
    "extreme_value_count = 0\n",
    "for _ in range(100000):\n",
    "    num_heads = sum(1 if random.random() < 0.5 else 0\n",
    "                   for _ in range(1000))\n",
    "    if num_heads >= 530 or num_heads <= 470:\n",
    "        extreme_value_count += 1\n",
    "\n",
    "print(extreme_value_count/100000)"
   ]
  },
  {
   "cell_type": "code",
   "execution_count": 25,
   "metadata": {},
   "outputs": [
    {
     "data": {
      "text/plain": [
       "0.046345287837786575"
      ]
     },
     "execution_count": 25,
     "metadata": {},
     "output_type": "execute_result"
    }
   ],
   "source": [
    "two_sided_p_value(531.5, mu_0, sigma_0)"
   ]
  },
  {
   "cell_type": "code",
   "execution_count": null,
   "metadata": {
    "collapsed": true
   },
   "outputs": [],
   "source": [
    "############################# 스터디원 코드 #############################\n",
    "\n",
    "\n",
    "\n",
    "\n"
   ]
  },
  {
   "cell_type": "code",
   "execution_count": null,
   "metadata": {
    "collapsed": true
   },
   "outputs": [],
   "source": []
  },
  {
   "cell_type": "code",
   "execution_count": 26,
   "metadata": {
    "collapsed": true
   },
   "outputs": [],
   "source": [
    "upper_p_value = normal_probability_above\n",
    "lower_p_value = normal_probability_below"
   ]
  },
  {
   "cell_type": "code",
   "execution_count": 27,
   "metadata": {},
   "outputs": [
    {
     "data": {
      "text/plain": [
       "0.06062885772582083"
      ]
     },
     "execution_count": 27,
     "metadata": {},
     "output_type": "execute_result"
    }
   ],
   "source": [
    "upper_p_value(524.5, mu_0, sigma_0)"
   ]
  },
  {
   "cell_type": "code",
   "execution_count": 28,
   "metadata": {},
   "outputs": [
    {
     "data": {
      "text/plain": [
       "0.04686839508859242"
      ]
     },
     "execution_count": 28,
     "metadata": {},
     "output_type": "execute_result"
    }
   ],
   "source": [
    "upper_p_value(526.5, mu_0, sigma_0)"
   ]
  },
  {
   "cell_type": "code",
   "execution_count": null,
   "metadata": {
    "collapsed": true
   },
   "outputs": [],
   "source": [
    "############################# 스터디원 코드 #############################\n",
    "\n",
    "\n",
    "\n",
    "\n"
   ]
  },
  {
   "cell_type": "markdown",
   "metadata": {},
   "source": [
    "## 4. 신뢰구간\n",
    "> - 사건에 대한 분포를 사전에 알지 못한다면 관측된 값에 대한 신뢰구간을 사용하여 가설을 검정할 수 있다."
   ]
  },
  {
   "cell_type": "code",
   "execution_count": 31,
   "metadata": {},
   "outputs": [
    {
     "data": {
      "text/plain": [
       "0.015791611697353755"
      ]
     },
     "execution_count": 31,
     "metadata": {},
     "output_type": "execute_result"
    }
   ],
   "source": [
    "import math\n",
    "p = 0.525\n",
    "math.sqrt(p * (1-p)/1000)"
   ]
  },
  {
   "cell_type": "code",
   "execution_count": 33,
   "metadata": {},
   "outputs": [
    {
     "data": {
      "text/plain": [
       "0.015791611697353755"
      ]
     },
     "execution_count": 33,
     "metadata": {},
     "output_type": "execute_result"
    }
   ],
   "source": [
    "p_hat = 525/1000\n",
    "mu = p_hat\n",
    "sigma = math.sqrt(p_hat*(1-p_hat)/1000)\n",
    "sigma"
   ]
  },
  {
   "cell_type": "code",
   "execution_count": 34,
   "metadata": {},
   "outputs": [
    {
     "data": {
      "text/plain": [
       "(0.4940490278129096, 0.5559509721870904)"
      ]
     },
     "execution_count": 34,
     "metadata": {},
     "output_type": "execute_result"
    }
   ],
   "source": [
    "normal_two_sided_bounds(0.95, mu, sigma)"
   ]
  },
  {
   "cell_type": "code",
   "execution_count": 35,
   "metadata": {},
   "outputs": [
    {
     "data": {
      "text/plain": [
       "0.015760710643876435"
      ]
     },
     "execution_count": 35,
     "metadata": {},
     "output_type": "execute_result"
    }
   ],
   "source": [
    "p_hat = 540/1000\n",
    "mu = p_hat\n",
    "sigma = math.sqrt(p_hat*(1-p_hat)/1000)\n",
    "sigma"
   ]
  },
  {
   "cell_type": "code",
   "execution_count": null,
   "metadata": {
    "collapsed": true
   },
   "outputs": [],
   "source": [
    "############################# 스터디원 코드 #############################\n",
    "\n",
    "\n",
    "\n",
    "\n"
   ]
  },
  {
   "cell_type": "markdown",
   "metadata": {},
   "source": [
    "## 5. p-value 해킹"
   ]
  },
  {
   "cell_type": "code",
   "execution_count": 36,
   "metadata": {
    "collapsed": true
   },
   "outputs": [],
   "source": [
    "def run_experiment():\n",
    "    import random\n",
    "    \"\"\"동전을 1000번 던져서, True = 앞면, False = 뒷면\"\"\"\n",
    "    return [random.random() < 0.5 for _ in range(1000)]"
   ]
  },
  {
   "cell_type": "code",
   "execution_count": 37,
   "metadata": {
    "collapsed": true
   },
   "outputs": [],
   "source": [
    "def reject_fairness(experiment):\n",
    "    \"\"\"유의수준을 5%로 설정\"\"\"\n",
    "    num_heeads = len([flip for flip in experiment if flip])\n",
    "    return num_heads < 469 or num_heeads > 531"
   ]
  },
  {
   "cell_type": "code",
   "execution_count": 40,
   "metadata": {},
   "outputs": [
    {
     "name": "stdout",
     "output_type": "stream",
     "text": [
      "28\n"
     ]
    }
   ],
   "source": [
    "random.seed(0)\n",
    "experiments = [run_experiment() for _ in range(1000)]\n",
    "num_rejections = len([experiment for experiment in experiments if reject_fairness(experiment)])\n",
    "print(num_rejections)"
   ]
  },
  {
   "cell_type": "code",
   "execution_count": null,
   "metadata": {
    "collapsed": true
   },
   "outputs": [],
   "source": [
    "############################# 스터디원 코드 #############################\n",
    "\n",
    "\n",
    "\n",
    "\n"
   ]
  },
  {
   "cell_type": "markdown",
   "metadata": {},
   "source": [
    "## 6. A/B test\n",
    "> -  광고 예시\n",
    "    - A라는 광고를 클릭 O/X는 베르누이 시행\n",
    "    - 평균 : $p_A =  a_A/N_A$\n",
    "    - 표준편차 : $\\sigma_A =  \\sqrt{P_A(1-P_A)/N_A}$\n",
    "    - $N$이 충분히 크다면 정규분포에 근접한다.\n",
    "\n"
   ]
  },
  {
   "cell_type": "code",
   "execution_count": 65,
   "metadata": {
    "collapsed": true
   },
   "outputs": [],
   "source": [
    "def estimated_parameters(N, n):\n",
    "    import math\n",
    "    \"\"\"N = 광고 노출자수, n = 광고 클릭자수\"\"\"\n",
    "    p = n / N\n",
    "    sigma = math.sqrt(p*(1-p)/N)\n",
    "    return p, sigma"
   ]
  },
  {
   "cell_type": "markdown",
   "metadata": {},
   "source": [
    "> #### 광고A와 B의 평균 클릭률의 차이가 있는지 없는지를 검정한다.\n",
    "- 평균 : $p_B - p_A$\n",
    "- 표준편차 : $\\sqrt{\\sigma^2_A + \\sigma^2_B}$\n",
    "    - $Var(X \\pm Y) = Var(X) + Var(Y)$\n",
    "- 평균은 $p_B - p_A$, 표준편차는 $\\sqrt{\\sigma^2_A + \\sigma^2_B}$인 정규분포를 따른다.\n",
    "    \n",
    "    \n",
    "> #### Variance Sum Law\n",
    "- $Var(X) = E[X^2] -(E[X])^2$\n",
    "- $Var(X+Y) = E[(X+Y)^2] -(E[(X+Y)])^2$  \n",
    "$= E[(X^2+2XY+Y^2)] -(E[X]^2+2E[X]E[Y]+E[Y]^2)$  \n",
    "$=E[X^2] - E[X]^2 + E[Y^2] - E[Y]^2$  \n",
    "$=Var(X) + Var(Y)$"
   ]
  },
  {
   "cell_type": "code",
   "execution_count": null,
   "metadata": {
    "collapsed": true
   },
   "outputs": [],
   "source": [
    "############################# 스터디원 코드 #############################\n",
    "\n",
    "\n",
    "\n",
    "\n"
   ]
  },
  {
   "cell_type": "code",
   "execution_count": 66,
   "metadata": {
    "collapsed": true
   },
   "outputs": [],
   "source": [
    "## 원래는 t 분포를 사용해야되지만, 데이터의 수가 많으면 정규분포를 따른다고 봐도 무방하다."
   ]
  },
  {
   "cell_type": "markdown",
   "metadata": {},
   "source": [
    "1) 표준 정규 분포의 Z값 계산  \n",
    "> ### $Z = \\frac{X-\\mu} {\\sigma}$  \n",
    "\n",
    "\n",
    "2) Z값의 확률 계산"
   ]
  },
  {
   "cell_type": "code",
   "execution_count": 68,
   "metadata": {
    "collapsed": true
   },
   "outputs": [],
   "source": [
    "def a_b_test_statistics(N_A, n_A, N_B, n_B):\n",
    "    import math\n",
    "    p_A, sigma_A = estimated_parameters(N_A, n_A)\n",
    "    p_B, sigma_B = estimated_parameters(N_B, n_B)\n",
    "    return (p_B - p_A) / math.sqrt(sigma_A **2 + sigma_B **2) ## ((p_B - p_A) - 0) / math.sqrt(sigma_A **2 + sigma_B **2)"
   ]
  },
  {
   "cell_type": "code",
   "execution_count": 69,
   "metadata": {
    "collapsed": true
   },
   "outputs": [],
   "source": [
    "## N_A = 1000, n_A = 200, N_B = 1000, n_B = 180 이라면, \n",
    "\n",
    "z = a_b_test_statistics(1000, 200, 1000, 180)"
   ]
  },
  {
   "cell_type": "code",
   "execution_count": 71,
   "metadata": {},
   "outputs": [
    {
     "data": {
      "text/plain": [
       "-1.1403464899034472"
      ]
     },
     "execution_count": 71,
     "metadata": {},
     "output_type": "execute_result"
    }
   ],
   "source": [
    "z"
   ]
  },
  {
   "cell_type": "code",
   "execution_count": 72,
   "metadata": {},
   "outputs": [
    {
     "data": {
      "text/plain": [
       "0.254141976542236"
      ]
     },
     "execution_count": 72,
     "metadata": {},
     "output_type": "execute_result"
    }
   ],
   "source": [
    "two_sided_p_value(z)"
   ]
  },
  {
   "cell_type": "code",
   "execution_count": null,
   "metadata": {
    "collapsed": true
   },
   "outputs": [],
   "source": [
    "## 0.25 > 0.05 이므로 귀무가설을 기각하지 못한다. \n",
    "## 두 광고가 동일하게 효과적이라면 이런 차이가 발생할 가능성이 25%이다."
   ]
  },
  {
   "cell_type": "code",
   "execution_count": 74,
   "metadata": {},
   "outputs": [
    {
     "data": {
      "text/plain": [
       "0.003189699706216853"
      ]
     },
     "execution_count": 74,
     "metadata": {},
     "output_type": "execute_result"
    }
   ],
   "source": [
    "## N_A = 1000, n_A = 200, N_B = 1000, n_B = 150 이라면, \n",
    "\n",
    "z = a_b_test_statistics(1000, 200, 1000, 150)\n",
    "two_sided_p_value(z)"
   ]
  },
  {
   "cell_type": "code",
   "execution_count": null,
   "metadata": {
    "collapsed": true
   },
   "outputs": [],
   "source": [
    "## 두 광고가 동일하게 효과적이라면 이런 차이가 발생할 가능성이 3%이다."
   ]
  },
  {
   "cell_type": "code",
   "execution_count": null,
   "metadata": {
    "collapsed": true
   },
   "outputs": [],
   "source": [
    "############################# 스터디원 코드 #############################\n",
    "\n",
    "\n",
    "\n",
    "\n"
   ]
  },
  {
   "cell_type": "markdown",
   "metadata": {},
   "source": [
    "## 7. 베이지안 추론"
   ]
  },
  {
   "cell_type": "code",
   "execution_count": null,
   "metadata": {
    "collapsed": true
   },
   "outputs": [],
   "source": []
  },
  {
   "cell_type": "code",
   "execution_count": 41,
   "metadata": {
    "collapsed": true
   },
   "outputs": [],
   "source": [
    "def B(alpha, beta):\n",
    "    \"\"\"모든 확률 값의 합이 1이 되도록 해주는 정규화 값\"\"\"\n",
    "    return math.gamma(alpha) * math.gamma(beta) / math.gamma(alpha + beta)"
   ]
  },
  {
   "cell_type": "code",
   "execution_count": 42,
   "metadata": {
    "collapsed": true
   },
   "outputs": [],
   "source": [
    "def beta_pdf(x, alpha, beta):\n",
    "    if x < 0 or x > 1:\n",
    "        return 0\n",
    "    return x ** (alpha -1 ) * (1-x) ** (beta - 1) / B(alpha, beta)"
   ]
  },
  {
   "cell_type": "code",
   "execution_count": null,
   "metadata": {
    "collapsed": true
   },
   "outputs": [],
   "source": []
  },
  {
   "cell_type": "code",
   "execution_count": 43,
   "metadata": {
    "collapsed": true
   },
   "outputs": [],
   "source": [
    "import math"
   ]
  },
  {
   "cell_type": "code",
   "execution_count": 52,
   "metadata": {
    "collapsed": true
   },
   "outputs": [],
   "source": [
    "import matplotlib.pyplot as plt"
   ]
  },
  {
   "cell_type": "code",
   "execution_count": 63,
   "metadata": {},
   "outputs": [
    {
     "name": "stdout",
     "output_type": "stream",
     "text": [
      "1 1.0\n",
      "2 1.0\n",
      "3 2.0\n",
      "4 6.0\n",
      "5 24.0\n",
      "6 120.0\n",
      "7 720.0\n",
      "8 5040.0\n",
      "9 40320.0\n"
     ]
    }
   ],
   "source": [
    "arr = []\n",
    "for i in range(1, 10):\n",
    "    print(i, math.gamma(i))\n"
   ]
  },
  {
   "cell_type": "code",
   "execution_count": 64,
   "metadata": {},
   "outputs": [
    {
     "name": "stdout",
     "output_type": "stream",
     "text": [
      "1.0 1.0\n",
      "1.5 0.886226925452758\n",
      "2.0 1.0\n",
      "2.5 1.3293403881791372\n",
      "3.0 2.0\n",
      "3.5 3.323350970447842\n",
      "4.0 6.0\n",
      "4.5 11.631728396567446\n",
      "5.0 24.0\n",
      "5.5 52.34277778455352\n",
      "6.0 120.0\n",
      "6.5 287.8852778150444\n",
      "7.0 720.0\n",
      "7.5 1871.2543057977882\n",
      "8.0 5040.0\n",
      "8.5 14034.407293483413\n",
      "9.0 40320.0\n",
      "9.5 119292.46199460902\n"
     ]
    }
   ],
   "source": [
    "import numpy as np\n",
    "arr_1 = []\n",
    "for i in np.arange(1, 10, 0.5):\n",
    "    print(i, math.gamma(i))"
   ]
  },
  {
   "cell_type": "code",
   "execution_count": null,
   "metadata": {
    "collapsed": true
   },
   "outputs": [],
   "source": []
  },
  {
   "cell_type": "code",
   "execution_count": null,
   "metadata": {
    "collapsed": true
   },
   "outputs": [],
   "source": []
  },
  {
   "cell_type": "code",
   "execution_count": null,
   "metadata": {
    "collapsed": true
   },
   "outputs": [],
   "source": []
  },
  {
   "cell_type": "code",
   "execution_count": null,
   "metadata": {
    "collapsed": true
   },
   "outputs": [],
   "source": []
  },
  {
   "cell_type": "code",
   "execution_count": null,
   "metadata": {
    "collapsed": true
   },
   "outputs": [],
   "source": []
  },
  {
   "cell_type": "code",
   "execution_count": null,
   "metadata": {
    "collapsed": true
   },
   "outputs": [],
   "source": []
  },
  {
   "cell_type": "code",
   "execution_count": null,
   "metadata": {
    "collapsed": true
   },
   "outputs": [],
   "source": []
  },
  {
   "cell_type": "code",
   "execution_count": null,
   "metadata": {
    "collapsed": true
   },
   "outputs": [],
   "source": []
  },
  {
   "cell_type": "code",
   "execution_count": null,
   "metadata": {
    "collapsed": true
   },
   "outputs": [],
   "source": []
  }
 ],
 "metadata": {
  "anaconda-cloud": {},
  "kernelspec": {
   "display_name": "Python [default]",
   "language": "python",
   "name": "python3"
  },
  "language_info": {
   "codemirror_mode": {
    "name": "ipython",
    "version": 3
   },
   "file_extension": ".py",
   "mimetype": "text/x-python",
   "name": "python",
   "nbconvert_exporter": "python",
   "pygments_lexer": "ipython3",
   "version": "3.5.4"
  }
 },
 "nbformat": 4,
 "nbformat_minor": 1
}
