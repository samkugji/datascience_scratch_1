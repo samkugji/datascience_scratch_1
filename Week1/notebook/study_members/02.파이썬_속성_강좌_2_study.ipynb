{
 "cells": [
  {
   "cell_type": "markdown",
   "metadata": {},
   "source": [
    "# 1. 파이썬 속성 강좌 2"
   ]
  },
  {
   "cell_type": "markdown",
   "metadata": {},
   "source": [
    "## (1) 정렬"
   ]
  },
  {
   "cell_type": "markdown",
   "metadata": {},
   "source": [
    "> - list를 자동으로 정렬해 주는 sort 메서드가 있다."
   ]
  },
  {
   "cell_type": "code",
   "execution_count": 190,
   "metadata": {
    "collapsed": true
   },
   "outputs": [],
   "source": [
    "x = [-4, -1, -2, -3]"
   ]
  },
  {
   "cell_type": "code",
   "execution_count": 191,
   "metadata": {
    "scrolled": true
   },
   "outputs": [
    {
     "data": {
      "text/plain": [
       "[-1, -2, -3, -4]"
      ]
     },
     "execution_count": 191,
     "metadata": {},
     "output_type": "execute_result"
    }
   ],
   "source": [
    "# 절대값 오름차순 정렬\n",
    "\n",
    "y = sorted(x, key=abs, reverse=False) \n",
    "y"
   ]
  },
  {
   "cell_type": "code",
   "execution_count": 192,
   "metadata": {},
   "outputs": [
    {
     "data": {
      "text/plain": [
       "[-4, -3, -2, -1]"
      ]
     },
     "execution_count": 192,
     "metadata": {},
     "output_type": "execute_result"
    }
   ],
   "source": [
    "# 절대값 내림차순 정렬, key에 원하는 함수를 넣어서 사용할 수 있다.\n",
    "\n",
    "y = sorted(x, key=abs, reverse=True) \n",
    "y"
   ]
  },
  {
   "cell_type": "code",
   "execution_count": 193,
   "metadata": {
    "collapsed": true
   },
   "outputs": [],
   "source": [
    "wc = sorted(word_counts.items(), \n",
    "            key = lambda x : x[1], ## word_counts의 value값 기준으로 \n",
    "            reverse = True         ## 내림 차순 정렬\n",
    "           )"
   ]
  },
  {
   "cell_type": "code",
   "execution_count": 194,
   "metadata": {
    "scrolled": true
   },
   "outputs": [
    {
     "data": {
      "text/plain": [
       "[('컴퓨터', 2),\n",
       " ('데이터를', 2),\n",
       " ('위한', 2),\n",
       " ('데이터', 2),\n",
       " ('머신', 2),\n",
       " ('분석', 2),\n",
       " ('기반에', 1),\n",
       " ('학문', 1),\n",
       " ('분석과', 1),\n",
       " ('모든', 1),\n",
       " ('프로그래밍을', 1),\n",
       " ('이러한', 1),\n",
       " ('learning),', 1),\n",
       " ('활용하기', 1),\n",
       " ('러닝(machine', 1),\n",
       " ('만나는', 1),\n",
       " ('실제로', 1),\n",
       " ('개념을', 1),\n",
       " ('포함하는', 1),\n",
       " ('각종', 1),\n",
       " ('인간이', 1),\n",
       " ('하는', 1),\n",
       " ('노력이다.', 1),\n",
       " ('기술이며,', 1),\n",
       " ('다루기', 1),\n",
       " ('러닝은', 1),\n",
       " ('수학과', 1),\n",
       " ('수집하고', 1),\n",
       " ('사이언스는', 1),\n",
       " ('및', 1),\n",
       " ('결과를', 1),\n",
       " ('모형의', 1),\n",
       " ('통계학은', 1),\n",
       " ('의사', 1),\n",
       " ('해오던', 1),\n",
       " ('사이언스,', 1),\n",
       " ('핵심적인', 1),\n",
       " ('지금까지', 1),\n",
       " ('통계학,', 1),\n",
       " ('깔린', 1),\n",
       " ('필수', 1),\n",
       " ('신호', 1),\n",
       " ('대신하고자', 1),\n",
       " ('말하며,', 1),\n",
       " ('다양한', 1),\n",
       " ('기술의', 1),\n",
       " ('등', 1),\n",
       " ('수학,', 1),\n",
       " ('분야가', 1),\n",
       " ('활용하여', 1),\n",
       " ('사이언스란', 1),\n",
       " ('구체화하는', 1),\n",
       " ('집합을', 1),\n",
       " ('분석하여', 1),\n",
       " ('영역이다.', 1),\n",
       " ('판단을', 1),\n",
       " ('언어이다.', 1),\n",
       " ('영상', 1),\n",
       " ('처리', 1)]"
      ]
     },
     "execution_count": 194,
     "metadata": {},
     "output_type": "execute_result"
    }
   ],
   "source": [
    "wc"
   ]
  },
  {
   "cell_type": "code",
   "execution_count": 195,
   "metadata": {
    "collapsed": true
   },
   "outputs": [],
   "source": [
    "############################# 스터디원 코드 #############################\n",
    "\n",
    "\n"
   ]
  },
  {
   "cell_type": "markdown",
   "metadata": {
    "collapsed": true
   },
   "source": [
    "## (2) List Comprehension"
   ]
  },
  {
   "cell_type": "markdown",
   "metadata": {},
   "source": [
    "> - 기존의 list에서 특정 항목을 선택하거나 변환시킨 결과를 새로운 list에 저장해야되는 경우, list comprehension을 사용한다."
   ]
  },
  {
   "cell_type": "code",
   "execution_count": 196,
   "metadata": {
    "scrolled": true
   },
   "outputs": [
    {
     "data": {
      "text/plain": [
       "[0, 2, 4]"
      ]
     },
     "execution_count": 196,
     "metadata": {},
     "output_type": "execute_result"
    }
   ],
   "source": [
    "# 0 ~ 5까지의 수 중에서 2로 나눈 나머지가 0인 숫자들만 (짝수) 출력\n",
    "\n",
    "even_numbers = [x for x in range(5) if x % 2 ==0]  \n",
    "even_numbers"
   ]
  },
  {
   "cell_type": "code",
   "execution_count": 197,
   "metadata": {},
   "outputs": [
    {
     "data": {
      "text/plain": [
       "[0, 1, 4, 9, 16]"
      ]
     },
     "execution_count": 197,
     "metadata": {},
     "output_type": "execute_result"
    }
   ],
   "source": [
    "# 0 ~ 5까지의 수 중 x 제곱인 수만 출력\n",
    "\n",
    "squares = [x*x for x in range(5)] \n",
    "squares"
   ]
  },
  {
   "cell_type": "code",
   "execution_count": 198,
   "metadata": {},
   "outputs": [
    {
     "data": {
      "text/plain": [
       "[0, 4, 16]"
      ]
     },
     "execution_count": 198,
     "metadata": {},
     "output_type": "execute_result"
    }
   ],
   "source": [
    "even_squares = [x * x for x in even_numbers]\n",
    "even_squares"
   ]
  },
  {
   "cell_type": "code",
   "execution_count": 199,
   "metadata": {
    "collapsed": true
   },
   "outputs": [],
   "source": [
    "############################# 스터디원 코드 #############################\n",
    "\n",
    "\n"
   ]
  },
  {
   "cell_type": "markdown",
   "metadata": {},
   "source": [
    "> - 또한 dict나 set으로 변환 시킬 수 있다."
   ]
  },
  {
   "cell_type": "code",
   "execution_count": 200,
   "metadata": {},
   "outputs": [
    {
     "data": {
      "text/plain": [
       "{0: 0, 1: 1, 2: 4, 3: 9, 4: 16}"
      ]
     },
     "execution_count": 200,
     "metadata": {},
     "output_type": "execute_result"
    }
   ],
   "source": [
    "squar_dict = {x: x*x for x in range(5)}\n",
    "squar_dict"
   ]
  },
  {
   "cell_type": "code",
   "execution_count": 201,
   "metadata": {},
   "outputs": [
    {
     "data": {
      "text/plain": [
       "{1}"
      ]
     },
     "execution_count": 201,
     "metadata": {},
     "output_type": "execute_result"
    }
   ],
   "source": [
    "square_set = {x * x for x in [1, -1]}\n",
    "square_set"
   ]
  },
  {
   "cell_type": "code",
   "execution_count": 202,
   "metadata": {
    "collapsed": true
   },
   "outputs": [],
   "source": [
    "############################# 스터디원 코드 #############################\n",
    "\n",
    "\n"
   ]
  },
  {
   "cell_type": "markdown",
   "metadata": {},
   "source": [
    "> - 보통 list에서 불필요한 값은 밑줄로 표기한다."
   ]
  },
  {
   "cell_type": "code",
   "execution_count": 203,
   "metadata": {},
   "outputs": [
    {
     "data": {
      "text/plain": [
       "[0, 0, 0]"
      ]
     },
     "execution_count": 203,
     "metadata": {},
     "output_type": "execute_result"
    }
   ],
   "source": [
    "zeroes = [0 for _ in even_numbers] # even_numbers 의 개수만큼 0이 생긴다.\n",
    "zeroes"
   ]
  },
  {
   "cell_type": "code",
   "execution_count": 204,
   "metadata": {
    "collapsed": true
   },
   "outputs": [],
   "source": [
    "############################# 스터디원 코드 #############################\n",
    "\n",
    "\n"
   ]
  },
  {
   "cell_type": "markdown",
   "metadata": {},
   "source": [
    "> - list comprehension에는 여러 for loop를 포함할 수 있다."
   ]
  },
  {
   "cell_type": "code",
   "execution_count": 205,
   "metadata": {
    "scrolled": true
   },
   "outputs": [
    {
     "data": {
      "text/plain": [
       "[(0, 0),\n",
       " (0, 1),\n",
       " (0, 2),\n",
       " (0, 3),\n",
       " (0, 4),\n",
       " (0, 5),\n",
       " (0, 6),\n",
       " (0, 7),\n",
       " (0, 8),\n",
       " (0, 9),\n",
       " (1, 0),\n",
       " (1, 1),\n",
       " (1, 2),\n",
       " (1, 3),\n",
       " (1, 4),\n",
       " (1, 5),\n",
       " (1, 6),\n",
       " (1, 7),\n",
       " (1, 8),\n",
       " (1, 9),\n",
       " (2, 0),\n",
       " (2, 1),\n",
       " (2, 2),\n",
       " (2, 3),\n",
       " (2, 4),\n",
       " (2, 5),\n",
       " (2, 6),\n",
       " (2, 7),\n",
       " (2, 8),\n",
       " (2, 9),\n",
       " (3, 0),\n",
       " (3, 1),\n",
       " (3, 2),\n",
       " (3, 3),\n",
       " (3, 4),\n",
       " (3, 5),\n",
       " (3, 6),\n",
       " (3, 7),\n",
       " (3, 8),\n",
       " (3, 9),\n",
       " (4, 0),\n",
       " (4, 1),\n",
       " (4, 2),\n",
       " (4, 3),\n",
       " (4, 4),\n",
       " (4, 5),\n",
       " (4, 6),\n",
       " (4, 7),\n",
       " (4, 8),\n",
       " (4, 9),\n",
       " (5, 0),\n",
       " (5, 1),\n",
       " (5, 2),\n",
       " (5, 3),\n",
       " (5, 4),\n",
       " (5, 5),\n",
       " (5, 6),\n",
       " (5, 7),\n",
       " (5, 8),\n",
       " (5, 9),\n",
       " (6, 0),\n",
       " (6, 1),\n",
       " (6, 2),\n",
       " (6, 3),\n",
       " (6, 4),\n",
       " (6, 5),\n",
       " (6, 6),\n",
       " (6, 7),\n",
       " (6, 8),\n",
       " (6, 9),\n",
       " (7, 0),\n",
       " (7, 1),\n",
       " (7, 2),\n",
       " (7, 3),\n",
       " (7, 4),\n",
       " (7, 5),\n",
       " (7, 6),\n",
       " (7, 7),\n",
       " (7, 8),\n",
       " (7, 9),\n",
       " (8, 0),\n",
       " (8, 1),\n",
       " (8, 2),\n",
       " (8, 3),\n",
       " (8, 4),\n",
       " (8, 5),\n",
       " (8, 6),\n",
       " (8, 7),\n",
       " (8, 8),\n",
       " (8, 9),\n",
       " (9, 0),\n",
       " (9, 1),\n",
       " (9, 2),\n",
       " (9, 3),\n",
       " (9, 4),\n",
       " (9, 5),\n",
       " (9, 6),\n",
       " (9, 7),\n",
       " (9, 8),\n",
       " (9, 9)]"
      ]
     },
     "execution_count": 205,
     "metadata": {},
     "output_type": "execute_result"
    }
   ],
   "source": [
    "# 뒤에 나오는 for는 앞에 나온 결과에 대해 반복한다.\n",
    "\n",
    "pairs = [(x, y) \n",
    "         for x in range(10) \n",
    "         for y in range(10)]  \n",
    "pairs"
   ]
  },
  {
   "cell_type": "code",
   "execution_count": 206,
   "metadata": {
    "scrolled": true
   },
   "outputs": [
    {
     "data": {
      "text/plain": [
       "[(0, 1),\n",
       " (0, 2),\n",
       " (0, 3),\n",
       " (0, 4),\n",
       " (0, 5),\n",
       " (0, 6),\n",
       " (0, 7),\n",
       " (0, 8),\n",
       " (0, 9),\n",
       " (1, 2),\n",
       " (1, 3),\n",
       " (1, 4),\n",
       " (1, 5),\n",
       " (1, 6),\n",
       " (1, 7),\n",
       " (1, 8),\n",
       " (1, 9),\n",
       " (2, 3),\n",
       " (2, 4),\n",
       " (2, 5),\n",
       " (2, 6),\n",
       " (2, 7),\n",
       " (2, 8),\n",
       " (2, 9),\n",
       " (3, 4),\n",
       " (3, 5),\n",
       " (3, 6),\n",
       " (3, 7),\n",
       " (3, 8),\n",
       " (3, 9),\n",
       " (4, 5),\n",
       " (4, 6),\n",
       " (4, 7),\n",
       " (4, 8),\n",
       " (4, 9),\n",
       " (5, 6),\n",
       " (5, 7),\n",
       " (5, 8),\n",
       " (5, 9),\n",
       " (6, 7),\n",
       " (6, 8),\n",
       " (6, 9),\n",
       " (7, 8),\n",
       " (7, 9),\n",
       " (8, 9)]"
      ]
     },
     "execution_count": 206,
     "metadata": {},
     "output_type": "execute_result"
    }
   ],
   "source": [
    "increasing_paris = [(x, y)                     # x < y인 경우만 해당\n",
    "                    for x in range(10) \n",
    "                    for y in range(x + 1, 10)] # range(lo, hi) 는 lo부터 시작해서 hi까지 이다.\n",
    "increasing_paris"
   ]
  },
  {
   "cell_type": "code",
   "execution_count": 207,
   "metadata": {
    "collapsed": true
   },
   "outputs": [],
   "source": [
    "############################# 스터디원 코드 #############################\n",
    "\n",
    "\n"
   ]
  },
  {
   "cell_type": "markdown",
   "metadata": {},
   "source": [
    "## (3) Generator와 iterator"
   ]
  },
  {
   "cell_type": "markdown",
   "metadata": {},
   "source": [
    "> - 한 번에 항목을 하나씩 처리하기 위해 list 전체를 사용하는 것은 엄청나게 비효율적이다.\n",
    "- 만약 list 앞부분의 몇몇 값만 필요하다면 list 전체를 계산할 필요가 없다.\n",
    "- Generator는 반복할 수 있으며, generator의 각 항목은 필요한 순간에 그때그때 생성된다.\n",
    "- Generator를 만드는 한 가지 방법은 함수와 yield를 활용하는 것이다."
   ]
  },
  {
   "cell_type": "code",
   "execution_count": 208,
   "metadata": {
    "collapsed": true
   },
   "outputs": [],
   "source": [
    "def lazy_range(n):\n",
    "    i = 0\n",
    "    while i < n: ## while : True 일때까지 반복한다. ( 즉, i가 n보다 작을떄 까지만 반복한다.)\n",
    "        yield i \n",
    "        i += 1\n"
   ]
  },
  {
   "cell_type": "code",
   "execution_count": 209,
   "metadata": {},
   "outputs": [
    {
     "data": {
      "text/plain": [
       "<generator object lazy_range at 0x11443fa40>"
      ]
     },
     "execution_count": 209,
     "metadata": {},
     "output_type": "execute_result"
    }
   ],
   "source": [
    "lazy_range(10)"
   ]
  },
  {
   "cell_type": "markdown",
   "metadata": {},
   "source": [
    "> - 파이썬 3에서는 range()도 이러한 동작 방식을 사용한다. 따라서 아무리 큰 숫자로 loop를 한다고해도 메모리에는 문제가 없다.\n",
    "- Generator의 단점은 generator를 단 한번만 반복할 수 있다는 점이다."
   ]
  },
  {
   "cell_type": "markdown",
   "metadata": {},
   "source": [
    ">- 괄호 안에 for 문을 추가하는 방법으로도 generator를 만들 수 있다."
   ]
  },
  {
   "cell_type": "code",
   "execution_count": 210,
   "metadata": {
    "collapsed": true
   },
   "outputs": [],
   "source": [
    "def range_2(n):\n",
    "    return list([i for i in range(n)])"
   ]
  },
  {
   "cell_type": "code",
   "execution_count": 211,
   "metadata": {},
   "outputs": [
    {
     "data": {
      "text/plain": [
       "<generator object <genexpr> at 0x11443fe60>"
      ]
     },
     "execution_count": 211,
     "metadata": {},
     "output_type": "execute_result"
    }
   ],
   "source": [
    "(i for i in range_2(20) if i % 2 == 0)"
   ]
  },
  {
   "cell_type": "markdown",
   "metadata": {},
   "source": [
    "> ### generator와 iterator의 차이\n",
    "- list나 set과 같은 컬렉션에 대한 iterator는 해당 컬렉션이 이미 모든 값을 가지고 있는 경우이나, \n",
    "- Generator는 모든 데이타를 갖지 않은 상태에서 yield에 의해 하나씩만 데이타를 만들어 가져온다는 차이점이 있다.\n",
    "- 이러한 Generator는 데이타가 무제한이어서 모든 데이타를 리턴할 수 없는 경우나, 데이타가 대량이어서 일부씩 처리하는 것이 필요한 경우, 혹은 모든 데이타를 미리 계산하면 속도가 느려서 그때 그때 On Demand로 처리하는 것이 좋은 경우 등에 종종 사용된다.\n",
    "\n"
   ]
  },
  {
   "cell_type": "markdown",
   "metadata": {},
   "source": [
    "## (4) 난수 생성"
   ]
  },
  {
   "cell_type": "code",
   "execution_count": 212,
   "metadata": {},
   "outputs": [
    {
     "data": {
      "text/plain": [
       "[0.6489319373175217,\n",
       " 0.14538893030008515,\n",
       " 0.3004043227246258,\n",
       " 0.4235973286679262]"
      ]
     },
     "execution_count": 212,
     "metadata": {},
     "output_type": "execute_result"
    }
   ],
   "source": [
    "## random함수를 사용하여 0과 1 사이의 random값을 4개 생성한다.\n",
    "\n",
    "import random\n",
    "four_uniform_randoms = [random.random() for _ in range(4)]\n",
    "four_uniform_randoms"
   ]
  },
  {
   "cell_type": "markdown",
   "metadata": {},
   "source": [
    "> - 동일한 난수를 계속 사용하고 싶다면 random.seed를 통해 매번 고정된 난수를 생성하면 된다."
   ]
  },
  {
   "cell_type": "code",
   "execution_count": 213,
   "metadata": {
    "scrolled": true
   },
   "outputs": [
    {
     "name": "stdout",
     "output_type": "stream",
     "text": [
      "0.5714025946899135\n"
     ]
    }
   ],
   "source": [
    "random.seed(10)\n",
    "print(random.random())"
   ]
  },
  {
   "cell_type": "code",
   "execution_count": 214,
   "metadata": {},
   "outputs": [
    {
     "name": "stdout",
     "output_type": "stream",
     "text": [
      "0.5714025946899135\n"
     ]
    }
   ],
   "source": [
    "random.seed(10)\n",
    "print(random.random())"
   ]
  },
  {
   "cell_type": "code",
   "execution_count": 215,
   "metadata": {
    "collapsed": true
   },
   "outputs": [],
   "source": [
    "############################# 스터디원 코드 #############################\n",
    "\n",
    "\n"
   ]
  },
  {
   "cell_type": "markdown",
   "metadata": {},
   "source": [
    "> - random.randrange 메서드를 사용하면 range()에 해당하는 구간 안에서 난수를 생성할 수 있다."
   ]
  },
  {
   "cell_type": "code",
   "execution_count": 216,
   "metadata": {},
   "outputs": [
    {
     "data": {
      "text/plain": [
       "54"
      ]
     },
     "execution_count": 216,
     "metadata": {},
     "output_type": "execute_result"
    }
   ],
   "source": [
    "random.randrange(start = 0, stop = 100)"
   ]
  },
  {
   "cell_type": "code",
   "execution_count": 217,
   "metadata": {
    "collapsed": true
   },
   "outputs": [],
   "source": [
    "############################# 스터디원 코드 #############################\n",
    "\n",
    "\n"
   ]
  },
  {
   "cell_type": "markdown",
   "metadata": {},
   "source": [
    "> - random.shuffle은 list의 항목을 임의 순서로 재정렬 해준다."
   ]
  },
  {
   "cell_type": "code",
   "execution_count": 218,
   "metadata": {},
   "outputs": [
    {
     "data": {
      "text/plain": [
       "[4, 5, 8, 1, 2, 6, 9, 3, 0, 7]"
      ]
     },
     "execution_count": 218,
     "metadata": {},
     "output_type": "execute_result"
    }
   ],
   "source": [
    "# 0 ~ 9 까지의 임의의 숫자 10개를 만든 뒤, 순서를 임의로 재정렬한다.\n",
    "up_to_ten = list(range(10))\n",
    "random.shuffle(up_to_ten)\n",
    "up_to_ten"
   ]
  },
  {
   "cell_type": "code",
   "execution_count": 219,
   "metadata": {
    "collapsed": true
   },
   "outputs": [],
   "source": [
    "my_best_friend = random.choice(['Alice', 'Bob', 'Charlie'])"
   ]
  },
  {
   "cell_type": "code",
   "execution_count": 220,
   "metadata": {},
   "outputs": [
    {
     "data": {
      "text/plain": [
       "'Bob'"
      ]
     },
     "execution_count": 220,
     "metadata": {},
     "output_type": "execute_result"
    }
   ],
   "source": [
    "my_best_friend"
   ]
  },
  {
   "cell_type": "code",
   "execution_count": 221,
   "metadata": {
    "collapsed": true
   },
   "outputs": [],
   "source": [
    "############################# 스터디원 코드 #############################\n",
    "\n",
    "\n"
   ]
  },
  {
   "cell_type": "markdown",
   "metadata": {},
   "source": [
    "> - random.sample을 사용하면 list에서 중복이 허용되지 않는 임의의 표본 list를 만들 수 있다."
   ]
  },
  {
   "cell_type": "code",
   "execution_count": 222,
   "metadata": {},
   "outputs": [
    {
     "data": {
      "text/plain": [
       "[4, 15, 47, 23, 2, 26]"
      ]
     },
     "execution_count": 222,
     "metadata": {},
     "output_type": "execute_result"
    }
   ],
   "source": [
    "lottery_numbers = range(60)\n",
    "winning_numbers = random.sample(lottery_numbers, 6)\n",
    "winning_numbers"
   ]
  },
  {
   "cell_type": "markdown",
   "metadata": {},
   "source": [
    "> - random.choice를 여러번 사용하면 중복이 허용되는 임의의 표본 list를 만들 수 있다."
   ]
  },
  {
   "cell_type": "code",
   "execution_count": 223,
   "metadata": {},
   "outputs": [
    {
     "data": {
      "text/plain": [
       "[2, 9, 5, 6]"
      ]
     },
     "execution_count": 223,
     "metadata": {},
     "output_type": "execute_result"
    }
   ],
   "source": [
    "four_with_replacement = [random.choice(range(10)) for _ in range(4)]\n",
    "four_with_replacement"
   ]
  },
  {
   "cell_type": "code",
   "execution_count": 224,
   "metadata": {
    "collapsed": true
   },
   "outputs": [],
   "source": [
    "############################# 스터디원 코드 #############################\n",
    "\n",
    "\n"
   ]
  },
  {
   "cell_type": "markdown",
   "metadata": {},
   "source": [
    "## (5) 정규표현식"
   ]
  },
  {
   "cell_type": "markdown",
   "metadata": {},
   "source": [
    "> - 정규표현식을 사용하면 문자열을 쉽게 찾을 수 있다."
   ]
  },
  {
   "cell_type": "code",
   "execution_count": 225,
   "metadata": {},
   "outputs": [
    {
     "name": "stdout",
     "output_type": "stream",
     "text": [
      "<_sre.SRE_Match object; span=(1, 2), match='a'>\n"
     ]
    }
   ],
   "source": [
    "import re\n",
    "print(re.search('a', 'cat'))"
   ]
  },
  {
   "cell_type": "markdown",
   "metadata": {},
   "source": [
    "## (6) 객체 지향 프로그래밍 (Object-Oriented Programming)"
   ]
  },
  {
   "cell_type": "markdown",
   "metadata": {},
   "source": [
    "> - 클래스(class)를 사용하면 데이터와 관련 함수를 하나로 묶어 줄 수 있다.\n",
    "- 예시\n",
    "    - 과자틀 : 클래스 (class)\n",
    "    - 과자틀에 의해서 만들어진 과자들 : 객체 (object)       \n",
    "    \n",
    "    \n",
    "> - 클래스에 의해 만들어진 객체들은 객체별로 독립적인 성격을 갖는다. \n",
    "    - 과자틀에 의해서 만들어진 과자에 구멍을 뚫거나 조금 베어먹더라도 다른 과자들에는 아무 영향이 없는것과 마찬가지로 동일한 클래스에의해 생성된 객체들은 서로에게 전혀 영향을 주지 않는다."
   ]
  },
  {
   "cell_type": "code",
   "execution_count": 226,
   "metadata": {
    "collapsed": true
   },
   "outputs": [],
   "source": [
    "# 클래스의 이름은 관습에 따라 파스칼케이스로 표기 (파스칼 케이스 : 쌍봉낙타표기법 ex. DecisionTreeClassifier)\n",
    "class Set:\n",
    "    # 이제 멤버 함수들을 정의한다. \n",
    "    # 모든 멤버 함수의 첫번쨰 인자는 'self'이다 (관습 중 하나)\n",
    "    # 'self'란 현재 사용되고 있는 Set 객체를 의미한다.\n",
    "    \n",
    "    def __init__(self, values = None):  ## constructor(생성자이다.)\n",
    "        \"\"\"이것은 constructor(생성저)이다\n",
    "        새로운 Set을 만들면 호출된다.\n",
    "        다음과 같이 사용할 수 있다.\n",
    "        s1 = Set()\n",
    "        s2 = Set([1, 2, 2, 3])\"\"\"\n",
    "        self.dict = {}                  ## 모든 Set의 인스턴스는 자체적으로 dict를 유지한다.\n",
    "        \n",
    "        if values is not None:          ## 만약 values가 없지 않다면, values의 각 value들을 객체에 추가한다.\n",
    "            for value in values:        ## 여기서 주의할 점은 입력되는 values가 list나 튜플 형태여야 작동을 한다는 것이다.\n",
    "                self.add(value)\n",
    "    \n",
    "    def __repr__(self):\n",
    "        \"\"\"파이썬 프롬프트에서 이 함수를 입력하거나 str()으로 보내주면\n",
    "        Set 객체를 문자열로 표현해줌\"\"\"\n",
    "        return \"Set : \" + str(self.dict)\n",
    "    \n",
    "    # self.dict에서 항목과 True를 각각 key와 value로 사용해서 Set 안에 존재하는 항목을 표현\n",
    "    def add(self, value):\n",
    "        self.dict[value] = True\n",
    "    \n",
    "    # 만약 항목이 dict의 key라면 항목은 Set 안에 존재함\n",
    "    def contains(self, value):\n",
    "        return value in self.dict\n",
    "    \n",
    "    def remove(self, value):\n",
    "        del (self.dict[value])"
   ]
  },
  {
   "cell_type": "code",
   "execution_count": 227,
   "metadata": {
    "collapsed": true
   },
   "outputs": [],
   "source": [
    "############################# 스터디원 코드 #############################\n",
    "\n",
    "\n"
   ]
  },
  {
   "cell_type": "code",
   "execution_count": 228,
   "metadata": {},
   "outputs": [
    {
     "data": {
      "text/plain": [
       "Set : {1: True, 2: True, 3: True}"
      ]
     },
     "execution_count": 228,
     "metadata": {},
     "output_type": "execute_result"
    }
   ],
   "source": [
    "s = Set([1, 2, 3])\n",
    "s"
   ]
  },
  {
   "cell_type": "code",
   "execution_count": 229,
   "metadata": {},
   "outputs": [
    {
     "data": {
      "text/plain": [
       "Set : {1: True, 2: True, 3: True, 4: True}"
      ]
     },
     "execution_count": 229,
     "metadata": {},
     "output_type": "execute_result"
    }
   ],
   "source": [
    "s.add(4)\n",
    "s"
   ]
  },
  {
   "cell_type": "code",
   "execution_count": 230,
   "metadata": {},
   "outputs": [
    {
     "data": {
      "text/plain": [
       "Set : {1: True, 2: True, 4: True}"
      ]
     },
     "execution_count": 230,
     "metadata": {},
     "output_type": "execute_result"
    }
   ],
   "source": [
    "s.remove(3)\n",
    "s"
   ]
  },
  {
   "cell_type": "code",
   "execution_count": 231,
   "metadata": {},
   "outputs": [
    {
     "name": "stdout",
     "output_type": "stream",
     "text": [
      "False\n"
     ]
    }
   ],
   "source": [
    "print(s.contains(3))"
   ]
  },
  {
   "cell_type": "code",
   "execution_count": null,
   "metadata": {
    "collapsed": true
   },
   "outputs": [],
   "source": [
    "############################# 스터디원 코드 #############################\n",
    "\n",
    "\n"
   ]
  },
  {
   "cell_type": "markdown",
   "metadata": {},
   "source": [
    "## (7) 함수형 도구"
   ]
  },
  {
   "cell_type": "markdown",
   "metadata": {},
   "source": [
    "### (a) partial"
   ]
  },
  {
   "cell_type": "markdown",
   "metadata": {},
   "source": [
    "> - 여러 함수를 호출할 때 한 함수의 특정 부분을 사용해서 새로운 함수를 만드는 것을 partial function application 또는 currying이라고 한다."
   ]
  },
  {
   "cell_type": "code",
   "execution_count": 232,
   "metadata": {},
   "outputs": [
    {
     "data": {
      "text/plain": [
       "4"
      ]
     },
     "execution_count": 232,
     "metadata": {},
     "output_type": "execute_result"
    }
   ],
   "source": [
    "## power라는 변수 한개를 입력하면 exp(2, power)라는 결과를 출력해 주는 two_to_the 함수를 만들어 보자\n",
    "\n",
    "def exp(base, power):\n",
    "    return base ** power\n",
    "\n",
    "def two_to_the(power):\n",
    "    return exp(2, power)\n",
    "\n",
    "two_to_the(2)"
   ]
  },
  {
   "cell_type": "markdown",
   "metadata": {},
   "source": [
    "> - 위와 같은 방법은 너무 복잡하다. functiontools.partial 이라는 것을 사용해서 간단하게 만들수 있다."
   ]
  },
  {
   "cell_type": "code",
   "execution_count": 233,
   "metadata": {
    "scrolled": false
   },
   "outputs": [
    {
     "data": {
      "text/plain": [
       "8"
      ]
     },
     "execution_count": 233,
     "metadata": {},
     "output_type": "execute_result"
    }
   ],
   "source": [
    "from functools import partial\n",
    "\n",
    "two_to_the = partial(exp, 2)  ## exp라는 함수의 첫번째 인자를 가지고 오겠다.\n",
    "two_to_the(3)"
   ]
  },
  {
   "cell_type": "code",
   "execution_count": 234,
   "metadata": {},
   "outputs": [
    {
     "data": {
      "text/plain": [
       "9"
      ]
     },
     "execution_count": 234,
     "metadata": {},
     "output_type": "execute_result"
    }
   ],
   "source": [
    "## 인자의 이름을 명시해주면 뒤에 나오는 인자에도 partial을 적용할 수 있다.\n",
    "\n",
    "square_of = partial(exp, power = 2)\n",
    "square_of(3)"
   ]
  },
  {
   "cell_type": "code",
   "execution_count": 235,
   "metadata": {
    "collapsed": true
   },
   "outputs": [],
   "source": [
    "############################# 스터디원 코드 #############################\n",
    "\n",
    "\n"
   ]
  },
  {
   "cell_type": "markdown",
   "metadata": {},
   "source": [
    "### list comprehension의 대안으로 map, reduce, filter를 사용하는 경우도 있다.\n",
    "\n",
    "### (b) map"
   ]
  },
  {
   "cell_type": "code",
   "execution_count": 236,
   "metadata": {},
   "outputs": [
    {
     "data": {
      "text/plain": [
       "[2, 4, 6, 8]"
      ]
     },
     "execution_count": 236,
     "metadata": {},
     "output_type": "execute_result"
    }
   ],
   "source": [
    "## list comprehension을 이용하여 double 함수를 여러개의 값에 적용\n",
    "\n",
    "def double(x):\n",
    "    return 2 * x\n",
    "\n",
    "xs = [1, 2, 3, 4]\n",
    "twice_xs = [double(x) for x in xs]\n",
    "twice_xs"
   ]
  },
  {
   "cell_type": "code",
   "execution_count": 237,
   "metadata": {},
   "outputs": [
    {
     "data": {
      "text/plain": [
       "<map at 0x114439da0>"
      ]
     },
     "execution_count": 237,
     "metadata": {},
     "output_type": "execute_result"
    }
   ],
   "source": [
    "twice_xs = map(double, xs)\n",
    "twice_xs # 파이썬 3에서는 map 함수를 써서 연산을 하는 객체를 만들어도 실제 결과값이 연산되지는 않는다. (iterator만 생성됨)"
   ]
  },
  {
   "cell_type": "code",
   "execution_count": 238,
   "metadata": {},
   "outputs": [
    {
     "data": {
      "text/plain": [
       "[2, 4, 6, 8]"
      ]
     },
     "execution_count": 238,
     "metadata": {},
     "output_type": "execute_result"
    }
   ],
   "source": [
    "list(twice_xs) # 이렇게해야 실제 연산이 일어나고 값이 출력된다."
   ]
  },
  {
   "cell_type": "code",
   "execution_count": 239,
   "metadata": {},
   "outputs": [
    {
     "data": {
      "text/plain": [
       "[4, 10]"
      ]
     },
     "execution_count": 239,
     "metadata": {},
     "output_type": "execute_result"
    }
   ],
   "source": [
    "## 여러개의 list를 입력해 주면 인자가 여러개인 함수에도 map을 적용할 수 있다.\n",
    "\n",
    "def multiply(x, y): return x*y\n",
    "\n",
    "products = map(multiply, [1, 2], [4, 5])\n",
    "list(products) ## [1*4, 2*5]"
   ]
  },
  {
   "cell_type": "code",
   "execution_count": 240,
   "metadata": {
    "collapsed": true
   },
   "outputs": [],
   "source": [
    "############################# 스터디원 코드 #############################\n",
    "\n",
    "\n"
   ]
  },
  {
   "cell_type": "code",
   "execution_count": 241,
   "metadata": {},
   "outputs": [
    {
     "data": {
      "text/plain": [
       "[4, 10]"
      ]
     },
     "execution_count": 241,
     "metadata": {},
     "output_type": "execute_result"
    }
   ],
   "source": [
    "## 위와 동일한 과정을 하려면 이렇게 해야된다.\n",
    "\n",
    "a = [1, 2]\n",
    "b = [4, 5]\n",
    "c = []\n",
    "for i, j in enumerate(a):\n",
    "    for k, l in enumerate(b):\n",
    "        if i == k: ## 서로 같은 위치에 있는 인자끼리만 곱해준다.\n",
    "            c.append(j * l)\n",
    "c"
   ]
  },
  {
   "cell_type": "markdown",
   "metadata": {},
   "source": [
    "### (c) filter\n",
    "> - filter는 if가 포함된 list comprehension과 동일하다."
   ]
  },
  {
   "cell_type": "code",
   "execution_count": 242,
   "metadata": {},
   "outputs": [
    {
     "data": {
      "text/plain": [
       "[2, 4]"
      ]
     },
     "execution_count": 242,
     "metadata": {},
     "output_type": "execute_result"
    }
   ],
   "source": [
    "def is_even(x):\n",
    "    \"\"\"x가 짝수면 True, 홀수면 False\"\"\"\n",
    "    return x % 2 == 0\n",
    "\n",
    "x_evens = [x for x in xs if is_even(x)]\n",
    "x_evens"
   ]
  },
  {
   "cell_type": "code",
   "execution_count": 243,
   "metadata": {},
   "outputs": [
    {
     "data": {
      "text/plain": [
       "[2, 4]"
      ]
     },
     "execution_count": 243,
     "metadata": {},
     "output_type": "execute_result"
    }
   ],
   "source": [
    "## filter(True/False 판별 함수, list)\n",
    "x_evens = filter(is_even, xs)   \n",
    "list(x_evens)"
   ]
  },
  {
   "cell_type": "code",
   "execution_count": 244,
   "metadata": {
    "collapsed": true
   },
   "outputs": [],
   "source": [
    "############################# 스터디원 코드 #############################\n",
    "\n",
    "\n"
   ]
  },
  {
   "cell_type": "code",
   "execution_count": 245,
   "metadata": {
    "scrolled": true
   },
   "outputs": [
    {
     "data": {
      "text/plain": [
       "[2, 4]"
      ]
     },
     "execution_count": 245,
     "metadata": {},
     "output_type": "execute_result"
    }
   ],
   "source": [
    "## 위 결과와 동일\n",
    "## partial을 이용해서, filter와 is_even 함수를 사용하는 list_evener 함수를 선언\n",
    "\n",
    "list_evener = partial(filter, is_even)  # filter 함수에 is_even이라는 인자를 가지고 오겠다.\n",
    "x_evens = list_evener(xs)\n",
    "list(x_evens)"
   ]
  },
  {
   "cell_type": "markdown",
   "metadata": {},
   "source": [
    "### (d) reduce"
   ]
  },
  {
   "cell_type": "markdown",
   "metadata": {},
   "source": [
    "> - reduce는 list의 모든 항목을 순차적으로 합쳐주면서 list를 하나의 값으로 표현한다."
   ]
  },
  {
   "cell_type": "code",
   "execution_count": 246,
   "metadata": {
    "scrolled": true
   },
   "outputs": [
    {
     "data": {
      "text/plain": [
       "24"
      ]
     },
     "execution_count": 246,
     "metadata": {},
     "output_type": "execute_result"
    }
   ],
   "source": [
    "# 1*2*3*4 = 24\n",
    "from functools import reduce\n",
    "\n",
    "x_product = reduce(multiply, xs)\n",
    "x_product"
   ]
  },
  {
   "cell_type": "code",
   "execution_count": 247,
   "metadata": {},
   "outputs": [
    {
     "data": {
      "text/plain": [
       "24"
      ]
     },
     "execution_count": 247,
     "metadata": {},
     "output_type": "execute_result"
    }
   ],
   "source": [
    "list_product = partial(reduce, multiply)\n",
    "list_product(xs)"
   ]
  },
  {
   "cell_type": "code",
   "execution_count": 248,
   "metadata": {
    "collapsed": true
   },
   "outputs": [],
   "source": [
    "############################# 스터디원 코드 #############################\n",
    "\n",
    "\n"
   ]
  },
  {
   "cell_type": "markdown",
   "metadata": {},
   "source": [
    "## (8) enumerate"
   ]
  },
  {
   "cell_type": "markdown",
   "metadata": {},
   "source": [
    "> - list를 반복하면서  list의 항목과 인덱스가 모두 필요한 경우가 종종있다."
   ]
  },
  {
   "cell_type": "code",
   "execution_count": 249,
   "metadata": {
    "collapsed": true
   },
   "outputs": [],
   "source": [
    "documents = ['Applications for Python', 'Python is used in many application domains. Here\\'s a sampling.', 'The Python Package Index lists thousands of third party modules for Python.', 'Web and Internet Development', 'Python offers many choices for web development:', 'Frameworks such as Django and Pyramid.', 'Micro-frameworks such as Flask and Bottle.', 'Advanced content management systems such as Plone and django CMS.', 'Python\\'s standard library supports many Internet protocols:', 'HTML and XML', 'JSON', 'E-mail processing.', 'Support for FTP, IMAP, and other Internet protocols.', 'Easy-to-use socket interface.', 'And the Package Index has yet more libraries:', 'Requests, a powerful HTTP client library.', 'BeautifulSoup, an HTML parser that can handle all sorts of oddball HTML.', 'Feedparser for parsing RSS/Atom feeds.', 'Paramiko, implementing the SSH2 protocol.', 'Twisted Python, a framework for asynchronous network programming.', 'Scientific and Numeric', 'Python is widely used in scientific and numeric computing:', 'SciPy is a collection of packages for mathematics, science, and engineering.', 'Pandas is a data analysis and modeling library.', 'IPython is a powerful interactive shell that features easy editing and recording of a work session, and supports visualizations and parallel computing.', 'The Software Carpentry Course teaches basic skills for scientific computing, running bootcamps and providing open-access teaching materials.', 'Education', 'Python is a superb language for teaching programming, both at the introductory level and in more advanced courses.', 'Books such as How to Think Like a Computer Scientist, Python Programming: An Introduction to Computer Science, and Practical Programming.', 'The Education Special Interest Group is a good place to discuss teaching issues.', 'Desktop GUIs', 'The Tk GUI library is included with most binary distributions of Python.', 'Some toolkits that are usable on several platforms are available separately:', 'wxWidgets', 'Kivy, for writing multitouch applications.', 'Qt via pyqt or pyside', 'Platform-specific toolkits are also available:', 'GTK+', 'Microsoft Foundation Classes through the win32 extensions', 'Software Development', 'Python is often used as a support language for software developers, for build control and management, testing, and in many other ways.', 'SCons for build control.', 'Buildbot and Apache Gump for automated continuous compilation and testing.', 'Roundup or Trac for bug tracking and project management.', 'Business Applications', 'Python is also used to build ERP and e-commerce systems:', 'Odoo is an all-in-one management software that offers a range of business applications that form a complete suite of enterprise management applications.', 'Tryton is a three-tier high-level general purpose application platform.']"
   ]
  },
  {
   "cell_type": "code",
   "execution_count": 250,
   "metadata": {},
   "outputs": [
    {
     "name": "stdout",
     "output_type": "stream",
     "text": [
      "0 데이터\n",
      "1 사이언스란\n",
      "2 데이터를\n",
      "3 수집하고\n",
      "4 분석하여\n",
      "5 활용하기\n",
      "6 위한\n",
      "7 모든\n",
      "8 기술의\n",
      "9 집합을\n",
      "10 말하며,\n",
      "11 컴퓨터\n",
      "12 사이언스,\n",
      "13 수학,\n",
      "14 통계학,\n",
      "15 머신\n",
      "16 러닝(machine\n",
      "17 learning),\n",
      "18 영상\n",
      "19 및\n",
      "20 신호\n",
      "21 처리\n",
      "22 등\n",
      "23 다양한\n",
      "24 학문\n",
      "25 분야가\n",
      "26 만나는\n",
      "27 영역이다.\n",
      "28 프로그래밍을\n",
      "29 포함하는\n",
      "30 컴퓨터\n",
      "31 사이언스는\n",
      "32 실제로\n",
      "33 데이터를\n",
      "34 다루기\n",
      "35 위한\n",
      "36 필수\n",
      "37 기술이며,\n",
      "38 수학과\n",
      "39 통계학은\n",
      "40 데이터\n",
      "41 분석\n",
      "42 모형의\n",
      "43 기반에\n",
      "44 깔린\n",
      "45 핵심적인\n",
      "46 개념을\n",
      "47 구체화하는\n",
      "48 언어이다.\n",
      "49 머신\n",
      "50 러닝은\n",
      "51 이러한\n",
      "52 분석\n",
      "53 결과를\n",
      "54 활용하여\n",
      "55 지금까지\n",
      "56 인간이\n",
      "57 해오던\n",
      "58 각종\n",
      "59 분석과\n",
      "60 의사\n",
      "61 판단을\n",
      "62 대신하고자\n",
      "63 하는\n",
      "64 노력이다.\n"
     ]
    }
   ],
   "source": [
    "## 여러개의 문서 집합을 돌면서 각 문서의 인덱스와 문서를 print해보자\n",
    "\n",
    "for i in range(len(document)):\n",
    "    d = document[i]\n",
    "    print(i, d)\n"
   ]
  },
  {
   "cell_type": "code",
   "execution_count": 251,
   "metadata": {
    "collapsed": true
   },
   "outputs": [],
   "source": [
    "## enumerate를 사용하면 한번에 인덱스와 항목을 가져올 수 있다.\n",
    "for i, document in enumerate(documents):\n",
    "    Counter(d)"
   ]
  },
  {
   "cell_type": "code",
   "execution_count": 252,
   "metadata": {},
   "outputs": [
    {
     "name": "stdout",
     "output_type": "stream",
     "text": [
      "0\n",
      "1\n",
      "2\n",
      "3\n",
      "4\n",
      "5\n",
      "6\n",
      "7\n",
      "8\n",
      "9\n",
      "10\n",
      "11\n",
      "12\n",
      "13\n",
      "14\n",
      "15\n",
      "16\n",
      "17\n",
      "18\n",
      "19\n",
      "20\n",
      "21\n",
      "22\n",
      "23\n",
      "24\n",
      "25\n",
      "26\n",
      "27\n",
      "28\n",
      "29\n",
      "30\n",
      "31\n",
      "32\n",
      "33\n",
      "34\n",
      "35\n",
      "36\n",
      "37\n",
      "38\n",
      "39\n",
      "40\n",
      "41\n",
      "42\n",
      "43\n",
      "44\n",
      "45\n",
      "46\n",
      "47\n"
     ]
    }
   ],
   "source": [
    "## 인덱스만 필요하다면 항목 부분을 빈값으로 받으면 된다.\n",
    "for i, _ in enumerate(documents):\n",
    "    print(i)"
   ]
  },
  {
   "cell_type": "code",
   "execution_count": 253,
   "metadata": {
    "collapsed": true
   },
   "outputs": [],
   "source": [
    "############################# 스터디원 코드 #############################\n",
    "\n",
    "\n"
   ]
  },
  {
   "cell_type": "markdown",
   "metadata": {},
   "source": [
    "## (9) zip과 agument unpacking"
   ]
  },
  {
   "cell_type": "markdown",
   "metadata": {},
   "source": [
    "> - zip은 여러개의 list를 서로 사응하는 항목의 tuple로 구성된 list로 변환해 준다."
   ]
  },
  {
   "cell_type": "code",
   "execution_count": 254,
   "metadata": {},
   "outputs": [
    {
     "data": {
      "text/plain": [
       "[('a', 1), ('b', 2), ('c', 3)]"
      ]
     },
     "execution_count": 254,
     "metadata": {},
     "output_type": "execute_result"
    }
   ],
   "source": [
    "list1 = ['a', 'b', 'c']\n",
    "list2 = [1, 2, 3]\n",
    "list(zip(list1, list2))"
   ]
  },
  {
   "cell_type": "code",
   "execution_count": 255,
   "metadata": {
    "collapsed": true
   },
   "outputs": [],
   "source": [
    "############################# 스터디원 코드 #############################\n",
    "\n",
    "\n"
   ]
  },
  {
   "cell_type": "code",
   "execution_count": 256,
   "metadata": {},
   "outputs": [
    {
     "data": {
      "text/plain": [
       "[('a', 1), ('b', 2), ('c', 3)]"
      ]
     },
     "execution_count": 256,
     "metadata": {},
     "output_type": "execute_result"
    }
   ],
   "source": [
    "## 주어진 list의 길이가 서로 다른 경우 zip은 가장 길이가 짧은 list가 끝나면 멈춘다.\n",
    "\n",
    "list1 = ['a', 'b', 'c']\n",
    "list2 = [1, 2, 3, 4]\n",
    "list(zip(list1, list2))"
   ]
  },
  {
   "cell_type": "code",
   "execution_count": 257,
   "metadata": {},
   "outputs": [
    {
     "data": {
      "text/plain": [
       "[('a', 1), ('b', 2), ('c', 3)]"
      ]
     },
     "execution_count": 257,
     "metadata": {},
     "output_type": "execute_result"
    }
   ],
   "source": [
    "list1 = ['a', 'b', 'c', 'd', 'e', 'f', 'g']\n",
    "list2 = [1, 2, 3]\n",
    "list(zip(list1, list2))"
   ]
  },
  {
   "cell_type": "code",
   "execution_count": 258,
   "metadata": {},
   "outputs": [
    {
     "data": {
      "text/plain": [
       "[('a', 1, 10)]"
      ]
     },
     "execution_count": 258,
     "metadata": {},
     "output_type": "execute_result"
    }
   ],
   "source": [
    "list1 = ['a', 'b', 'c', 'd', 'e', 'f', 'g']\n",
    "list2 = [1, 2, 3]\n",
    "list3 = [10]\n",
    "list(zip(list1, list2, list3))"
   ]
  },
  {
   "cell_type": "code",
   "execution_count": 259,
   "metadata": {
    "collapsed": true
   },
   "outputs": [],
   "source": [
    "############################# 스터디원 코드 #############################\n",
    "\n",
    "\n"
   ]
  },
  {
   "cell_type": "markdown",
   "metadata": {},
   "source": [
    "> - 묶인 list argument unpacking을 이용해서 다시 풀어줄 수도 있다."
   ]
  },
  {
   "cell_type": "code",
   "execution_count": 260,
   "metadata": {
    "collapsed": true
   },
   "outputs": [],
   "source": [
    "## 여기서 사용되는 *는 원래 argument unpacking(인자 해체)를 할 때 사용되는 문법이다.\n",
    "## 이를 사용하면 pairs 내의 항목들을 zip 함수에 개별적인 인자로 전달해준다.\n",
    "\n",
    "pairs = [('a', 1), ('b', 2), ('c', 3)]\n",
    "letters, numbers = zip(*pairs)"
   ]
  },
  {
   "cell_type": "code",
   "execution_count": 261,
   "metadata": {},
   "outputs": [
    {
     "data": {
      "text/plain": [
       "('a', 'b', 'c')"
      ]
     },
     "execution_count": 261,
     "metadata": {},
     "output_type": "execute_result"
    }
   ],
   "source": [
    "letters"
   ]
  },
  {
   "cell_type": "code",
   "execution_count": 262,
   "metadata": {},
   "outputs": [
    {
     "data": {
      "text/plain": [
       "(1, 2, 3)"
      ]
     },
     "execution_count": 262,
     "metadata": {},
     "output_type": "execute_result"
    }
   ],
   "source": [
    "numbers"
   ]
  },
  {
   "cell_type": "code",
   "execution_count": 263,
   "metadata": {
    "collapsed": true
   },
   "outputs": [],
   "source": [
    "## 아래와 같이 3개의 tuple을 zip 하는 것과 같다.\n",
    "\n",
    "letters, numbers = zip(('a', 1), ('b', 2), ('c', 3))"
   ]
  },
  {
   "cell_type": "code",
   "execution_count": 264,
   "metadata": {
    "scrolled": true
   },
   "outputs": [
    {
     "data": {
      "text/plain": [
       "('a', 'b', 'c')"
      ]
     },
     "execution_count": 264,
     "metadata": {},
     "output_type": "execute_result"
    }
   ],
   "source": [
    "letters"
   ]
  },
  {
   "cell_type": "code",
   "execution_count": 265,
   "metadata": {},
   "outputs": [
    {
     "data": {
      "text/plain": [
       "(1, 2, 3)"
      ]
     },
     "execution_count": 265,
     "metadata": {},
     "output_type": "execute_result"
    }
   ],
   "source": [
    "numbers"
   ]
  },
  {
   "cell_type": "markdown",
   "metadata": {},
   "source": [
    "## (10) args와 kwargs"
   ]
  },
  {
   "cell_type": "markdown",
   "metadata": {},
   "source": [
    "> - 특정 함수 f를 입력하며 f의 결과를 두배로 만드는 함수를 반환해 주는 고차 함수를 만들고 싶다고 해보자."
   ]
  },
  {
   "cell_type": "code",
   "execution_count": null,
   "metadata": {
    "collapsed": true
   },
   "outputs": [],
   "source": [
    "def doubler(f):\n",
    "    def g(x):\n",
    "        return 2 * f(x)\n",
    "    return g"
   ]
  },
  {
   "cell_type": "code",
   "execution_count": null,
   "metadata": {
    "collapsed": true
   },
   "outputs": [],
   "source": [
    "## 이 함수는 인자가 하나가 들어오는 함수의 경우에만 작동한다.\n",
    "\n",
    "def f1(x):\n",
    "    return x + 1\n",
    "\n",
    "g = doubler(f1)\n",
    "g(3)"
   ]
  },
  {
   "cell_type": "code",
   "execution_count": null,
   "metadata": {
    "collapsed": true
   },
   "outputs": [],
   "source": [
    "## 두개 이상의 인자를 받는 함수의 경우에는 문제가 발생하다.\n",
    "\n",
    "def f2(x, y):\n",
    "    return x + y\n",
    "\n",
    "g = doubler(f2)\n",
    "g(1, 2)"
   ]
  },
  {
   "cell_type": "code",
   "execution_count": 259,
   "metadata": {
    "collapsed": true
   },
   "outputs": [],
   "source": [
    "############################# 스터디원 코드 #############################\n",
    "\n",
    "\n"
   ]
  },
  {
   "cell_type": "markdown",
   "metadata": {},
   "source": [
    "> - 임의의 수의 인자를 받는 함수를 만들어주면 이 문제를 해결할 수 있다.\n",
    "- 앞서 말한 argument unpacking을 사용한다."
   ]
  },
  {
   "cell_type": "code",
   "execution_count": null,
   "metadata": {
    "collapsed": true
   },
   "outputs": [],
   "source": [
    "def magic(*args, **kargs):\n",
    "    print('unnamed args : ', args)\n",
    "    print('keyword args : ', kargs)"
   ]
  },
  {
   "cell_type": "code",
   "execution_count": null,
   "metadata": {
    "collapsed": true
   },
   "outputs": [],
   "source": [
    "## agrs는 이름없는 인자로 구성된 tuple이며, kwargs는 이름이 주어진 인자로 구성된 dict이다.\n",
    "\n",
    "magic(1, 2, 3, 4, 5, key1 = 'word1', key2 = 'word2')"
   ]
  },
  {
   "cell_type": "code",
   "execution_count": null,
   "metadata": {
    "collapsed": true
   },
   "outputs": [],
   "source": [
    "def other_way_magic(x, y, z):\n",
    "    return x + y + z"
   ]
  },
  {
   "cell_type": "code",
   "execution_count": null,
   "metadata": {
    "collapsed": true
   },
   "outputs": [],
   "source": [
    "x_y_list = [1, 2]\n",
    "z_dict = {'z' : 3}\n",
    "\n",
    "other_way_magic(*x_y_list, **z_dict)"
   ]
  },
  {
   "cell_type": "code",
   "execution_count": null,
   "metadata": {
    "collapsed": true
   },
   "outputs": [],
   "source": [
    "## 이 방식으로 앞서 발생한 문제를 해결해보자\n",
    "\n",
    "def doubler_correct(f):\n",
    "    \"\"\"f의 인자에 상관없이 작동함\"\"\"\n",
    "    def g(*args, **kwargs):\n",
    "        \"\"\"g의 인자가 무엇이든 간에 f로 보내줌\"\"\"\n",
    "        return 2 * f(*args, **kwargs)\n",
    "    return g"
   ]
  },
  {
   "cell_type": "code",
   "execution_count": null,
   "metadata": {
    "collapsed": true
   },
   "outputs": [],
   "source": [
    "g = doubler_correct(f2)\n",
    "g(1, 2)"
   ]
  },
  {
   "cell_type": "code",
   "execution_count": 259,
   "metadata": {
    "collapsed": true
   },
   "outputs": [],
   "source": [
    "############################# 스터디원 코드 #############################\n",
    "\n",
    "\n"
   ]
  },
  {
   "cell_type": "code",
   "execution_count": null,
   "metadata": {
    "collapsed": true
   },
   "outputs": [],
   "source": []
  },
  {
   "cell_type": "code",
   "execution_count": null,
   "metadata": {
    "collapsed": true
   },
   "outputs": [],
   "source": []
  }
 ],
 "metadata": {
  "anaconda-cloud": {},
  "kernelspec": {
   "display_name": "Python [conda root]",
   "language": "python",
   "name": "conda-root-py"
  },
  "language_info": {
   "codemirror_mode": {
    "name": "ipython",
    "version": 3
   },
   "file_extension": ".py",
   "mimetype": "text/x-python",
   "name": "python",
   "nbconvert_exporter": "python",
   "pygments_lexer": "ipython3",
   "version": "3.5.4"
  }
 },
 "nbformat": 4,
 "nbformat_minor": 1
}
