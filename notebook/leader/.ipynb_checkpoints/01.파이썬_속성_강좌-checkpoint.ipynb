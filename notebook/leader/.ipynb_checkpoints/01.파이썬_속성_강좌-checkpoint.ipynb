{
 "cells": [
  {
   "cell_type": "markdown",
   "metadata": {},
   "source": [
    "# 1. 파이썬 설치하기\n",
    "\n",
    "## (1) Anaconda 설치\n",
    "- https://www.anaconda.com/download/\n",
    "    - Python 3.6 version 설치\n",
    "    - 교재의 코드는 2.7 기준으로 작성되어 있지만 이번 스터디에서는 3.6 버전으로 작성된 코드로 진행할 예정입니다.\n",
    "    \n",
    "- Why Anaconda ? \n",
    "    - 데이터 과학에 필요한 대부분의 패키지들을 한 번에 설치 할 수 있음. ( scikit-learn, numpy, pandas 등 )\n",
    "    - 아키텍처별로 server가 나눠져있고 source code들을 다 빌드를 해놓았음.\n",
    "        - windows 에서도 문제없이 사용 할 수 있음.\n",
    "\n",
    "## (2) jupyter notebook 실행\n",
    "                        \n"
   ]
  },
  {
   "cell_type": "markdown",
   "metadata": {},
   "source": [
    "--------------"
   ]
  },
  {
   "cell_type": "markdown",
   "metadata": {},
   "source": [
    "# 2. 파이썬 속성 강좌 1\n",
    "\n",
    "## (1) 들여쓰기\n",
    ">- 많은 프로그래밍 언어에서는 코드의 단락을 구분하는데 중괄호 ( {} )를 사용한다.\n",
    "- 파이썬은 들여쓰기를 사용해서 코드의 단락을 구분한다.\n",
    "    - tab을 누르면 들여쓰기 가능\n",
    "- 공백문자 (whitespace)는 소괄호와 대괄호 안에서는 무시된다."
   ]
  },
  {
   "cell_type": "code",
   "execution_count": 1,
   "metadata": {
    "scrolled": true
   },
   "outputs": [
    {
     "name": "stdout",
     "output_type": "stream",
     "text": [
      "1\n",
      "1\n",
      "2\n",
      "2\n",
      "3\n",
      "3\n",
      "4\n",
      "4\n",
      "5\n",
      "5\n",
      "6\n",
      "1\n",
      "2\n",
      "1\n",
      "3\n",
      "2\n",
      "4\n",
      "3\n",
      "5\n",
      "4\n",
      "6\n",
      "5\n",
      "7\n",
      "2\n",
      "3\n",
      "1\n",
      "4\n",
      "2\n",
      "5\n",
      "3\n",
      "6\n",
      "4\n",
      "7\n",
      "5\n",
      "8\n",
      "3\n",
      "4\n",
      "1\n",
      "5\n",
      "2\n",
      "6\n",
      "3\n",
      "7\n",
      "4\n",
      "8\n",
      "5\n",
      "9\n",
      "4\n",
      "5\n",
      "1\n",
      "6\n",
      "2\n",
      "7\n",
      "3\n",
      "8\n",
      "4\n",
      "9\n",
      "5\n",
      "10\n",
      "5\n",
      "done looping\n"
     ]
    }
   ],
   "source": [
    "for i in [1, 2, 3, 4, 5]:\n",
    "    print(i)                  ## for i 단락의 첫 번째 줄\n",
    "    for j in [1, 2, 3, 4, 5]:\n",
    "        print(j)              ## for j 단락의 첫 번째 줄\n",
    "        print(i + j)          ## for j 단락의 마지막 줄\n",
    "    print(i)                  ## for i 단락의 마지막 줄\n",
    "print('done looping')"
   ]
  },
  {
   "cell_type": "code",
   "execution_count": 2,
   "metadata": {
    "scrolled": true
   },
   "outputs": [
    {
     "ename": "IndentationError",
     "evalue": "unexpected indent (<ipython-input-2-ce7b269e58d2>, line 4)",
     "output_type": "error",
     "traceback": [
      "\u001b[0;36m  File \u001b[0;32m\"<ipython-input-2-ce7b269e58d2>\"\u001b[0;36m, line \u001b[0;32m4\u001b[0m\n\u001b[0;31m    [4, 5, 6],\u001b[0m\n\u001b[0m    ^\u001b[0m\n\u001b[0;31mIndentationError\u001b[0m\u001b[0;31m:\u001b[0m unexpected indent\n"
     ]
    }
   ],
   "source": [
    "## 소괄호나 대괄호로 묶어 주지 않으면 에러 발생\n",
    "\n",
    "list_of_lists = [1, 2, 3],\n",
    "                [4, 5, 6],\n",
    "                [7, 8, 9]"
   ]
  },
  {
   "cell_type": "code",
   "execution_count": 3,
   "metadata": {
    "collapsed": true
   },
   "outputs": [],
   "source": [
    "list_of_lists = [[1, 2, 3],\n",
    "                [4, 5, 6],\n",
    "                [7, 8, 9]]"
   ]
  },
  {
   "cell_type": "markdown",
   "metadata": {},
   "source": [
    "## (2) 모듈\n",
    ">- 파이썬에 기본적으로 포함된 몇몇 기능과 각자 다운 받은 써드파티 패키지들은 파이썬을 실행시킬 때 함께 실행되지 않는다.\n",
    "- 패키지들을 사용하기 위해서는 모듈을 불러오는 import 를 사용해야 한다."
   ]
  },
  {
   "cell_type": "code",
   "execution_count": 5,
   "metadata": {
    "collapsed": true
   },
   "outputs": [],
   "source": [
    "# 패키지명이 길거나 복잡한 경우에는 별칭 (alias)를 사용하면 더 쉽게 사용 가능하다.\n",
    "\n",
    "import matplotlib.pyplot as plt"
   ]
  },
  {
   "cell_type": "code",
   "execution_count": 6,
   "metadata": {
    "collapsed": true
   },
   "outputs": [],
   "source": [
    "# 모듈 하나에서 특정 기능만 필요하다면, 해당 기능만 명시해서 불러올 수 있다.\n",
    "\n",
    "from collections import defaultdict, Counter\n",
    "lookup = defaultdict(int)\n",
    "my_counter = Counter()"
   ]
  },
  {
   "cell_type": "code",
   "execution_count": 7,
   "metadata": {
    "scrolled": true
   },
   "outputs": [
    {
     "name": "stdout",
     "output_type": "stream",
     "text": [
      "10\n"
     ]
    }
   ],
   "source": [
    "# 한 번에 모든 기능들을 불러와서 기존 변수들에 덮어쓰는 것은 안된다.\n",
    "\n",
    "match = 10\n",
    "print(match)"
   ]
  },
  {
   "cell_type": "code",
   "execution_count": 8,
   "metadata": {},
   "outputs": [
    {
     "name": "stdout",
     "output_type": "stream",
     "text": [
      "<function match at 0x101ef1ae8>\n"
     ]
    }
   ],
   "source": [
    "match = 10\n",
    "from re import *\n",
    "print(match) ## re 패키지에는 match라는 메서드가 있기 때문에 import를 하면서 match라는 새로운 객체가 생성된다."
   ]
  },
  {
   "cell_type": "markdown",
   "metadata": {},
   "source": [
    "## (3) 연산"
   ]
  },
  {
   "cell_type": "code",
   "execution_count": 9,
   "metadata": {
    "collapsed": true
   },
   "outputs": [],
   "source": [
    "# from __future__ import division\n",
    "# python 3.x 버전에서는 선언할 필요가 없다."
   ]
  },
  {
   "cell_type": "markdown",
   "metadata": {},
   "source": [
    "## (4) 함수"
   ]
  },
  {
   "cell_type": "markdown",
   "metadata": {},
   "source": [
    ">- 함수란, 0개 혹은 그 이상의 인자를 받아 결과를 출력하는 규칙이다.\n",
    "- 파이썬에서는 def를 이용해 함수를 정의한다."
   ]
  },
  {
   "cell_type": "code",
   "execution_count": 10,
   "metadata": {},
   "outputs": [
    {
     "data": {
      "text/plain": [
       "4"
      ]
     },
     "execution_count": 10,
     "metadata": {},
     "output_type": "execute_result"
    }
   ],
   "source": [
    "def double(x):\n",
    "    \"\"\"함수의 설명을 적는 곳\"\"\"\n",
    "    return x*2\n",
    "\n",
    "double(2)"
   ]
  },
  {
   "cell_type": "markdown",
   "metadata": {},
   "source": [
    "- 파이썬 함수들은 변수로 할당되거나 함수의 인자로 전달될 수 있다는 점에서 일급 함수의 특성을 가진다.\n",
    "    - 일급 함수 : 일급 함수는 스스로 객체로 취급되는 함수, 다른 함수에 파라미터로 전달하고 반환받을 수 있고, 그냥 변수로 저장할 수도 있는 함수"
   ]
  },
  {
   "cell_type": "code",
   "execution_count": 11,
   "metadata": {
    "collapsed": true
   },
   "outputs": [],
   "source": [
    "## f 라는 함수를 인자로 받아 f(1)을 출력하는 함수\n",
    "\n",
    "def apply_to_one(f):\n",
    "    return f(1)"
   ]
  },
  {
   "cell_type": "code",
   "execution_count": 12,
   "metadata": {
    "collapsed": true
   },
   "outputs": [],
   "source": [
    "my_double = double # 방금 정의한 함수를 나타냄"
   ]
  },
  {
   "cell_type": "code",
   "execution_count": 13,
   "metadata": {
    "collapsed": true
   },
   "outputs": [],
   "source": [
    "x = apply_to_one(my_double)"
   ]
  },
  {
   "cell_type": "code",
   "execution_count": 14,
   "metadata": {},
   "outputs": [
    {
     "data": {
      "text/plain": [
       "2"
      ]
     },
     "execution_count": 14,
     "metadata": {},
     "output_type": "execute_result"
    }
   ],
   "source": [
    "x"
   ]
  },
  {
   "cell_type": "code",
   "execution_count": 15,
   "metadata": {
    "collapsed": true
   },
   "outputs": [],
   "source": [
    "# 짧은 익명의 람다 함수 (lambda function)도 간편하게 만들 수 있다.\n",
    "\n",
    "y = apply_to_one(lambda x: x + 4) ## f 자리에 익명의 람다 함수를 인자로 넣음."
   ]
  },
  {
   "cell_type": "code",
   "execution_count": 16,
   "metadata": {},
   "outputs": [
    {
     "data": {
      "text/plain": [
       "5"
      ]
     },
     "execution_count": 16,
     "metadata": {},
     "output_type": "execute_result"
    }
   ],
   "source": [
    "y"
   ]
  },
  {
   "cell_type": "code",
   "execution_count": 17,
   "metadata": {
    "collapsed": true
   },
   "outputs": [],
   "source": [
    "# 변수에 람다 함수를 할당할 수도 있다. 하지만, 가급적이면 피하도록 하자.\n",
    "\n",
    "another_double = lambda x: 2 * x\n",
    "def another_double(x): return 2 * x"
   ]
  },
  {
   "cell_type": "code",
   "execution_count": 18,
   "metadata": {
    "collapsed": true
   },
   "outputs": [],
   "source": [
    "# 함수의 인자에 기본값을 할당할 수 있는데, 기본값 이외의 값을 전달하고 싶을 때는 값을 직접 명시해주면 된다.\n",
    "\n",
    "def my_print(message=\"my default message\"):\n",
    "    print(message)"
   ]
  },
  {
   "cell_type": "code",
   "execution_count": 19,
   "metadata": {},
   "outputs": [
    {
     "name": "stdout",
     "output_type": "stream",
     "text": [
      "hello world\n"
     ]
    }
   ],
   "source": [
    "my_print(\"hello world\")"
   ]
  },
  {
   "cell_type": "code",
   "execution_count": 20,
   "metadata": {},
   "outputs": [
    {
     "name": "stdout",
     "output_type": "stream",
     "text": [
      "my default message\n"
     ]
    }
   ],
   "source": [
    "my_print()"
   ]
  },
  {
   "cell_type": "code",
   "execution_count": 21,
   "metadata": {
    "collapsed": true
   },
   "outputs": [],
   "source": [
    "# 인자의 이름을 명시해주면 더 편리하다.\n",
    "\n",
    "def subtract(a=0, b=0):\n",
    "    return a-b"
   ]
  },
  {
   "cell_type": "code",
   "execution_count": 22,
   "metadata": {},
   "outputs": [
    {
     "data": {
      "text/plain": [
       "0"
      ]
     },
     "execution_count": 22,
     "metadata": {},
     "output_type": "execute_result"
    }
   ],
   "source": [
    "subtract() "
   ]
  },
  {
   "cell_type": "code",
   "execution_count": 23,
   "metadata": {},
   "outputs": [
    {
     "data": {
      "text/plain": [
       "5"
      ]
     },
     "execution_count": 23,
     "metadata": {},
     "output_type": "execute_result"
    }
   ],
   "source": [
    "subtract(10, 5)"
   ]
  },
  {
   "cell_type": "code",
   "execution_count": 24,
   "metadata": {},
   "outputs": [
    {
     "data": {
      "text/plain": [
       "-5"
      ]
     },
     "execution_count": 24,
     "metadata": {},
     "output_type": "execute_result"
    }
   ],
   "source": [
    "subtract(0, 5)"
   ]
  },
  {
   "cell_type": "code",
   "execution_count": 25,
   "metadata": {},
   "outputs": [
    {
     "data": {
      "text/plain": [
       "-5"
      ]
     },
     "execution_count": 25,
     "metadata": {},
     "output_type": "execute_result"
    }
   ],
   "source": [
    "subtract(b = 5) "
   ]
  },
  {
   "cell_type": "markdown",
   "metadata": {},
   "source": [
    "## (5) 문자열"
   ]
  },
  {
   "cell_type": "markdown",
   "metadata": {},
   "source": [
    ">- 문자열 (string)은 작은 따옴표 (') 또는 큰 따옴표 (\")로 묶어 나타낸다."
   ]
  },
  {
   "cell_type": "code",
   "execution_count": 26,
   "metadata": {
    "collapsed": true
   },
   "outputs": [],
   "source": [
    "single_quoted_string = 'data science'\n",
    "double_quoted_string = \"data science\""
   ]
  },
  {
   "cell_type": "code",
   "execution_count": 27,
   "metadata": {
    "collapsed": true
   },
   "outputs": [],
   "source": [
    "# - 몇몇 특수문자를 인코딩할 때 역슬래시를 사용한다.\n",
    "#     - \\t, \\n, \\', \\\" 등\n",
    "\n",
    "tab_tring = '\\t' # 탭을 의미하는 문자열"
   ]
  },
  {
   "cell_type": "code",
   "execution_count": 28,
   "metadata": {},
   "outputs": [
    {
     "name": "stdout",
     "output_type": "stream",
     "text": [
      "\t\n"
     ]
    }
   ],
   "source": [
    "print(tab_tring)"
   ]
  },
  {
   "cell_type": "code",
   "execution_count": 29,
   "metadata": {},
   "outputs": [
    {
     "name": "stdout",
     "output_type": "stream",
     "text": [
      "hello \t world\n"
     ]
    }
   ],
   "source": [
    "print('hello \\t world')"
   ]
  },
  {
   "cell_type": "markdown",
   "metadata": {},
   "source": [
    "## (6) 예외처리"
   ]
  },
  {
   "cell_type": "markdown",
   "metadata": {},
   "source": [
    ">- 코드가 잘못됐을 때 파이썬은 예외(exception)가 발생했음을 알려준다. 예외를 제대로 처리해 주지 않으면 프로그램이 죽는데, 이를 방지하기 위해 사용할 수 있는 것이 try와 except이다.\n"
   ]
  },
  {
   "cell_type": "code",
   "execution_count": 30,
   "metadata": {},
   "outputs": [
    {
     "ename": "ZeroDivisionError",
     "evalue": "division by zero",
     "output_type": "error",
     "traceback": [
      "\u001b[0;31m---------------------------------------------------------------------------\u001b[0m",
      "\u001b[0;31mZeroDivisionError\u001b[0m                         Traceback (most recent call last)",
      "\u001b[0;32m<ipython-input-30-4f9ea8ea70f8>\u001b[0m in \u001b[0;36m<module>\u001b[0;34m()\u001b[0m\n\u001b[0;32m----> 1\u001b[0;31m \u001b[0mprint\u001b[0m\u001b[0;34m(\u001b[0m\u001b[0;36m0\u001b[0m\u001b[0;34m/\u001b[0m\u001b[0;36m0\u001b[0m\u001b[0;34m)\u001b[0m\u001b[0;34m\u001b[0m\u001b[0m\n\u001b[0m",
      "\u001b[0;31mZeroDivisionError\u001b[0m: division by zero"
     ]
    }
   ],
   "source": [
    "print(0/0)"
   ]
  },
  {
   "cell_type": "code",
   "execution_count": 31,
   "metadata": {},
   "outputs": [
    {
     "name": "stdout",
     "output_type": "stream",
     "text": [
      "cannot divide by zero\n"
     ]
    }
   ],
   "source": [
    "try:\n",
    "    print(0/0)\n",
    "except ZeroDivisionError:\n",
    "    print('cannot divide by zero')"
   ]
  },
  {
   "cell_type": "markdown",
   "metadata": {},
   "source": [
    "## (7) list"
   ]
  },
  {
   "cell_type": "markdown",
   "metadata": {},
   "source": [
    ">- 순서가 있는 자료의 집합, 다른 언어의 배열과 유사하지만 기능이 좀 더 풍부하다."
   ]
  },
  {
   "cell_type": "code",
   "execution_count": 32,
   "metadata": {
    "collapsed": true
   },
   "outputs": [],
   "source": [
    "integer_list = [1, 2, 3]\n",
    "heterogeneous_list = ['string', 0.1, True]  ## 하나의 list에 여러 자료형이 들어갈 수 있다.\n",
    "list_of_lists = [integer_list, heterogeneous_list, []]"
   ]
  },
  {
   "cell_type": "code",
   "execution_count": 33,
   "metadata": {},
   "outputs": [
    {
     "data": {
      "text/plain": [
       "3"
      ]
     },
     "execution_count": 33,
     "metadata": {},
     "output_type": "execute_result"
    }
   ],
   "source": [
    "len(integer_list)"
   ]
  },
  {
   "cell_type": "code",
   "execution_count": 34,
   "metadata": {
    "scrolled": true
   },
   "outputs": [
    {
     "data": {
      "text/plain": [
       "6"
      ]
     },
     "execution_count": 34,
     "metadata": {},
     "output_type": "execute_result"
    }
   ],
   "source": [
    "sum(integer_list)\n",
    "\n",
    "# len과 sum은 내장함수이다."
   ]
  },
  {
   "cell_type": "code",
   "execution_count": 35,
   "metadata": {
    "collapsed": true
   },
   "outputs": [],
   "source": [
    "# 대괄호를 사용해 list의 n번째 값을 불러오거나 설정할 수 있다.\n",
    "# 책에 나와있는 range(10)은 generator 입니다. generator의 개념은 나중에 설명.\n",
    "\n",
    "x = list(range(10)) "
   ]
  },
  {
   "cell_type": "code",
   "execution_count": 36,
   "metadata": {
    "scrolled": false
   },
   "outputs": [
    {
     "data": {
      "text/plain": [
       "[0, 1, 2, 3, 4, 5, 6, 7, 8, 9]"
      ]
     },
     "execution_count": 36,
     "metadata": {},
     "output_type": "execute_result"
    }
   ],
   "source": [
    "x"
   ]
  },
  {
   "cell_type": "code",
   "execution_count": 37,
   "metadata": {},
   "outputs": [
    {
     "data": {
      "text/plain": [
       "0"
      ]
     },
     "execution_count": 37,
     "metadata": {},
     "output_type": "execute_result"
    }
   ],
   "source": [
    "# x list의 첫번째 값\n",
    "\n",
    "x[0] "
   ]
  },
  {
   "cell_type": "code",
   "execution_count": 38,
   "metadata": {},
   "outputs": [
    {
     "data": {
      "text/plain": [
       "1"
      ]
     },
     "execution_count": 38,
     "metadata": {},
     "output_type": "execute_result"
    }
   ],
   "source": [
    "# x list의 두번째 값\n",
    "\n",
    "x[1] "
   ]
  },
  {
   "cell_type": "code",
   "execution_count": 39,
   "metadata": {},
   "outputs": [
    {
     "data": {
      "text/plain": [
       "9"
      ]
     },
     "execution_count": 39,
     "metadata": {},
     "output_type": "execute_result"
    }
   ],
   "source": [
    "# x list의 마지막 값\n",
    "\n",
    "x[-1] "
   ]
  },
  {
   "cell_type": "code",
   "execution_count": 40,
   "metadata": {},
   "outputs": [
    {
     "data": {
      "text/plain": [
       "8"
      ]
     },
     "execution_count": 40,
     "metadata": {},
     "output_type": "execute_result"
    }
   ],
   "source": [
    "# x list의 뒤에서 두번째 값\n",
    "\n",
    "x[-2] "
   ]
  },
  {
   "cell_type": "code",
   "execution_count": 41,
   "metadata": {
    "collapsed": true
   },
   "outputs": [],
   "source": [
    "# 위 방식을 통해 i번째의 값을 임의로 바꿀 수 있다.\n",
    "\n",
    "x[0] = -1"
   ]
  },
  {
   "cell_type": "code",
   "execution_count": 42,
   "metadata": {},
   "outputs": [
    {
     "data": {
      "text/plain": [
       "[-1, 1, 2, 3, 4, 5, 6, 7, 8, 9]"
      ]
     },
     "execution_count": 42,
     "metadata": {},
     "output_type": "execute_result"
    }
   ],
   "source": [
    "x"
   ]
  },
  {
   "cell_type": "code",
   "execution_count": 43,
   "metadata": {},
   "outputs": [
    {
     "data": {
      "text/plain": [
       "[-1, 1, 2]"
      ]
     },
     "execution_count": 43,
     "metadata": {},
     "output_type": "execute_result"
    }
   ],
   "source": [
    "# 대괄호를 사용해서 list를 나눌 수도 있다.\n",
    "\n",
    "first_three = x[:3] ## 처음 값 부터 세번째 값까지\n",
    "first_three"
   ]
  },
  {
   "cell_type": "code",
   "execution_count": 44,
   "metadata": {},
   "outputs": [
    {
     "data": {
      "text/plain": [
       "[3, 4, 5, 6, 7, 8, 9]"
      ]
     },
     "execution_count": 44,
     "metadata": {},
     "output_type": "execute_result"
    }
   ],
   "source": [
    "# 네 번째 값부터 마지막 값까지 출력\n",
    "\n",
    "three_to_end = x[3:]\n",
    "three_to_end"
   ]
  },
  {
   "cell_type": "code",
   "execution_count": 45,
   "metadata": {},
   "outputs": [
    {
     "data": {
      "text/plain": [
       "[1, 2, 3, 4, 5, 6, 7, 8]"
      ]
     },
     "execution_count": 45,
     "metadata": {},
     "output_type": "execute_result"
    }
   ],
   "source": [
    "# 두 번째 값부터 마지막 앞 값까지 출력\n",
    "\n",
    "without_first_and_last = x[1:-1]\n",
    "without_first_and_last"
   ]
  },
  {
   "cell_type": "code",
   "execution_count": 46,
   "metadata": {},
   "outputs": [
    {
     "data": {
      "text/plain": [
       "[-1, 1, 2, 3, 4, 5, 6, 7, 8, 9]"
      ]
     },
     "execution_count": 46,
     "metadata": {},
     "output_type": "execute_result"
    }
   ],
   "source": [
    "# list 처음부터 끝까지\n",
    "## 반드시 이렇게해야만 copy가 된다.\n",
    "\n",
    "copy_of_x = x[:]\n",
    "copy_of_x"
   ]
  },
  {
   "cell_type": "code",
   "execution_count": 47,
   "metadata": {
    "scrolled": true
   },
   "outputs": [
    {
     "data": {
      "text/plain": [
       "True"
      ]
     },
     "execution_count": 47,
     "metadata": {},
     "output_type": "execute_result"
    }
   ],
   "source": [
    "# in 연산자를 사용하면 list안에서 항목의 존재 여부를 확인할 수 있다.\n",
    "\n",
    "1 in [1, 2, 3]"
   ]
  },
  {
   "cell_type": "code",
   "execution_count": 48,
   "metadata": {},
   "outputs": [
    {
     "data": {
      "text/plain": [
       "False"
      ]
     },
     "execution_count": 48,
     "metadata": {},
     "output_type": "execute_result"
    }
   ],
   "source": [
    "0 in [1, 2, 3]"
   ]
  },
  {
   "cell_type": "markdown",
   "metadata": {},
   "source": [
    "*** 이 방식은 list의 항목을 하나씩 모두 확인해 보기 때문에 list의 크기가 작을 때만 사용하도록 하자. ***"
   ]
  },
  {
   "cell_type": "code",
   "execution_count": 49,
   "metadata": {},
   "outputs": [
    {
     "data": {
      "text/plain": [
       "[1, 2, 3, 4, 5, 6]"
      ]
     },
     "execution_count": 49,
     "metadata": {},
     "output_type": "execute_result"
    }
   ],
   "source": [
    "# 두개의 list를 간단한 방법으로 연결시킬 수 있다.\n",
    "\n",
    "x = [1, 2, 3]\n",
    "x.extend([4, 5, 6])\n",
    "x"
   ]
  },
  {
   "cell_type": "code",
   "execution_count": 50,
   "metadata": {},
   "outputs": [
    {
     "data": {
      "text/plain": [
       "[1, 2, 3]"
      ]
     },
     "execution_count": 50,
     "metadata": {},
     "output_type": "execute_result"
    }
   ],
   "source": [
    "# x를 수정하고 싶지 않다면 list를 더해줄 수도 있다.\n",
    "\n",
    "x = [1, 2, 3]\n",
    "y = x + [4, 5, 6]\n",
    "x"
   ]
  },
  {
   "cell_type": "code",
   "execution_count": 51,
   "metadata": {},
   "outputs": [
    {
     "data": {
      "text/plain": [
       "[1, 2, 3, 4, 5, 6]"
      ]
     },
     "execution_count": 51,
     "metadata": {},
     "output_type": "execute_result"
    }
   ],
   "source": [
    "y"
   ]
  },
  {
   "cell_type": "code",
   "execution_count": 52,
   "metadata": {},
   "outputs": [
    {
     "data": {
      "text/plain": [
       "[1, 2, 3, 0]"
      ]
     },
     "execution_count": 52,
     "metadata": {},
     "output_type": "execute_result"
    }
   ],
   "source": [
    "# list에 항목을 하나씩 추가해주는 방법도 있다.\n",
    "\n",
    "x = [1, 2, 3]\n",
    "x.append(0)\n",
    "x"
   ]
  },
  {
   "cell_type": "code",
   "execution_count": 53,
   "metadata": {},
   "outputs": [
    {
     "data": {
      "text/plain": [
       "[1, 2, 3, 0]"
      ]
     },
     "execution_count": 53,
     "metadata": {},
     "output_type": "execute_result"
    }
   ],
   "source": [
    "x"
   ]
  },
  {
   "cell_type": "code",
   "execution_count": 54,
   "metadata": {
    "scrolled": true
   },
   "outputs": [
    {
     "data": {
      "text/plain": [
       "0"
      ]
     },
     "execution_count": 54,
     "metadata": {},
     "output_type": "execute_result"
    }
   ],
   "source": [
    "y = x[-1]\n",
    "y"
   ]
  },
  {
   "cell_type": "code",
   "execution_count": 55,
   "metadata": {},
   "outputs": [
    {
     "data": {
      "text/plain": [
       "4"
      ]
     },
     "execution_count": 55,
     "metadata": {},
     "output_type": "execute_result"
    }
   ],
   "source": [
    "z = len(x)\n",
    "z"
   ]
  },
  {
   "cell_type": "code",
   "execution_count": 56,
   "metadata": {},
   "outputs": [
    {
     "data": {
      "text/plain": [
       "1"
      ]
     },
     "execution_count": 56,
     "metadata": {},
     "output_type": "execute_result"
    }
   ],
   "source": [
    "# list 안에 몇 개의 항목이 존재하는지 알고 있다면 손쉽게 list를 풀 수도 있다. 이 과정을 unpack이라고 한다.\n",
    "\n",
    "x, y = [1, 2]\n",
    "x"
   ]
  },
  {
   "cell_type": "code",
   "execution_count": 57,
   "metadata": {},
   "outputs": [
    {
     "data": {
      "text/plain": [
       "2"
      ]
     },
     "execution_count": 57,
     "metadata": {},
     "output_type": "execute_result"
    }
   ],
   "source": [
    "y"
   ]
  },
  {
   "cell_type": "code",
   "execution_count": 58,
   "metadata": {},
   "outputs": [
    {
     "data": {
      "text/plain": [
       "2"
      ]
     },
     "execution_count": 58,
     "metadata": {},
     "output_type": "execute_result"
    }
   ],
   "source": [
    "# 양쪽 항목의 개수가 다르다면 ValueError가 발생한다. 보통 버릴 항목은 밑줄로 표시한다.\n",
    "\n",
    "_, y = [1, 2]\n",
    "y"
   ]
  },
  {
   "cell_type": "markdown",
   "metadata": {},
   "source": [
    "## (8) tuple"
   ]
  },
  {
   "cell_type": "markdown",
   "metadata": {},
   "source": [
    ">- tuple은 변경할 수 없는 list이다. list에서 수정을 제외한 모든 기능을 tuple에서 적용할 수 있다.\n",
    "- tuple은 대괄호 대신 괄호를 사용해서 (혹은 아무런 기호 없이) 정의한다."
   ]
  },
  {
   "cell_type": "code",
   "execution_count": 59,
   "metadata": {
    "collapsed": true
   },
   "outputs": [],
   "source": [
    "my_list = [1, 2]\n",
    "my_tuple = (1, 2)"
   ]
  },
  {
   "cell_type": "code",
   "execution_count": 60,
   "metadata": {},
   "outputs": [
    {
     "data": {
      "text/plain": [
       "(3, 4)"
      ]
     },
     "execution_count": 60,
     "metadata": {},
     "output_type": "execute_result"
    }
   ],
   "source": [
    "other_tuple = 3, 4\n",
    "other_tuple"
   ]
  },
  {
   "cell_type": "code",
   "execution_count": 61,
   "metadata": {
    "scrolled": true
   },
   "outputs": [
    {
     "data": {
      "text/plain": [
       "[1, 3]"
      ]
     },
     "execution_count": 61,
     "metadata": {},
     "output_type": "execute_result"
    }
   ],
   "source": [
    "## list는 값을 수정할 수 있다.\n",
    "\n",
    "my_list[1] = 3\n",
    "my_list"
   ]
  },
  {
   "cell_type": "code",
   "execution_count": 62,
   "metadata": {},
   "outputs": [
    {
     "ename": "TypeError",
     "evalue": "'tuple' object does not support item assignment",
     "output_type": "error",
     "traceback": [
      "\u001b[0;31m---------------------------------------------------------------------------\u001b[0m",
      "\u001b[0;31mTypeError\u001b[0m                                 Traceback (most recent call last)",
      "\u001b[0;32m<ipython-input-62-6a699c704d15>\u001b[0m in \u001b[0;36m<module>\u001b[0;34m()\u001b[0m\n\u001b[0;32m----> 1\u001b[0;31m \u001b[0mmy_tuple\u001b[0m\u001b[0;34m[\u001b[0m\u001b[0;36m1\u001b[0m\u001b[0;34m]\u001b[0m \u001b[0;34m=\u001b[0m \u001b[0;36m3\u001b[0m\u001b[0;34m\u001b[0m\u001b[0m\n\u001b[0m\u001b[1;32m      2\u001b[0m \u001b[0mmy_tuple\u001b[0m\u001b[0;34m\u001b[0m\u001b[0m\n",
      "\u001b[0;31mTypeError\u001b[0m: 'tuple' object does not support item assignment"
     ]
    }
   ],
   "source": [
    "## tuple은 list와 달리 수정이 불가능하다.\n",
    "\n",
    "my_tuple[1] = 3\n",
    "my_tuple"
   ]
  },
  {
   "cell_type": "code",
   "execution_count": 63,
   "metadata": {
    "collapsed": true
   },
   "outputs": [],
   "source": [
    "# 함수에서 여러 값을 반환할 때 tuple을 사용하면 편리하다.\n",
    "\n",
    "def sum_and_product(x, y):\n",
    "    return (x + y), (x * y)"
   ]
  },
  {
   "cell_type": "code",
   "execution_count": 64,
   "metadata": {},
   "outputs": [
    {
     "data": {
      "text/plain": [
       "(5, 6)"
      ]
     },
     "execution_count": 64,
     "metadata": {},
     "output_type": "execute_result"
    }
   ],
   "source": [
    "sp = sum_and_product(2, 3)\n",
    "sp"
   ]
  },
  {
   "cell_type": "code",
   "execution_count": 65,
   "metadata": {
    "collapsed": true
   },
   "outputs": [],
   "source": [
    "s, p = sum_and_product(5, 10)"
   ]
  },
  {
   "cell_type": "code",
   "execution_count": 66,
   "metadata": {},
   "outputs": [
    {
     "data": {
      "text/plain": [
       "15"
      ]
     },
     "execution_count": 66,
     "metadata": {},
     "output_type": "execute_result"
    }
   ],
   "source": [
    "s"
   ]
  },
  {
   "cell_type": "code",
   "execution_count": 67,
   "metadata": {},
   "outputs": [
    {
     "data": {
      "text/plain": [
       "50"
      ]
     },
     "execution_count": 67,
     "metadata": {},
     "output_type": "execute_result"
    }
   ],
   "source": [
    "p"
   ]
  },
  {
   "cell_type": "code",
   "execution_count": 208,
   "metadata": {
    "collapsed": true
   },
   "outputs": [],
   "source": [
    "# tuple과 list는 다중 할당을 지원한다.\n",
    "\n",
    "x, y = (1, 2)"
   ]
  },
  {
   "cell_type": "code",
   "execution_count": 69,
   "metadata": {
    "collapsed": true
   },
   "outputs": [],
   "source": [
    "## 변수 교환도 가능하다.\n",
    "\n",
    "x, y = y, x"
   ]
  },
  {
   "cell_type": "code",
   "execution_count": 70,
   "metadata": {},
   "outputs": [
    {
     "data": {
      "text/plain": [
       "2"
      ]
     },
     "execution_count": 70,
     "metadata": {},
     "output_type": "execute_result"
    }
   ],
   "source": [
    "x"
   ]
  },
  {
   "cell_type": "code",
   "execution_count": 71,
   "metadata": {},
   "outputs": [
    {
     "data": {
      "text/plain": [
       "1"
      ]
     },
     "execution_count": 71,
     "metadata": {},
     "output_type": "execute_result"
    }
   ],
   "source": [
    "y"
   ]
  },
  {
   "cell_type": "markdown",
   "metadata": {},
   "source": [
    "## (9) dict"
   ]
  },
  {
   "cell_type": "markdown",
   "metadata": {},
   "source": [
    ">- dict(dictionary, 사전)는 파이썬의 또 다른 기본적인 데이터 구조이며, 특정 value와 연관된 key를 연결해 주고 이를 사용해 value를 빠르게 검색할 수 있다."
   ]
  },
  {
   "cell_type": "code",
   "execution_count": 72,
   "metadata": {
    "collapsed": true
   },
   "outputs": [],
   "source": [
    "empty_dict = {}\n",
    "empty_dict2 = dict()\n",
    "grades = {'flipped' : 100, 'learning' : 110}"
   ]
  },
  {
   "cell_type": "code",
   "execution_count": 73,
   "metadata": {},
   "outputs": [
    {
     "data": {
      "text/plain": [
       "100"
      ]
     },
     "execution_count": 73,
     "metadata": {},
     "output_type": "execute_result"
    }
   ],
   "source": [
    "# 대괄호를 사용해서 key의 value를 불러올 수 있다.\n",
    "\n",
    "grades['flipped']"
   ]
  },
  {
   "cell_type": "code",
   "execution_count": 74,
   "metadata": {},
   "outputs": [
    {
     "data": {
      "text/plain": [
       "110"
      ]
     },
     "execution_count": 74,
     "metadata": {},
     "output_type": "execute_result"
    }
   ],
   "source": [
    "grades['learning']"
   ]
  },
  {
   "cell_type": "code",
   "execution_count": 211,
   "metadata": {
    "scrolled": false
   },
   "outputs": [
    {
     "ename": "KeyError",
     "evalue": "'learnit'",
     "output_type": "error",
     "traceback": [
      "\u001b[0;31m---------------------------------------------------------------------------\u001b[0m",
      "\u001b[0;31mKeyError\u001b[0m                                  Traceback (most recent call last)",
      "\u001b[0;32m<ipython-input-211-29b0121700f4>\u001b[0m in \u001b[0;36m<module>\u001b[0;34m()\u001b[0m\n\u001b[1;32m      1\u001b[0m \u001b[0;31m# dict에 존재하지 않는 key를 입력하면 KeyError가 발생한다.\u001b[0m\u001b[0;34m\u001b[0m\u001b[0;34m\u001b[0m\u001b[0m\n\u001b[1;32m      2\u001b[0m \u001b[0;34m\u001b[0m\u001b[0m\n\u001b[0;32m----> 3\u001b[0;31m \u001b[0mgrades\u001b[0m\u001b[0;34m[\u001b[0m\u001b[0;34m'learnit'\u001b[0m\u001b[0;34m]\u001b[0m\u001b[0;34m\u001b[0m\u001b[0m\n\u001b[0m",
      "\u001b[0;31mKeyError\u001b[0m: 'learnit'"
     ]
    }
   ],
   "source": [
    "# dict에 존재하지 않는 key를 입력하면 KeyError가 발생한다.\n",
    "\n",
    "grades['learnit']"
   ]
  },
  {
   "cell_type": "code",
   "execution_count": 76,
   "metadata": {},
   "outputs": [
    {
     "data": {
      "text/plain": [
       "100"
      ]
     },
     "execution_count": 76,
     "metadata": {},
     "output_type": "execute_result"
    }
   ],
   "source": [
    "# dict에서 get 메서드 (클래스에 속한 함수)를 사용하면 입력한 key가 dict에 없어도 에러를 반환하지 않고 기본값을 반환해 준다.\n",
    "\n",
    "grades.get('flipped', 0)"
   ]
  },
  {
   "cell_type": "code",
   "execution_count": 212,
   "metadata": {},
   "outputs": [
    {
     "data": {
      "text/plain": [
       "0"
      ]
     },
     "execution_count": 212,
     "metadata": {},
     "output_type": "execute_result"
    }
   ],
   "source": [
    "grades.get('learnit', 0)"
   ]
  },
  {
   "cell_type": "code",
   "execution_count": 78,
   "metadata": {},
   "outputs": [
    {
     "data": {
      "text/plain": [
       "True"
      ]
     },
     "execution_count": 78,
     "metadata": {},
     "output_type": "execute_result"
    }
   ],
   "source": [
    "# 연산자 in을 사용하면 key의 존재 여부를 확인할 수 있다.\n",
    "\n",
    "'flipped' in grades"
   ]
  },
  {
   "cell_type": "code",
   "execution_count": 213,
   "metadata": {},
   "outputs": [
    {
     "data": {
      "text/plain": [
       "False"
      ]
     },
     "execution_count": 213,
     "metadata": {},
     "output_type": "execute_result"
    }
   ],
   "source": [
    "'learnit' in grades"
   ]
  },
  {
   "cell_type": "code",
   "execution_count": 80,
   "metadata": {
    "collapsed": true
   },
   "outputs": [],
   "source": [
    "# 정형화된 데이터를 간단하게 나타낼 때는 주로 dict가 사용된다.\n",
    "\n",
    "description = {\n",
    "    'name' : 'luffy',\n",
    "    'text' : '밑바닥부터 데이터 과학',\n",
    "}"
   ]
  },
  {
   "cell_type": "code",
   "execution_count": 81,
   "metadata": {},
   "outputs": [
    {
     "data": {
      "text/plain": [
       "{'name': 'luffy', 'text': '밑바닥부터 데이터 과학'}"
      ]
     },
     "execution_count": 81,
     "metadata": {},
     "output_type": "execute_result"
    }
   ],
   "source": [
    "description"
   ]
  },
  {
   "cell_type": "code",
   "execution_count": 82,
   "metadata": {},
   "outputs": [
    {
     "data": {
      "text/plain": [
       "dict_keys(['name', 'text'])"
      ]
     },
     "execution_count": 82,
     "metadata": {},
     "output_type": "execute_result"
    }
   ],
   "source": [
    "# 특정 key 대신 dict의 모든 key를 한번에 살펴볼 수 있다.\n",
    "\n",
    "description.keys()"
   ]
  },
  {
   "cell_type": "code",
   "execution_count": 83,
   "metadata": {
    "scrolled": true
   },
   "outputs": [
    {
     "data": {
      "text/plain": [
       "dict_values(['luffy', '밑바닥부터 데이터 과학'])"
      ]
     },
     "execution_count": 83,
     "metadata": {},
     "output_type": "execute_result"
    }
   ],
   "source": [
    "# dict의 value만 출력\n",
    "\n",
    "description.values()"
   ]
  },
  {
   "cell_type": "code",
   "execution_count": 84,
   "metadata": {},
   "outputs": [
    {
     "data": {
      "text/plain": [
       "dict_items([('name', 'luffy'), ('text', '밑바닥부터 데이터 과학')])"
      ]
     },
     "execution_count": 84,
     "metadata": {},
     "output_type": "execute_result"
    }
   ],
   "source": [
    "# dict의 key, value 모두 출력\n",
    "\n",
    "description.items()"
   ]
  },
  {
   "cell_type": "code",
   "execution_count": 85,
   "metadata": {},
   "outputs": [
    {
     "name": "stdout",
     "output_type": "stream",
     "text": [
      "The slowest run took 15.20 times longer than the fastest. This could mean that an intermediate result is being cached.\n",
      "10000000 loops, best of 3: 124 ns per loop\n"
     ]
    }
   ],
   "source": [
    "# list에서 in을 사용하기 때문에 느림.\n",
    "\n",
    "%timeit 'name' in description.keys() "
   ]
  },
  {
   "cell_type": "code",
   "execution_count": 86,
   "metadata": {},
   "outputs": [
    {
     "name": "stdout",
     "output_type": "stream",
     "text": [
      "10000000 loops, best of 3: 39.1 ns per loop\n"
     ]
    }
   ],
   "source": [
    "# dict에서 in을 사용하기 때문에 빠름\n",
    "\n",
    "%timeit 'name' in description "
   ]
  },
  {
   "cell_type": "code",
   "execution_count": 87,
   "metadata": {
    "collapsed": true
   },
   "outputs": [],
   "source": [
    "# dict의 key는 수정할 수 없으며 list를 key로 사용할 수 없다. 다양한 값으로 구성된 key가 필요하다면 tuple이나 문자열을 key로 사용하자.\n",
    "\n",
    "des = {\n",
    "    ('name', 'learnit') : 'luffy',\n",
    "    ('text', 'korean') : '밑바닥부터 데이터 과학',\n",
    "}"
   ]
  },
  {
   "cell_type": "code",
   "execution_count": 88,
   "metadata": {},
   "outputs": [
    {
     "data": {
      "text/plain": [
       "'luffy'"
      ]
     },
     "execution_count": 88,
     "metadata": {},
     "output_type": "execute_result"
    }
   ],
   "source": [
    "des[('name', 'learnit')]"
   ]
  },
  {
   "cell_type": "markdown",
   "metadata": {},
   "source": [
    "### (9)-1 defaultdict"
   ]
  },
  {
   "cell_type": "markdown",
   "metadata": {},
   "source": [
    ">- 문서에서 단어의 빈도수를 세어 보는 중이라고 상상해보자. \n",
    "- 가장 직관적인 방법은 단어를 key로, 빈도수를 value로 지정하는 dict를 생성하는 것이다.\n",
    "- 이 때, 각 단어가 dict에 이미 존재하면 값을 증가시키고 존재하지 않는다면 새로운 key와 value를 추가해 주면 된다."
   ]
  },
  {
   "cell_type": "code",
   "execution_count": 220,
   "metadata": {
    "scrolled": true
   },
   "outputs": [
    {
     "data": {
      "text/plain": [
       "['데이터',\n",
       " '사이언스란',\n",
       " '데이터를',\n",
       " '수집하고',\n",
       " '분석하여',\n",
       " '활용하기',\n",
       " '위한',\n",
       " '모든',\n",
       " '기술의',\n",
       " '집합을',\n",
       " '말하며,',\n",
       " '컴퓨터',\n",
       " '사이언스,',\n",
       " '수학,',\n",
       " '통계학,',\n",
       " '머신',\n",
       " '러닝(machine',\n",
       " 'learning),',\n",
       " '영상',\n",
       " '및',\n",
       " '신호',\n",
       " '처리',\n",
       " '등',\n",
       " '다양한',\n",
       " '학문',\n",
       " '분야가',\n",
       " '만나는',\n",
       " '영역이다.',\n",
       " '프로그래밍을',\n",
       " '포함하는',\n",
       " '컴퓨터',\n",
       " '사이언스는',\n",
       " '실제로',\n",
       " '데이터를',\n",
       " '다루기',\n",
       " '위한',\n",
       " '필수',\n",
       " '기술이며,',\n",
       " '수학과',\n",
       " '통계학은',\n",
       " '데이터',\n",
       " '분석',\n",
       " '모형의',\n",
       " '기반에',\n",
       " '깔린',\n",
       " '핵심적인',\n",
       " '개념을',\n",
       " '구체화하는',\n",
       " '언어이다.',\n",
       " '머신',\n",
       " '러닝은',\n",
       " '이러한',\n",
       " '분석',\n",
       " '결과를',\n",
       " '활용하여',\n",
       " '지금까지',\n",
       " '인간이',\n",
       " '해오던',\n",
       " '각종',\n",
       " '분석과',\n",
       " '의사',\n",
       " '판단을',\n",
       " '대신하고자',\n",
       " '하는',\n",
       " '노력이다.']"
      ]
     },
     "execution_count": 220,
     "metadata": {},
     "output_type": "execute_result"
    }
   ],
   "source": [
    "document = \"\"\"데이터 사이언스란 데이터를 수집하고 분석하여 활용하기 위한 모든 기술의 집합을 말하며, 컴퓨터 사이언스, 수학, 통계학, 머신 러닝(machine learning), 영상 및 신호 처리 등 다양한 학문 분야가 만나는 영역이다. 프로그래밍을 포함하는 컴퓨터 사이언스는 실제로 데이터를 다루기 위한 필수 기술이며, \n",
    "수학과 통계학은 데이터 분석 모형의 기반에 깔린 핵심적인 개념을 구체화하는 언어이다. \n",
    "머신 러닝은 이러한 분석 결과를 활용하여 지금까지 인간이 해오던 각종 분석과 의사 판단을 대신하고자 하는 노력이다.\"\"\".split()\n",
    "document"
   ]
  },
  {
   "cell_type": "code",
   "execution_count": 221,
   "metadata": {},
   "outputs": [
    {
     "ename": "KeyError",
     "evalue": "'데이터'",
     "output_type": "error",
     "traceback": [
      "\u001b[0;31m---------------------------------------------------------------------------\u001b[0m",
      "\u001b[0;31mKeyError\u001b[0m                                  Traceback (most recent call last)",
      "\u001b[0;32m<ipython-input-221-8c3581af992d>\u001b[0m in \u001b[0;36m<module>\u001b[0;34m()\u001b[0m\n\u001b[1;32m      3\u001b[0m \u001b[0mword_counts\u001b[0m \u001b[0;34m=\u001b[0m \u001b[0;34m{\u001b[0m\u001b[0;34m}\u001b[0m\u001b[0;34m\u001b[0m\u001b[0m\n\u001b[1;32m      4\u001b[0m \u001b[0;32mfor\u001b[0m \u001b[0mword\u001b[0m \u001b[0;32min\u001b[0m \u001b[0mdocument\u001b[0m\u001b[0;34m:\u001b[0m\u001b[0;34m\u001b[0m\u001b[0m\n\u001b[0;32m----> 5\u001b[0;31m     \u001b[0mword_counts\u001b[0m\u001b[0;34m[\u001b[0m\u001b[0mword\u001b[0m\u001b[0;34m]\u001b[0m \u001b[0;34m+=\u001b[0m \u001b[0;36m1\u001b[0m\u001b[0;34m\u001b[0m\u001b[0m\n\u001b[0m",
      "\u001b[0;31mKeyError\u001b[0m: '데이터'"
     ]
    }
   ],
   "source": [
    "# dictionary에 key값이 존재하지 않으면 바로 추가할 수 없다.\n",
    "\n",
    "word_counts = {}\n",
    "for word in document:\n",
    "    word_counts[word] += 1"
   ]
  },
  {
   "cell_type": "code",
   "execution_count": 222,
   "metadata": {
    "collapsed": true
   },
   "outputs": [],
   "source": [
    "# key값이 존재하지 않을 때, 실행할 수 있는 로직을 추가해줘야된다.\n",
    "\n",
    "word_counts = {}\n",
    "for word in document:\n",
    "    if word in word_counts:\n",
    "        word_counts[word] += 1\n",
    "    else:\n",
    "        word_counts[word] = 1"
   ]
  },
  {
   "cell_type": "code",
   "execution_count": 223,
   "metadata": {
    "scrolled": true
   },
   "outputs": [
    {
     "data": {
      "text/plain": [
       "{'learning),': 1,\n",
       " '각종': 1,\n",
       " '개념을': 1,\n",
       " '결과를': 1,\n",
       " '구체화하는': 1,\n",
       " '기반에': 1,\n",
       " '기술의': 1,\n",
       " '기술이며,': 1,\n",
       " '깔린': 1,\n",
       " '노력이다.': 1,\n",
       " '다루기': 1,\n",
       " '다양한': 1,\n",
       " '대신하고자': 1,\n",
       " '데이터': 2,\n",
       " '데이터를': 2,\n",
       " '등': 1,\n",
       " '러닝(machine': 1,\n",
       " '러닝은': 1,\n",
       " '만나는': 1,\n",
       " '말하며,': 1,\n",
       " '머신': 2,\n",
       " '모든': 1,\n",
       " '모형의': 1,\n",
       " '및': 1,\n",
       " '분석': 2,\n",
       " '분석과': 1,\n",
       " '분석하여': 1,\n",
       " '분야가': 1,\n",
       " '사이언스,': 1,\n",
       " '사이언스는': 1,\n",
       " '사이언스란': 1,\n",
       " '수집하고': 1,\n",
       " '수학,': 1,\n",
       " '수학과': 1,\n",
       " '신호': 1,\n",
       " '실제로': 1,\n",
       " '언어이다.': 1,\n",
       " '영상': 1,\n",
       " '영역이다.': 1,\n",
       " '위한': 2,\n",
       " '의사': 1,\n",
       " '이러한': 1,\n",
       " '인간이': 1,\n",
       " '지금까지': 1,\n",
       " '집합을': 1,\n",
       " '처리': 1,\n",
       " '컴퓨터': 2,\n",
       " '통계학,': 1,\n",
       " '통계학은': 1,\n",
       " '판단을': 1,\n",
       " '포함하는': 1,\n",
       " '프로그래밍을': 1,\n",
       " '필수': 1,\n",
       " '하는': 1,\n",
       " '학문': 1,\n",
       " '해오던': 1,\n",
       " '핵심적인': 1,\n",
       " '활용하기': 1,\n",
       " '활용하여': 1}"
      ]
     },
     "execution_count": 223,
     "metadata": {},
     "output_type": "execute_result"
    }
   ],
   "source": [
    "word_counts"
   ]
  },
  {
   "cell_type": "code",
   "execution_count": 224,
   "metadata": {
    "collapsed": true
   },
   "outputs": [],
   "source": [
    "# 예외를 처리하면서 dict를 생성하는 방법도 있다.\n",
    "\n",
    "word_counts = {}\n",
    "for word in document:\n",
    "    try:\n",
    "        word_counts[word] += 1\n",
    "    except KeyError:\n",
    "        word_counts[word] = 1"
   ]
  },
  {
   "cell_type": "code",
   "execution_count": 225,
   "metadata": {
    "scrolled": true
   },
   "outputs": [
    {
     "data": {
      "text/plain": [
       "{'learning),': 1,\n",
       " '각종': 1,\n",
       " '개념을': 1,\n",
       " '결과를': 1,\n",
       " '구체화하는': 1,\n",
       " '기반에': 1,\n",
       " '기술의': 1,\n",
       " '기술이며,': 1,\n",
       " '깔린': 1,\n",
       " '노력이다.': 1,\n",
       " '다루기': 1,\n",
       " '다양한': 1,\n",
       " '대신하고자': 1,\n",
       " '데이터': 2,\n",
       " '데이터를': 2,\n",
       " '등': 1,\n",
       " '러닝(machine': 1,\n",
       " '러닝은': 1,\n",
       " '만나는': 1,\n",
       " '말하며,': 1,\n",
       " '머신': 2,\n",
       " '모든': 1,\n",
       " '모형의': 1,\n",
       " '및': 1,\n",
       " '분석': 2,\n",
       " '분석과': 1,\n",
       " '분석하여': 1,\n",
       " '분야가': 1,\n",
       " '사이언스,': 1,\n",
       " '사이언스는': 1,\n",
       " '사이언스란': 1,\n",
       " '수집하고': 1,\n",
       " '수학,': 1,\n",
       " '수학과': 1,\n",
       " '신호': 1,\n",
       " '실제로': 1,\n",
       " '언어이다.': 1,\n",
       " '영상': 1,\n",
       " '영역이다.': 1,\n",
       " '위한': 2,\n",
       " '의사': 1,\n",
       " '이러한': 1,\n",
       " '인간이': 1,\n",
       " '지금까지': 1,\n",
       " '집합을': 1,\n",
       " '처리': 1,\n",
       " '컴퓨터': 2,\n",
       " '통계학,': 1,\n",
       " '통계학은': 1,\n",
       " '판단을': 1,\n",
       " '포함하는': 1,\n",
       " '프로그래밍을': 1,\n",
       " '필수': 1,\n",
       " '하는': 1,\n",
       " '학문': 1,\n",
       " '해오던': 1,\n",
       " '핵심적인': 1,\n",
       " '활용하기': 1,\n",
       " '활용하여': 1}"
      ]
     },
     "execution_count": 225,
     "metadata": {},
     "output_type": "execute_result"
    }
   ],
   "source": [
    "word_counts"
   ]
  },
  {
   "cell_type": "code",
   "execution_count": 226,
   "metadata": {
    "collapsed": true
   },
   "outputs": [],
   "source": [
    "# 존재하지 않는 key를 적절하게 처리해주는 get을 사용해서 dict를 생성하는 방법\n",
    "\n",
    "word_counts = {}\n",
    "for word in document:\n",
    "    previous_count = word_counts.get(word, 0)\n",
    "    word_counts[word] = previous_count + 1"
   ]
  },
  {
   "cell_type": "code",
   "execution_count": 227,
   "metadata": {
    "scrolled": true
   },
   "outputs": [
    {
     "data": {
      "text/plain": [
       "{'learning),': 1,\n",
       " '각종': 1,\n",
       " '개념을': 1,\n",
       " '결과를': 1,\n",
       " '구체화하는': 1,\n",
       " '기반에': 1,\n",
       " '기술의': 1,\n",
       " '기술이며,': 1,\n",
       " '깔린': 1,\n",
       " '노력이다.': 1,\n",
       " '다루기': 1,\n",
       " '다양한': 1,\n",
       " '대신하고자': 1,\n",
       " '데이터': 2,\n",
       " '데이터를': 2,\n",
       " '등': 1,\n",
       " '러닝(machine': 1,\n",
       " '러닝은': 1,\n",
       " '만나는': 1,\n",
       " '말하며,': 1,\n",
       " '머신': 2,\n",
       " '모든': 1,\n",
       " '모형의': 1,\n",
       " '및': 1,\n",
       " '분석': 2,\n",
       " '분석과': 1,\n",
       " '분석하여': 1,\n",
       " '분야가': 1,\n",
       " '사이언스,': 1,\n",
       " '사이언스는': 1,\n",
       " '사이언스란': 1,\n",
       " '수집하고': 1,\n",
       " '수학,': 1,\n",
       " '수학과': 1,\n",
       " '신호': 1,\n",
       " '실제로': 1,\n",
       " '언어이다.': 1,\n",
       " '영상': 1,\n",
       " '영역이다.': 1,\n",
       " '위한': 2,\n",
       " '의사': 1,\n",
       " '이러한': 1,\n",
       " '인간이': 1,\n",
       " '지금까지': 1,\n",
       " '집합을': 1,\n",
       " '처리': 1,\n",
       " '컴퓨터': 2,\n",
       " '통계학,': 1,\n",
       " '통계학은': 1,\n",
       " '판단을': 1,\n",
       " '포함하는': 1,\n",
       " '프로그래밍을': 1,\n",
       " '필수': 1,\n",
       " '하는': 1,\n",
       " '학문': 1,\n",
       " '해오던': 1,\n",
       " '핵심적인': 1,\n",
       " '활용하기': 1,\n",
       " '활용하여': 1}"
      ]
     },
     "execution_count": 227,
     "metadata": {},
     "output_type": "execute_result"
    }
   ],
   "source": [
    "word_counts"
   ]
  },
  {
   "cell_type": "markdown",
   "metadata": {},
   "source": [
    ">- 세가지 방법 모두 약간 복잡하다. 이런 경우에는 defaultdict를 사용하면 편리해진다.\n",
    "- defaultdict vs dict\n",
    "    - 존재하지 않는 key가 주어졌을 때, defaultdict는 key와 인자에서 주어진 값으로 dict에 새로운 항목을 추가해 준다."
   ]
  },
  {
   "cell_type": "code",
   "execution_count": 228,
   "metadata": {
    "scrolled": true
   },
   "outputs": [
    {
     "data": {
      "text/plain": [
       "defaultdict(int,\n",
       "            {'learning),': 1,\n",
       "             '각종': 1,\n",
       "             '개념을': 1,\n",
       "             '결과를': 1,\n",
       "             '구체화하는': 1,\n",
       "             '기반에': 1,\n",
       "             '기술의': 1,\n",
       "             '기술이며,': 1,\n",
       "             '깔린': 1,\n",
       "             '노력이다.': 1,\n",
       "             '다루기': 1,\n",
       "             '다양한': 1,\n",
       "             '대신하고자': 1,\n",
       "             '데이터': 2,\n",
       "             '데이터를': 2,\n",
       "             '등': 1,\n",
       "             '러닝(machine': 1,\n",
       "             '러닝은': 1,\n",
       "             '만나는': 1,\n",
       "             '말하며,': 1,\n",
       "             '머신': 2,\n",
       "             '모든': 1,\n",
       "             '모형의': 1,\n",
       "             '및': 1,\n",
       "             '분석': 2,\n",
       "             '분석과': 1,\n",
       "             '분석하여': 1,\n",
       "             '분야가': 1,\n",
       "             '사이언스,': 1,\n",
       "             '사이언스는': 1,\n",
       "             '사이언스란': 1,\n",
       "             '수집하고': 1,\n",
       "             '수학,': 1,\n",
       "             '수학과': 1,\n",
       "             '신호': 1,\n",
       "             '실제로': 1,\n",
       "             '언어이다.': 1,\n",
       "             '영상': 1,\n",
       "             '영역이다.': 1,\n",
       "             '위한': 2,\n",
       "             '의사': 1,\n",
       "             '이러한': 1,\n",
       "             '인간이': 1,\n",
       "             '지금까지': 1,\n",
       "             '집합을': 1,\n",
       "             '처리': 1,\n",
       "             '컴퓨터': 2,\n",
       "             '통계학,': 1,\n",
       "             '통계학은': 1,\n",
       "             '판단을': 1,\n",
       "             '포함하는': 1,\n",
       "             '프로그래밍을': 1,\n",
       "             '필수': 1,\n",
       "             '하는': 1,\n",
       "             '학문': 1,\n",
       "             '해오던': 1,\n",
       "             '핵심적인': 1,\n",
       "             '활용하기': 1,\n",
       "             '활용하여': 1})"
      ]
     },
     "execution_count": 228,
     "metadata": {},
     "output_type": "execute_result"
    }
   ],
   "source": [
    "from collections import defaultdict ## defaultdict를 사용하기 위해 패키지 import\n",
    "\n",
    "word_counts = defaultdict(int) # int는 0을 생성\n",
    "for word in document:\n",
    "    word_counts[word] += 1 \n",
    "word_counts"
   ]
  },
  {
   "cell_type": "code",
   "execution_count": 98,
   "metadata": {},
   "outputs": [
    {
     "data": {
      "text/plain": [
       "defaultdict(list, {2: [1]})"
      ]
     },
     "execution_count": 98,
     "metadata": {},
     "output_type": "execute_result"
    }
   ],
   "source": [
    "# value로 빈 list 생성\n",
    "\n",
    "dd_list = defaultdict(list) \n",
    "dd_list[2].append(1)\n",
    "dd_list"
   ]
  },
  {
   "cell_type": "code",
   "execution_count": 99,
   "metadata": {},
   "outputs": [
    {
     "data": {
      "text/plain": [
       "defaultdict(dict, {'Joel': {'City': 'Seoul'}})"
      ]
     },
     "execution_count": 99,
     "metadata": {},
     "output_type": "execute_result"
    }
   ],
   "source": [
    "# value로 빈 dictionary 생성\n",
    "\n",
    "dd_dict = defaultdict(dict) # 빈 dict 생성\n",
    "dd_dict['Joel']['City'] = 'Seoul'\n",
    "dd_dict"
   ]
  },
  {
   "cell_type": "code",
   "execution_count": 100,
   "metadata": {},
   "outputs": [
    {
     "data": {
      "text/plain": [
       "defaultdict(<function __main__.<lambda>>, {2: [0, 1]})"
      ]
     },
     "execution_count": 100,
     "metadata": {},
     "output_type": "execute_result"
    }
   ],
   "source": [
    "dd_pair = defaultdict(lambda : [0, 0])\n",
    "dd_pair[2][1] = 1\n",
    "dd_pair"
   ]
  },
  {
   "cell_type": "markdown",
   "metadata": {},
   "source": [
    "### (9) - 2 Counter"
   ]
  },
  {
   "cell_type": "markdown",
   "metadata": {},
   "source": [
    "> - Counter는 연속된 값을 defaultdict(int)와 유사한 객체로 변환해 주며, key와 value의 빈도를 연결시켜 준다.\n",
    "- 텍스트마이닝에서 많이 활용됨."
   ]
  },
  {
   "cell_type": "code",
   "execution_count": 101,
   "metadata": {},
   "outputs": [
    {
     "data": {
      "text/plain": [
       "Counter({1: 3, 2: 1, 3: 2})"
      ]
     },
     "execution_count": 101,
     "metadata": {},
     "output_type": "execute_result"
    }
   ],
   "source": [
    "from collections import Counter\n",
    "c = Counter([1, 1, 1, 2, 3, 3])\n",
    "c"
   ]
  },
  {
   "cell_type": "code",
   "execution_count": 102,
   "metadata": {
    "collapsed": true
   },
   "outputs": [],
   "source": [
    "word_counts = Counter(document)"
   ]
  },
  {
   "cell_type": "code",
   "execution_count": 103,
   "metadata": {
    "scrolled": true
   },
   "outputs": [
    {
     "data": {
      "text/plain": [
       "Counter({'learning),': 1,\n",
       "         '각종': 1,\n",
       "         '개념을': 1,\n",
       "         '결과를': 1,\n",
       "         '구체화하는': 1,\n",
       "         '기반에': 1,\n",
       "         '기술의': 1,\n",
       "         '기술이며,': 1,\n",
       "         '깔린': 1,\n",
       "         '노력이다.': 1,\n",
       "         '다루기': 1,\n",
       "         '다양한': 1,\n",
       "         '대신하고자': 1,\n",
       "         '데이터': 2,\n",
       "         '데이터를': 2,\n",
       "         '등': 1,\n",
       "         '러닝(machine': 1,\n",
       "         '러닝은': 1,\n",
       "         '만나는': 1,\n",
       "         '말하며,': 1,\n",
       "         '머신': 2,\n",
       "         '모든': 1,\n",
       "         '모형의': 1,\n",
       "         '및': 1,\n",
       "         '분석': 2,\n",
       "         '분석과': 1,\n",
       "         '분석하여': 1,\n",
       "         '분야가': 1,\n",
       "         '사이언스,': 1,\n",
       "         '사이언스는': 1,\n",
       "         '사이언스란': 1,\n",
       "         '수집하고': 1,\n",
       "         '수학,': 1,\n",
       "         '수학과': 1,\n",
       "         '신호': 1,\n",
       "         '실제로': 1,\n",
       "         '언어이다.': 1,\n",
       "         '영상': 1,\n",
       "         '영역이다.': 1,\n",
       "         '위한': 2,\n",
       "         '의사': 1,\n",
       "         '이러한': 1,\n",
       "         '인간이': 1,\n",
       "         '지금까지': 1,\n",
       "         '집합을': 1,\n",
       "         '처리': 1,\n",
       "         '컴퓨터': 2,\n",
       "         '통계학,': 1,\n",
       "         '통계학은': 1,\n",
       "         '판단을': 1,\n",
       "         '포함하는': 1,\n",
       "         '프로그래밍을': 1,\n",
       "         '필수': 1,\n",
       "         '하는': 1,\n",
       "         '학문': 1,\n",
       "         '해오던': 1,\n",
       "         '핵심적인': 1,\n",
       "         '활용하기': 1,\n",
       "         '활용하여': 1})"
      ]
     },
     "execution_count": 103,
     "metadata": {},
     "output_type": "execute_result"
    }
   ],
   "source": [
    "word_counts"
   ]
  },
  {
   "cell_type": "code",
   "execution_count": 104,
   "metadata": {
    "scrolled": true
   },
   "outputs": [
    {
     "name": "stdout",
     "output_type": "stream",
     "text": [
      "컴퓨터 2\n",
      "데이터를 2\n",
      "위한 2\n",
      "분석 2\n",
      "머신 2\n",
      "데이터 2\n",
      "만나는 1\n",
      "수학과 1\n",
      "깔린 1\n",
      "결과를 1\n"
     ]
    }
   ],
   "source": [
    "# 가장 자주 나오는 단어 10개와 이 단어들의 빈도수를 출력\n",
    "\n",
    "for word, count in word_counts.most_common(10):\n",
    "    print (word, count)"
   ]
  },
  {
   "cell_type": "markdown",
   "metadata": {},
   "source": [
    "## (10) set"
   ]
  },
  {
   "cell_type": "markdown",
   "metadata": {},
   "source": [
    "> - set은 유일한 항목의 집합을 나타내는 구조이다."
   ]
  },
  {
   "cell_type": "code",
   "execution_count": 105,
   "metadata": {
    "collapsed": true
   },
   "outputs": [],
   "source": [
    "s = set()"
   ]
  },
  {
   "cell_type": "code",
   "execution_count": 106,
   "metadata": {},
   "outputs": [
    {
     "data": {
      "text/plain": [
       "{1}"
      ]
     },
     "execution_count": 106,
     "metadata": {},
     "output_type": "execute_result"
    }
   ],
   "source": [
    "# s에 1을 추가한다. \n",
    "\n",
    "s.add(1)\n",
    "s"
   ]
  },
  {
   "cell_type": "code",
   "execution_count": 107,
   "metadata": {},
   "outputs": [
    {
     "data": {
      "text/plain": [
       "{1, 2}"
      ]
     },
     "execution_count": 107,
     "metadata": {},
     "output_type": "execute_result"
    }
   ],
   "source": [
    "# s에 2를 추가한다. \n",
    "\n",
    "s.add(2)\n",
    "s"
   ]
  },
  {
   "cell_type": "code",
   "execution_count": 108,
   "metadata": {},
   "outputs": [
    {
     "data": {
      "text/plain": [
       "{1, 2}"
      ]
     },
     "execution_count": 108,
     "metadata": {},
     "output_type": "execute_result"
    }
   ],
   "source": [
    "# s에 2를 두 번 추가해도 s에는 1과 2만 존재한다.\n",
    "\n",
    "s.add(2)\n",
    "s"
   ]
  },
  {
   "cell_type": "code",
   "execution_count": 109,
   "metadata": {},
   "outputs": [
    {
     "data": {
      "text/plain": [
       "2"
      ]
     },
     "execution_count": 109,
     "metadata": {},
     "output_type": "execute_result"
    }
   ],
   "source": [
    "len(s)"
   ]
  },
  {
   "cell_type": "code",
   "execution_count": 110,
   "metadata": {},
   "outputs": [
    {
     "data": {
      "text/plain": [
       "True"
      ]
     },
     "execution_count": 110,
     "metadata": {},
     "output_type": "execute_result"
    }
   ],
   "source": [
    "2 in s"
   ]
  },
  {
   "cell_type": "code",
   "execution_count": 111,
   "metadata": {
    "scrolled": true
   },
   "outputs": [
    {
     "data": {
      "text/plain": [
       "False"
      ]
     },
     "execution_count": 111,
     "metadata": {},
     "output_type": "execute_result"
    }
   ],
   "source": [
    "3 in s"
   ]
  },
  {
   "cell_type": "markdown",
   "metadata": {},
   "source": [
    ">- in 은 set에서 굉장히 빠르게 작동한다."
   ]
  },
  {
   "cell_type": "code",
   "execution_count": 112,
   "metadata": {
    "collapsed": true
   },
   "outputs": [],
   "source": [
    "hundreds_of_other_words = \"\"\"TensorFlow™ is an open source software library for numerical computation using data flow graphs. Nodes in the graph represent mathematical operations, while the graph edges represent the multidimensional data arrays (tensors) communicated between them. The flexible architecture allows you to deploy computation to one or more CPUs or GPUs in a desktop, server, or mobile device with a single API. TensorFlow was originally developed by researchers and engineers working on the Google Brain Team within Google's Machine Intelligence research organization for the purposes of conducting machine learning and deep neural networks research, but the system is general enough to be applicable in a wide variety of other domains as well.\"\"\"*1000"
   ]
  },
  {
   "cell_type": "code",
   "execution_count": 229,
   "metadata": {},
   "outputs": [
    {
     "data": {
      "text/plain": [
       "731000"
      ]
     },
     "execution_count": 229,
     "metadata": {},
     "output_type": "execute_result"
    }
   ],
   "source": [
    "len(hundreds_of_other_words)"
   ]
  },
  {
   "cell_type": "code",
   "execution_count": 113,
   "metadata": {
    "collapsed": true
   },
   "outputs": [],
   "source": [
    "stopword_list = ['a', 'an', 'at'] + hundreds_of_other_words.split() + ['yet', 'you']"
   ]
  },
  {
   "cell_type": "code",
   "execution_count": 114,
   "metadata": {},
   "outputs": [
    {
     "name": "stdout",
     "output_type": "stream",
     "text": [
      "1000 loops, best of 3: 1.83 ms per loop\n"
     ]
    }
   ],
   "source": [
    "%timeit 'zip' in stopword_list"
   ]
  },
  {
   "cell_type": "code",
   "execution_count": 115,
   "metadata": {
    "collapsed": true
   },
   "outputs": [],
   "source": [
    "stopword_set = set(stopword_list)"
   ]
  },
  {
   "cell_type": "code",
   "execution_count": 116,
   "metadata": {
    "scrolled": true
   },
   "outputs": [
    {
     "name": "stdout",
     "output_type": "stream",
     "text": [
      "The slowest run took 25.16 times longer than the fastest. This could mean that an intermediate result is being cached.\n",
      "10000000 loops, best of 3: 47 ns per loop\n"
     ]
    }
   ],
   "source": [
    "%timeit 'zip' in stopword_set"
   ]
  },
  {
   "cell_type": "markdown",
   "metadata": {},
   "source": [
    "*** 유일한 항목에 대해서만 검사하기 때문에 훨씬 빠르다. ***"
   ]
  },
  {
   "cell_type": "markdown",
   "metadata": {},
   "source": [
    "> - 중복된 원소를 제거해 준다."
   ]
  },
  {
   "cell_type": "code",
   "execution_count": 117,
   "metadata": {
    "collapsed": true
   },
   "outputs": [],
   "source": [
    "item_list = [1, 2, 2, 2, 2, 2, 2, 2, 3, 4]"
   ]
  },
  {
   "cell_type": "code",
   "execution_count": 118,
   "metadata": {},
   "outputs": [
    {
     "data": {
      "text/plain": [
       "10"
      ]
     },
     "execution_count": 118,
     "metadata": {},
     "output_type": "execute_result"
    }
   ],
   "source": [
    "len(item_list)"
   ]
  },
  {
   "cell_type": "code",
   "execution_count": 119,
   "metadata": {},
   "outputs": [
    {
     "data": {
      "text/plain": [
       "{1, 2, 3, 4}"
      ]
     },
     "execution_count": 119,
     "metadata": {},
     "output_type": "execute_result"
    }
   ],
   "source": [
    "item_set = set(item_list)\n",
    "item_set"
   ]
  },
  {
   "cell_type": "code",
   "execution_count": 120,
   "metadata": {},
   "outputs": [
    {
     "data": {
      "text/plain": [
       "4"
      ]
     },
     "execution_count": 120,
     "metadata": {},
     "output_type": "execute_result"
    }
   ],
   "source": [
    "len(item_set)"
   ]
  },
  {
   "cell_type": "markdown",
   "metadata": {},
   "source": [
    "*** 데이터 처리를 할때는 굉장히 유용하게 사용된다 ***"
   ]
  },
  {
   "cell_type": "markdown",
   "metadata": {},
   "source": [
    "## (11) 흐름 제어"
   ]
  },
  {
   "cell_type": "markdown",
   "metadata": {},
   "source": [
    "> - if를 사용하면 조건에 따라 코드를 제어할 수 있다."
   ]
  },
  {
   "cell_type": "code",
   "execution_count": 121,
   "metadata": {},
   "outputs": [
    {
     "data": {
      "text/plain": [
       "'과학'"
      ]
     },
     "execution_count": 121,
     "metadata": {},
     "output_type": "execute_result"
    }
   ],
   "source": [
    "if 1 > 2:\n",
    "    message = '러닛'\n",
    "elif 1 > 3:\n",
    "    message = '데이터'\n",
    "else:\n",
    "    message = '과학'\n",
    "\n",
    "message"
   ]
  },
  {
   "cell_type": "markdown",
   "metadata": {},
   "source": [
    "> - 세 단계의 if문을 한 줄로 표현할 수도 있다."
   ]
  },
  {
   "cell_type": "code",
   "execution_count": 122,
   "metadata": {},
   "outputs": [
    {
     "data": {
      "text/plain": [
       "'even'"
      ]
     },
     "execution_count": 122,
     "metadata": {},
     "output_type": "execute_result"
    }
   ],
   "source": [
    "parity = 'even' if 2 % 2 == 0 else 'odd'\n",
    "parity"
   ]
  },
  {
   "cell_type": "markdown",
   "metadata": {},
   "source": [
    "> - while보다는 for를 더 자주 사용한다."
   ]
  },
  {
   "cell_type": "code",
   "execution_count": 123,
   "metadata": {},
   "outputs": [
    {
     "name": "stdout",
     "output_type": "stream",
     "text": [
      "0\n",
      "1\n",
      "2\n",
      "3\n",
      "4\n",
      "5\n",
      "6\n",
      "7\n",
      "8\n",
      "9\n"
     ]
    }
   ],
   "source": [
    "x = 0\n",
    "while x < 10:\n",
    "    print(x)\n",
    "    x += 1"
   ]
  },
  {
   "cell_type": "code",
   "execution_count": 124,
   "metadata": {},
   "outputs": [
    {
     "name": "stdout",
     "output_type": "stream",
     "text": [
      "0\n",
      "1\n",
      "2\n",
      "3\n",
      "4\n",
      "5\n",
      "6\n",
      "7\n",
      "8\n",
      "9\n"
     ]
    }
   ],
   "source": [
    "# for loop을 통해 우리는 어떤 객체의 값을 하나씩 꺼낼 수 있다.\n",
    "\n",
    "for x in range(10):\n",
    "    print(x)"
   ]
  },
  {
   "cell_type": "markdown",
   "metadata": {},
   "source": [
    "> - 더 복잡한 논리 체계가 필요하면 continue와 break를 함께 사용할 수 있다."
   ]
  },
  {
   "cell_type": "code",
   "execution_count": 125,
   "metadata": {},
   "outputs": [
    {
     "name": "stdout",
     "output_type": "stream",
     "text": [
      "0\n",
      "1\n",
      "2\n",
      "4\n"
     ]
    }
   ],
   "source": [
    "for x in range(10):\n",
    "    if x == 3:\n",
    "        continue\n",
    "    if x == 5:\n",
    "        break\n",
    "    print(x)"
   ]
  },
  {
   "cell_type": "markdown",
   "metadata": {},
   "source": [
    "## (12) True와 False"
   ]
  },
  {
   "cell_type": "markdown",
   "metadata": {},
   "source": [
    "> - 파이썬에서도 불리언 (boolean)이 존재한다."
   ]
  },
  {
   "cell_type": "code",
   "execution_count": 126,
   "metadata": {},
   "outputs": [
    {
     "data": {
      "text/plain": [
       "True"
      ]
     },
     "execution_count": 126,
     "metadata": {},
     "output_type": "execute_result"
    }
   ],
   "source": [
    "1 < 2"
   ]
  },
  {
   "cell_type": "code",
   "execution_count": 127,
   "metadata": {},
   "outputs": [
    {
     "data": {
      "text/plain": [
       "False"
      ]
     },
     "execution_count": 127,
     "metadata": {},
     "output_type": "execute_result"
    }
   ],
   "source": [
    "True == False"
   ]
  },
  {
   "cell_type": "markdown",
   "metadata": {},
   "source": [
    "> - 다른 언어의 null처럼 파이썬은 존재하지 않는 값을 None으로 표기한다."
   ]
  },
  {
   "cell_type": "code",
   "execution_count": 128,
   "metadata": {},
   "outputs": [
    {
     "name": "stdout",
     "output_type": "stream",
     "text": [
      "True True\n"
     ]
    }
   ],
   "source": [
    "x = None\n",
    "print(x == None, x is None)"
   ]
  },
  {
   "cell_type": "markdown",
   "metadata": {},
   "source": [
    "> - 불리언 대신 다른값으로 불리언을 표현할 수 있게 해준다. 다음은 모두 거짓을 의미한다. (거짓을 의미하는 것이지 False를 의미하는 것은 아님)\n",
    "    - False\n",
    "    - None\n",
    "    - []\n",
    "    - {}\n",
    "    - \"\"\n",
    "    - set()\n",
    "    - 0\n",
    "    - 0.0\n",
    "    "
   ]
  },
  {
   "cell_type": "markdown",
   "metadata": {},
   "source": [
    "- 이를 통해 list, 문자열, dict 등이 비어있는지 쉽게 확인할 수 있다."
   ]
  },
  {
   "cell_type": "code",
   "execution_count": 129,
   "metadata": {},
   "outputs": [
    {
     "data": {
      "text/plain": [
       "False"
      ]
     },
     "execution_count": 129,
     "metadata": {},
     "output_type": "execute_result"
    }
   ],
   "source": [
    "None == False"
   ]
  },
  {
   "cell_type": "code",
   "execution_count": 130,
   "metadata": {
    "collapsed": true
   },
   "outputs": [],
   "source": [
    "s = '가나다라마바사'\n",
    "if s:\n",
    "    first_char = s[0]\n",
    "else:\n",
    "    first_char = ''"
   ]
  },
  {
   "cell_type": "markdown",
   "metadata": {},
   "source": [
    "*** and는 첫 번째 값이 참이면 두 번째 값을 반환해주고, 첫 번째 값이 거짓이면 첫 번째 값을 반환해 준다. 만약 숫자거나 None이라면 safe_x는 항상 숫자일 것이다. ***"
   ]
  },
  {
   "cell_type": "code",
   "execution_count": 131,
   "metadata": {
    "collapsed": true
   },
   "outputs": [],
   "source": [
    "first_char = s and s[0]"
   ]
  },
  {
   "cell_type": "code",
   "execution_count": 132,
   "metadata": {},
   "outputs": [
    {
     "data": {
      "text/plain": [
       "'가'"
      ]
     },
     "execution_count": 132,
     "metadata": {},
     "output_type": "execute_result"
    }
   ],
   "source": [
    "first_char"
   ]
  },
  {
   "cell_type": "code",
   "execution_count": 133,
   "metadata": {
    "collapsed": true
   },
   "outputs": [],
   "source": [
    "x = 10\n",
    "safe_s = x or 0"
   ]
  },
  {
   "cell_type": "code",
   "execution_count": 134,
   "metadata": {},
   "outputs": [
    {
     "data": {
      "text/plain": [
       "10"
      ]
     },
     "execution_count": 134,
     "metadata": {},
     "output_type": "execute_result"
    }
   ],
   "source": [
    "safe_s"
   ]
  },
  {
   "cell_type": "markdown",
   "metadata": {},
   "source": [
    ">- all : 모든 항목이 참이라면 True를 반환\n",
    "- any : 하나의 항목이 참이라면 True를 반환"
   ]
  },
  {
   "cell_type": "code",
   "execution_count": 135,
   "metadata": {},
   "outputs": [
    {
     "data": {
      "text/plain": [
       "True"
      ]
     },
     "execution_count": 135,
     "metadata": {},
     "output_type": "execute_result"
    }
   ],
   "source": [
    "all([True, 1, {3}])"
   ]
  },
  {
   "cell_type": "code",
   "execution_count": 136,
   "metadata": {},
   "outputs": [
    {
     "data": {
      "text/plain": [
       "False"
      ]
     },
     "execution_count": 136,
     "metadata": {},
     "output_type": "execute_result"
    }
   ],
   "source": [
    "all([True, 1, {}])"
   ]
  },
  {
   "cell_type": "code",
   "execution_count": 137,
   "metadata": {},
   "outputs": [
    {
     "data": {
      "text/plain": [
       "True"
      ]
     },
     "execution_count": 137,
     "metadata": {},
     "output_type": "execute_result"
    }
   ],
   "source": [
    "any([True, 1, {}])"
   ]
  },
  {
   "cell_type": "code",
   "execution_count": 138,
   "metadata": {},
   "outputs": [
    {
     "data": {
      "text/plain": [
       "True"
      ]
     },
     "execution_count": 138,
     "metadata": {},
     "output_type": "execute_result"
    }
   ],
   "source": [
    "all([]) # 거짓인 항목이 없기 때문에,  ( all([[]]) 과 다름 )"
   ]
  },
  {
   "cell_type": "code",
   "execution_count": 139,
   "metadata": {},
   "outputs": [
    {
     "data": {
      "text/plain": [
       "False"
      ]
     },
     "execution_count": 139,
     "metadata": {},
     "output_type": "execute_result"
    }
   ],
   "source": [
    "any([])"
   ]
  },
  {
   "cell_type": "markdown",
   "metadata": {},
   "source": [
    "---------------"
   ]
  },
  {
   "cell_type": "markdown",
   "metadata": {},
   "source": [
    "# 3. 파이썬 속성 강좌 2"
   ]
  },
  {
   "cell_type": "markdown",
   "metadata": {},
   "source": [
    "## (1) 정렬"
   ]
  },
  {
   "cell_type": "markdown",
   "metadata": {},
   "source": [
    "> - list를 자동으로 정렬해 주는 sort 메서드가 있다."
   ]
  },
  {
   "cell_type": "code",
   "execution_count": 140,
   "metadata": {
    "collapsed": true
   },
   "outputs": [],
   "source": [
    "x = [-4, -1, -2, -3]"
   ]
  },
  {
   "cell_type": "code",
   "execution_count": 141,
   "metadata": {},
   "outputs": [
    {
     "data": {
      "text/plain": [
       "[-1, -2, -3, -4]"
      ]
     },
     "execution_count": 141,
     "metadata": {},
     "output_type": "execute_result"
    }
   ],
   "source": [
    "# 절대값 오름차순 정렬\n",
    "\n",
    "y = sorted(x, key=abs, reverse=False) \n",
    "y"
   ]
  },
  {
   "cell_type": "code",
   "execution_count": 142,
   "metadata": {},
   "outputs": [
    {
     "data": {
      "text/plain": [
       "[-4, -3, -2, -1]"
      ]
     },
     "execution_count": 142,
     "metadata": {},
     "output_type": "execute_result"
    }
   ],
   "source": [
    "# 절대값 내림차순 정렬, key에 원하는 함수를 넣어서 사용할 수 있다.\n",
    "\n",
    "y = sorted(x, key=abs, reverse=True) \n",
    "y"
   ]
  },
  {
   "cell_type": "code",
   "execution_count": 143,
   "metadata": {
    "collapsed": true
   },
   "outputs": [],
   "source": [
    "wc = sorted(word_counts.items(), \n",
    "            key = lambda x : x[1], ## word_counts의 value값 기준으로 \n",
    "            reverse = True         ## 내림 차순 정렬\n",
    "           )"
   ]
  },
  {
   "cell_type": "code",
   "execution_count": 144,
   "metadata": {
    "scrolled": true
   },
   "outputs": [
    {
     "data": {
      "text/plain": [
       "[('컴퓨터', 2),\n",
       " ('데이터를', 2),\n",
       " ('위한', 2),\n",
       " ('분석', 2),\n",
       " ('머신', 2),\n",
       " ('데이터', 2),\n",
       " ('만나는', 1),\n",
       " ('수학과', 1),\n",
       " ('깔린', 1),\n",
       " ('결과를', 1),\n",
       " ('집합을', 1),\n",
       " ('프로그래밍을', 1),\n",
       " ('필수', 1),\n",
       " ('분야가', 1),\n",
       " ('수집하고', 1),\n",
       " ('의사', 1),\n",
       " ('인간이', 1),\n",
       " ('영상', 1),\n",
       " ('포함하는', 1),\n",
       " ('개념을', 1),\n",
       " ('구체화하는', 1),\n",
       " ('기술의', 1),\n",
       " ('핵심적인', 1),\n",
       " ('통계학,', 1),\n",
       " ('학문', 1),\n",
       " ('기술이며,', 1),\n",
       " ('언어이다.', 1),\n",
       " ('통계학은', 1),\n",
       " ('하는', 1),\n",
       " ('노력이다.', 1),\n",
       " ('처리', 1),\n",
       " ('및', 1),\n",
       " ('사이언스,', 1),\n",
       " ('각종', 1),\n",
       " ('영역이다.', 1),\n",
       " ('러닝은', 1),\n",
       " ('다루기', 1),\n",
       " ('지금까지', 1),\n",
       " ('이러한', 1),\n",
       " ('해오던', 1),\n",
       " ('활용하여', 1),\n",
       " ('실제로', 1),\n",
       " ('분석하여', 1),\n",
       " ('사이언스는', 1),\n",
       " ('활용하기', 1),\n",
       " ('등', 1),\n",
       " ('사이언스란', 1),\n",
       " ('수학,', 1),\n",
       " ('대신하고자', 1),\n",
       " ('판단을', 1),\n",
       " ('learning),', 1),\n",
       " ('신호', 1),\n",
       " ('모든', 1),\n",
       " ('모형의', 1),\n",
       " ('기반에', 1),\n",
       " ('다양한', 1),\n",
       " ('말하며,', 1),\n",
       " ('분석과', 1),\n",
       " ('러닝(machine', 1)]"
      ]
     },
     "execution_count": 144,
     "metadata": {},
     "output_type": "execute_result"
    }
   ],
   "source": [
    "wc"
   ]
  },
  {
   "cell_type": "markdown",
   "metadata": {
    "collapsed": true
   },
   "source": [
    "## (2) List Comprehension"
   ]
  },
  {
   "cell_type": "markdown",
   "metadata": {},
   "source": [
    "> - 기존의 list에서 특정 항목을 선택하거나 변환시킨 결과를 새로운 list에 저장해야되는 경우, list comprehension을 사용한다."
   ]
  },
  {
   "cell_type": "code",
   "execution_count": 145,
   "metadata": {
    "scrolled": true
   },
   "outputs": [
    {
     "data": {
      "text/plain": [
       "[0, 2, 4]"
      ]
     },
     "execution_count": 145,
     "metadata": {},
     "output_type": "execute_result"
    }
   ],
   "source": [
    "# 0 ~ 5까지의 수 중에서 2로 나눈 나머지가 0인 숫자들만 (짝수) 출력\n",
    "\n",
    "even_numbers = [x for x in range(5) if x % 2 ==0]  \n",
    "even_numbers"
   ]
  },
  {
   "cell_type": "code",
   "execution_count": 146,
   "metadata": {},
   "outputs": [
    {
     "data": {
      "text/plain": [
       "[0, 1, 4, 9, 16]"
      ]
     },
     "execution_count": 146,
     "metadata": {},
     "output_type": "execute_result"
    }
   ],
   "source": [
    "# 0 ~ 5까지의 수 중 x 제곱인 수만 출력\n",
    "\n",
    "squares = [x*x for x in range(5)] \n",
    "squares"
   ]
  },
  {
   "cell_type": "code",
   "execution_count": 147,
   "metadata": {},
   "outputs": [
    {
     "data": {
      "text/plain": [
       "[0, 4, 16]"
      ]
     },
     "execution_count": 147,
     "metadata": {},
     "output_type": "execute_result"
    }
   ],
   "source": [
    "even_squares = [x * x for x in even_numbers]\n",
    "even_squares"
   ]
  },
  {
   "cell_type": "markdown",
   "metadata": {},
   "source": [
    "> - 또한 dict나 set으로 변환 시킬 수 있다."
   ]
  },
  {
   "cell_type": "code",
   "execution_count": 148,
   "metadata": {},
   "outputs": [
    {
     "data": {
      "text/plain": [
       "{0: 0, 1: 1, 2: 4, 3: 9, 4: 16}"
      ]
     },
     "execution_count": 148,
     "metadata": {},
     "output_type": "execute_result"
    }
   ],
   "source": [
    "squar_dict = {x: x*x for x in range(5)}\n",
    "squar_dict"
   ]
  },
  {
   "cell_type": "code",
   "execution_count": 149,
   "metadata": {},
   "outputs": [
    {
     "data": {
      "text/plain": [
       "{1}"
      ]
     },
     "execution_count": 149,
     "metadata": {},
     "output_type": "execute_result"
    }
   ],
   "source": [
    "square_set = {x * x for x in [1, -1]}\n",
    "square_set"
   ]
  },
  {
   "cell_type": "markdown",
   "metadata": {},
   "source": [
    "> - 보통 list에서 불필요한 값은 밑줄로 표기한다."
   ]
  },
  {
   "cell_type": "code",
   "execution_count": 150,
   "metadata": {},
   "outputs": [
    {
     "data": {
      "text/plain": [
       "[0, 0, 0]"
      ]
     },
     "execution_count": 150,
     "metadata": {},
     "output_type": "execute_result"
    }
   ],
   "source": [
    "zeroes = [0 for _ in even_numbers] # even_numbers 의 개수만큼 0이 생긴다.\n",
    "zeroes"
   ]
  },
  {
   "cell_type": "markdown",
   "metadata": {},
   "source": [
    "> - list comprehension에는 여러 for loop를 포함할 수 있다."
   ]
  },
  {
   "cell_type": "code",
   "execution_count": 151,
   "metadata": {
    "scrolled": true
   },
   "outputs": [
    {
     "data": {
      "text/plain": [
       "[(0, 0),\n",
       " (0, 1),\n",
       " (0, 2),\n",
       " (0, 3),\n",
       " (0, 4),\n",
       " (0, 5),\n",
       " (0, 6),\n",
       " (0, 7),\n",
       " (0, 8),\n",
       " (0, 9),\n",
       " (1, 0),\n",
       " (1, 1),\n",
       " (1, 2),\n",
       " (1, 3),\n",
       " (1, 4),\n",
       " (1, 5),\n",
       " (1, 6),\n",
       " (1, 7),\n",
       " (1, 8),\n",
       " (1, 9),\n",
       " (2, 0),\n",
       " (2, 1),\n",
       " (2, 2),\n",
       " (2, 3),\n",
       " (2, 4),\n",
       " (2, 5),\n",
       " (2, 6),\n",
       " (2, 7),\n",
       " (2, 8),\n",
       " (2, 9),\n",
       " (3, 0),\n",
       " (3, 1),\n",
       " (3, 2),\n",
       " (3, 3),\n",
       " (3, 4),\n",
       " (3, 5),\n",
       " (3, 6),\n",
       " (3, 7),\n",
       " (3, 8),\n",
       " (3, 9),\n",
       " (4, 0),\n",
       " (4, 1),\n",
       " (4, 2),\n",
       " (4, 3),\n",
       " (4, 4),\n",
       " (4, 5),\n",
       " (4, 6),\n",
       " (4, 7),\n",
       " (4, 8),\n",
       " (4, 9),\n",
       " (5, 0),\n",
       " (5, 1),\n",
       " (5, 2),\n",
       " (5, 3),\n",
       " (5, 4),\n",
       " (5, 5),\n",
       " (5, 6),\n",
       " (5, 7),\n",
       " (5, 8),\n",
       " (5, 9),\n",
       " (6, 0),\n",
       " (6, 1),\n",
       " (6, 2),\n",
       " (6, 3),\n",
       " (6, 4),\n",
       " (6, 5),\n",
       " (6, 6),\n",
       " (6, 7),\n",
       " (6, 8),\n",
       " (6, 9),\n",
       " (7, 0),\n",
       " (7, 1),\n",
       " (7, 2),\n",
       " (7, 3),\n",
       " (7, 4),\n",
       " (7, 5),\n",
       " (7, 6),\n",
       " (7, 7),\n",
       " (7, 8),\n",
       " (7, 9),\n",
       " (8, 0),\n",
       " (8, 1),\n",
       " (8, 2),\n",
       " (8, 3),\n",
       " (8, 4),\n",
       " (8, 5),\n",
       " (8, 6),\n",
       " (8, 7),\n",
       " (8, 8),\n",
       " (8, 9),\n",
       " (9, 0),\n",
       " (9, 1),\n",
       " (9, 2),\n",
       " (9, 3),\n",
       " (9, 4),\n",
       " (9, 5),\n",
       " (9, 6),\n",
       " (9, 7),\n",
       " (9, 8),\n",
       " (9, 9)]"
      ]
     },
     "execution_count": 151,
     "metadata": {},
     "output_type": "execute_result"
    }
   ],
   "source": [
    "# 뒤에 나오는 for는 앞에 나온 결과에 대해 반복한다.\n",
    "\n",
    "pairs = [(x, y) \n",
    "         for x in range(10) \n",
    "         for y in range(10)]  \n",
    "pairs"
   ]
  },
  {
   "cell_type": "code",
   "execution_count": 152,
   "metadata": {
    "scrolled": true
   },
   "outputs": [
    {
     "data": {
      "text/plain": [
       "[(0, 1),\n",
       " (0, 2),\n",
       " (0, 3),\n",
       " (0, 4),\n",
       " (0, 5),\n",
       " (0, 6),\n",
       " (0, 7),\n",
       " (0, 8),\n",
       " (0, 9),\n",
       " (1, 2),\n",
       " (1, 3),\n",
       " (1, 4),\n",
       " (1, 5),\n",
       " (1, 6),\n",
       " (1, 7),\n",
       " (1, 8),\n",
       " (1, 9),\n",
       " (2, 3),\n",
       " (2, 4),\n",
       " (2, 5),\n",
       " (2, 6),\n",
       " (2, 7),\n",
       " (2, 8),\n",
       " (2, 9),\n",
       " (3, 4),\n",
       " (3, 5),\n",
       " (3, 6),\n",
       " (3, 7),\n",
       " (3, 8),\n",
       " (3, 9),\n",
       " (4, 5),\n",
       " (4, 6),\n",
       " (4, 7),\n",
       " (4, 8),\n",
       " (4, 9),\n",
       " (5, 6),\n",
       " (5, 7),\n",
       " (5, 8),\n",
       " (5, 9),\n",
       " (6, 7),\n",
       " (6, 8),\n",
       " (6, 9),\n",
       " (7, 8),\n",
       " (7, 9),\n",
       " (8, 9)]"
      ]
     },
     "execution_count": 152,
     "metadata": {},
     "output_type": "execute_result"
    }
   ],
   "source": [
    "increasing_paris = [(x, y)                     # x < y인 경우만 해당\n",
    "                    for x in range(10) \n",
    "                    for y in range(x + 1, 10)] # range(lo, hi) 는 lo부터 시작해서 hi까지 이다.\n",
    "increasing_paris"
   ]
  },
  {
   "cell_type": "markdown",
   "metadata": {},
   "source": [
    "## (3) Generator와 iterator"
   ]
  },
  {
   "cell_type": "markdown",
   "metadata": {},
   "source": [
    "> - 한 번에 항목을 하나씩 처리하기 위해 list 전체를 사용하는 것은 엄청나게 비효율적이다.\n",
    "- 만약 list 앞부분의 몇몇 값만 필요하다면 list 전체를 계산할 필요가 없다.\n",
    "- Generator는 반복할 수 있으며, generator의 각 항목은 필요한 순간에 그때그때 생성된다.\n",
    "- Generator를 만드는 한 가지 방법은 함수와 yield를 활용하는 것이다."
   ]
  },
  {
   "cell_type": "code",
   "execution_count": 153,
   "metadata": {
    "collapsed": true
   },
   "outputs": [],
   "source": [
    "def lazy_range(n):\n",
    "    i = 0\n",
    "    while i < n: ## while : True 일때까지 반복한다. ( 즉, i가 n보다 작을떄 까지만 반복한다.)\n",
    "        yield i \n",
    "        i += 1\n"
   ]
  },
  {
   "cell_type": "code",
   "execution_count": 154,
   "metadata": {},
   "outputs": [
    {
     "data": {
      "text/plain": [
       "<generator object lazy_range at 0x1145048e0>"
      ]
     },
     "execution_count": 154,
     "metadata": {},
     "output_type": "execute_result"
    }
   ],
   "source": [
    "lazy_range(10)"
   ]
  },
  {
   "cell_type": "markdown",
   "metadata": {},
   "source": [
    "> - 파이썬 3에서는 range()도 이러한 동작 방식을 사용한다. 따라서 아무리 큰 숫자로 loop를 한다고해도 메모리에는 문제가 없다.\n",
    "- Generator의 단점은 generator를 단 한번만 반복할 수 있다는 점이다."
   ]
  },
  {
   "cell_type": "markdown",
   "metadata": {},
   "source": [
    ">- 괄호 안에 for 문을 추가하는 방법으로도 generator를 만들 수 있다."
   ]
  },
  {
   "cell_type": "code",
   "execution_count": 155,
   "metadata": {
    "collapsed": true
   },
   "outputs": [],
   "source": [
    "def range_2(n):\n",
    "    return list([i for i in range(n)])"
   ]
  },
  {
   "cell_type": "code",
   "execution_count": 156,
   "metadata": {},
   "outputs": [
    {
     "data": {
      "text/plain": [
       "<generator object <genexpr> at 0x114504d00>"
      ]
     },
     "execution_count": 156,
     "metadata": {},
     "output_type": "execute_result"
    }
   ],
   "source": [
    "(i for i in range_2(20) if i % 2 == 0)"
   ]
  },
  {
   "cell_type": "markdown",
   "metadata": {},
   "source": [
    "> ### generator와 iterator의 차이\n",
    "- list나 set과 같은 컬렉션에 대한 iterator는 해당 컬렉션이 이미 모든 값을 가지고 있는 경우이나, \n",
    "- Generator는 모든 데이타를 갖지 않은 상태에서 yield에 의해 하나씩만 데이타를 만들어 가져온다는 차이점이 있다.\n",
    "- 이러한 Generator는 데이타가 무제한이어서 모든 데이타를 리턴할 수 없는 경우나, 데이타가 대량이어서 일부씩 처리하는 것이 필요한 경우, 혹은 모든 데이타를 미리 계산하면 속도가 느려서 그때 그때 On Demand로 처리하는 것이 좋은 경우 등에 종종 사용된다.\n",
    "\n"
   ]
  },
  {
   "cell_type": "markdown",
   "metadata": {},
   "source": [
    "## (4) 난수 생성"
   ]
  },
  {
   "cell_type": "code",
   "execution_count": 157,
   "metadata": {},
   "outputs": [
    {
     "data": {
      "text/plain": [
       "[0.6879132855128358,\n",
       " 0.34934353734522205,\n",
       " 0.7375366464614791,\n",
       " 0.905055027954969]"
      ]
     },
     "execution_count": 157,
     "metadata": {},
     "output_type": "execute_result"
    }
   ],
   "source": [
    "## random함수를 사용하여 0과 1 사이의 random값을 4개 생성한다.\n",
    "\n",
    "import random\n",
    "four_uniform_randoms = [random.random() for _ in range(4)]\n",
    "four_uniform_randoms"
   ]
  },
  {
   "cell_type": "markdown",
   "metadata": {},
   "source": [
    "> - 동일한 난수를 계속 사용하고 싶다면 random.seed를 통해 매번 고정된 난수를 생성하면 된다."
   ]
  },
  {
   "cell_type": "code",
   "execution_count": 158,
   "metadata": {
    "scrolled": true
   },
   "outputs": [
    {
     "name": "stdout",
     "output_type": "stream",
     "text": [
      "0.5714025946899135\n"
     ]
    }
   ],
   "source": [
    "random.seed(10)\n",
    "print(random.random())"
   ]
  },
  {
   "cell_type": "code",
   "execution_count": 159,
   "metadata": {},
   "outputs": [
    {
     "name": "stdout",
     "output_type": "stream",
     "text": [
      "0.5714025946899135\n"
     ]
    }
   ],
   "source": [
    "random.seed(10)\n",
    "print(random.random())"
   ]
  },
  {
   "cell_type": "markdown",
   "metadata": {},
   "source": [
    "> - random.randrange 메서드를 사용하면 range()에 해당하는 구간 안에서 난수를 생성할 수 있다."
   ]
  },
  {
   "cell_type": "code",
   "execution_count": 160,
   "metadata": {},
   "outputs": [
    {
     "data": {
      "text/plain": [
       "54"
      ]
     },
     "execution_count": 160,
     "metadata": {},
     "output_type": "execute_result"
    }
   ],
   "source": [
    "random.randrange(start = 0, stop = 100)"
   ]
  },
  {
   "cell_type": "markdown",
   "metadata": {},
   "source": [
    "> - random.shuffle은 list의 항목을 임의 순서로 재정렬 해준다."
   ]
  },
  {
   "cell_type": "code",
   "execution_count": 161,
   "metadata": {},
   "outputs": [
    {
     "data": {
      "text/plain": [
       "[4, 5, 8, 1, 2, 6, 9, 3, 0, 7]"
      ]
     },
     "execution_count": 161,
     "metadata": {},
     "output_type": "execute_result"
    }
   ],
   "source": [
    "# 0 ~ 9 까지의 임의의 숫자 10개를 만든 뒤, 순서를 임의로 재정렬한다.\n",
    "up_to_ten = list(range(10))\n",
    "random.shuffle(up_to_ten)\n",
    "up_to_ten"
   ]
  },
  {
   "cell_type": "code",
   "execution_count": 162,
   "metadata": {
    "collapsed": true
   },
   "outputs": [],
   "source": [
    "my_best_friend = random.choice(['Alice', 'Bob', 'Charlie'])"
   ]
  },
  {
   "cell_type": "code",
   "execution_count": 163,
   "metadata": {},
   "outputs": [
    {
     "data": {
      "text/plain": [
       "'Bob'"
      ]
     },
     "execution_count": 163,
     "metadata": {},
     "output_type": "execute_result"
    }
   ],
   "source": [
    "my_best_friend"
   ]
  },
  {
   "cell_type": "markdown",
   "metadata": {},
   "source": [
    "> - random.sample을 사용하면 list에서 중복이 허용되지 않는 임의의 표본 list를 만들 수 있다."
   ]
  },
  {
   "cell_type": "code",
   "execution_count": 164,
   "metadata": {},
   "outputs": [
    {
     "data": {
      "text/plain": [
       "[4, 15, 47, 23, 2, 26]"
      ]
     },
     "execution_count": 164,
     "metadata": {},
     "output_type": "execute_result"
    }
   ],
   "source": [
    "lottery_numbers = range(60)\n",
    "winning_numbers = random.sample(lottery_numbers, 6)\n",
    "winning_numbers"
   ]
  },
  {
   "cell_type": "markdown",
   "metadata": {},
   "source": [
    "> - random.choice를 여러번 사용하면 중복이 허용되는 임의의 표본 list를 만들 수 있다."
   ]
  },
  {
   "cell_type": "code",
   "execution_count": 165,
   "metadata": {},
   "outputs": [
    {
     "data": {
      "text/plain": [
       "[2, 9, 5, 6]"
      ]
     },
     "execution_count": 165,
     "metadata": {},
     "output_type": "execute_result"
    }
   ],
   "source": [
    "four_with_replacement = [random.choice(range(10)) for _ in range(4)]\n",
    "four_with_replacement"
   ]
  },
  {
   "cell_type": "markdown",
   "metadata": {},
   "source": [
    "## (5) 정규표현식"
   ]
  },
  {
   "cell_type": "markdown",
   "metadata": {},
   "source": [
    "> - 정규표현식을 사용하면 문자열을 쉽게 찾을 수 있다."
   ]
  },
  {
   "cell_type": "code",
   "execution_count": 166,
   "metadata": {},
   "outputs": [
    {
     "name": "stdout",
     "output_type": "stream",
     "text": [
      "<_sre.SRE_Match object; span=(1, 2), match='a'>\n"
     ]
    }
   ],
   "source": [
    "import re\n",
    "print(re.search('a', 'cat'))"
   ]
  },
  {
   "cell_type": "markdown",
   "metadata": {},
   "source": [
    "## (6) 객체 지향 프로그래밍 (Object-Oriented Programming)"
   ]
  },
  {
   "cell_type": "markdown",
   "metadata": {},
   "source": [
    "> - 클래스(class)를 사용하면 데이터와 관련 함수를 하나로 묶어 줄 수 있다.\n",
    "- 예시\n",
    "    - 과자틀 : 클래스 (class)\n",
    "    - 과자틀에 의해서 만들어진 과자들 : 객체 (object)       \n",
    "    \n",
    "    \n",
    "> - 클래스에 의해 만들어진 객체들은 객체별로 독립적인 성격을 갖는다. \n",
    "    - 과자틀에 의해서 만들어진 과자에 구멍을 뚫거나 조금 베어먹더라도 다른 과자들에는 아무 영향이 없는것과 마찬가지로 동일한 클래스에의해 생성된 객체들은 서로에게 전혀 영향을 주지 않는다."
   ]
  },
  {
   "cell_type": "code",
   "execution_count": 167,
   "metadata": {
    "collapsed": true
   },
   "outputs": [],
   "source": [
    "# 클래스의 이름은 관습에 따라 파스칼케이스로 표기 (파스칼 케이스 : 쌍봉낙타표기법 ex. DecisionTreeClassifier)\n",
    "class Set:\n",
    "    # 이제 멤버 함수들을 정의한다. \n",
    "    # 모든 멤버 함수의 첫번쨰 인자는 'self'이다 (관습 중 하나)\n",
    "    # 'self'란 현재 사용되고 있는 Set 객체를 의미한다.\n",
    "    \n",
    "    def __init__(self, values = None):  ## constructor(생성자이다.)\n",
    "        \"\"\"이것은 constructor(생성저)이다\n",
    "        새로운 Set을 만들면 호출된다.\n",
    "        다음과 같이 사용할 수 있다.\n",
    "        s1 = Set()\n",
    "        s2 = Set([1, 2, 2, 3])\"\"\"\n",
    "        self.dict = {}                  ## 모든 Set의 인스턴스는 자체적으로 dict를 유지한다.\n",
    "        \n",
    "        if values is not None:          ## 만약 values가 없지 않다면, values의 각 value들을 객체에 추가한다.\n",
    "            for value in values:        ## 여기서 주의할 점은 입력되는 values가 list나 튜플 형태여야 작동을 한다는 것이다.\n",
    "                self.add(value)\n",
    "    \n",
    "    def __repr__(self):\n",
    "        \"\"\"파이썬 프롬프트에서 이 함수를 입력하거나 str()으로 보내주면 \n",
    "        Set 객체를 문자열로 표현해줌\"\"\"\n",
    "        return \"Set : \" + str(self.dict)\n",
    "    \n",
    "    # self.dict에서 항목과 True를 각각 key와 value로 사용해서 Set 안에 존재하는 항목을 표현\n",
    "    def add(self, value):\n",
    "        self.dict[value] = True\n",
    "    \n",
    "    # 만약 항목이 dict의 key라면 항목은 Set 안에 존재함\n",
    "    def contains(self, value):\n",
    "        return value in self.dict\n",
    "    \n",
    "    def remove(self, value):\n",
    "        del (self.dict[value])"
   ]
  },
  {
   "cell_type": "code",
   "execution_count": 168,
   "metadata": {},
   "outputs": [
    {
     "data": {
      "text/plain": [
       "Set : {1: True, 2: True, 3: True}"
      ]
     },
     "execution_count": 168,
     "metadata": {},
     "output_type": "execute_result"
    }
   ],
   "source": [
    "s = Set([1, 2, 3])\n",
    "s"
   ]
  },
  {
   "cell_type": "code",
   "execution_count": 169,
   "metadata": {},
   "outputs": [
    {
     "data": {
      "text/plain": [
       "Set : {1: True, 2: True, 3: True, 4: True}"
      ]
     },
     "execution_count": 169,
     "metadata": {},
     "output_type": "execute_result"
    }
   ],
   "source": [
    "s.add(4)\n",
    "s"
   ]
  },
  {
   "cell_type": "code",
   "execution_count": 170,
   "metadata": {},
   "outputs": [
    {
     "data": {
      "text/plain": [
       "Set : {1: True, 2: True, 4: True}"
      ]
     },
     "execution_count": 170,
     "metadata": {},
     "output_type": "execute_result"
    }
   ],
   "source": [
    "s.remove(3)\n",
    "s"
   ]
  },
  {
   "cell_type": "code",
   "execution_count": 171,
   "metadata": {},
   "outputs": [
    {
     "name": "stdout",
     "output_type": "stream",
     "text": [
      "False\n"
     ]
    }
   ],
   "source": [
    "print(s.contains(3))"
   ]
  },
  {
   "cell_type": "markdown",
   "metadata": {},
   "source": [
    "## (7) 함수형 도구"
   ]
  },
  {
   "cell_type": "markdown",
   "metadata": {},
   "source": [
    "### (a) partial"
   ]
  },
  {
   "cell_type": "markdown",
   "metadata": {},
   "source": [
    "> - 여러 함수를 호출할 때 한 함수의 특정 부분을 사용해서 새로운 함수를 만드는 것을 partial function application 또는 currying이라고 한다."
   ]
  },
  {
   "cell_type": "code",
   "execution_count": 172,
   "metadata": {},
   "outputs": [
    {
     "data": {
      "text/plain": [
       "4"
      ]
     },
     "execution_count": 172,
     "metadata": {},
     "output_type": "execute_result"
    }
   ],
   "source": [
    "## power라는 변수 한개를 입력하면 exp(2, power)라는 결과를 출력해 주는 two_to_the 함수를 만들어 보자\n",
    "\n",
    "def exp(base, power):\n",
    "    return base ** power\n",
    "\n",
    "def two_to_the(power):\n",
    "    return exp(2, power)\n",
    "\n",
    "two_to_the(2)"
   ]
  },
  {
   "cell_type": "markdown",
   "metadata": {},
   "source": [
    "> - 위와 같은 방법은 너무 복잡하다. functiontools.partial 이라는 것을 사용해서 간단하게 만들수 있다."
   ]
  },
  {
   "cell_type": "code",
   "execution_count": 173,
   "metadata": {
    "scrolled": true
   },
   "outputs": [
    {
     "data": {
      "text/plain": [
       "8"
      ]
     },
     "execution_count": 173,
     "metadata": {},
     "output_type": "execute_result"
    }
   ],
   "source": [
    "from functools import partial\n",
    "\n",
    "two_to_the = partial(exp, 2)  ## exp라는 함수의 첫번째 인자를 가지고 오겠다.\n",
    "two_to_the(3)"
   ]
  },
  {
   "cell_type": "code",
   "execution_count": 174,
   "metadata": {},
   "outputs": [
    {
     "data": {
      "text/plain": [
       "9"
      ]
     },
     "execution_count": 174,
     "metadata": {},
     "output_type": "execute_result"
    }
   ],
   "source": [
    "## 인자의 이름을 명시해주면 뒤에 나오는 인자에도 partial을 적용할 수 있다.\n",
    "\n",
    "square_of = partial(exp, power = 2)\n",
    "square_of(3)"
   ]
  },
  {
   "cell_type": "markdown",
   "metadata": {},
   "source": [
    "### list comprehension의 대안으로 map, reduce, filter를 사용하는 경우도 있다.\n",
    "\n",
    "### (b) map"
   ]
  },
  {
   "cell_type": "code",
   "execution_count": 175,
   "metadata": {},
   "outputs": [
    {
     "data": {
      "text/plain": [
       "[2, 4, 6, 8]"
      ]
     },
     "execution_count": 175,
     "metadata": {},
     "output_type": "execute_result"
    }
   ],
   "source": [
    "## list comprehension을 이용하여 double 함수를 여러개의 값에 적용\n",
    "\n",
    "def double(x):\n",
    "    return 2 * x\n",
    "\n",
    "xs = [1, 2, 3, 4]\n",
    "twice_xs = [double(x) for x in xs]\n",
    "twice_xs"
   ]
  },
  {
   "cell_type": "code",
   "execution_count": 176,
   "metadata": {},
   "outputs": [
    {
     "data": {
      "text/plain": [
       "<map at 0x113c43438>"
      ]
     },
     "execution_count": 176,
     "metadata": {},
     "output_type": "execute_result"
    }
   ],
   "source": [
    "twice_xs = map(double, xs)\n",
    "twice_xs # 파이썬 3에서는 map 함수를 써서 연산을 하는 객체를 만들어도 실제 결과값이 연산되지는 않는다. (iterator만 생성됨)"
   ]
  },
  {
   "cell_type": "code",
   "execution_count": 177,
   "metadata": {},
   "outputs": [
    {
     "data": {
      "text/plain": [
       "[2, 4, 6, 8]"
      ]
     },
     "execution_count": 177,
     "metadata": {},
     "output_type": "execute_result"
    }
   ],
   "source": [
    "list(twice_xs) # 이렇게해야 실제 연산이 일어나고 값이 출력된다."
   ]
  },
  {
   "cell_type": "code",
   "execution_count": 178,
   "metadata": {},
   "outputs": [
    {
     "data": {
      "text/plain": [
       "[4, 10]"
      ]
     },
     "execution_count": 178,
     "metadata": {},
     "output_type": "execute_result"
    }
   ],
   "source": [
    "## 여러개의 list를 입력해 주면 인자가 여러개인 함수에도 map을 적용할 수 있다.\n",
    "\n",
    "def multiply(x, y): return x*y\n",
    "\n",
    "products = map(multiply, [1, 2], [4, 5])\n",
    "list(products) ## [1*4, 2*5]"
   ]
  },
  {
   "cell_type": "code",
   "execution_count": 179,
   "metadata": {},
   "outputs": [
    {
     "data": {
      "text/plain": [
       "[4, 10]"
      ]
     },
     "execution_count": 179,
     "metadata": {},
     "output_type": "execute_result"
    }
   ],
   "source": [
    "## 위와 동일한 과정을 하려면 이렇게 해야된다.\n",
    "\n",
    "a = [1, 2]\n",
    "b = [4, 5]\n",
    "c = []\n",
    "for i, j in enumerate(a):\n",
    "    for k, l in enumerate(b):\n",
    "        if i == k: ## 서로 같은 위치에 있는 인자끼리만 곱해준다.\n",
    "            c.append(j * l)\n",
    "c"
   ]
  },
  {
   "cell_type": "markdown",
   "metadata": {},
   "source": [
    "### (c) filter\n",
    "> - filter는 if가 포함된 list comprehension과 동일하다."
   ]
  },
  {
   "cell_type": "code",
   "execution_count": 180,
   "metadata": {},
   "outputs": [
    {
     "data": {
      "text/plain": [
       "[2, 4]"
      ]
     },
     "execution_count": 180,
     "metadata": {},
     "output_type": "execute_result"
    }
   ],
   "source": [
    "def is_even(x):\n",
    "    \"\"\"x가 짝수면 True, 홀수면 False\"\"\"\n",
    "    return x % 2 == 0\n",
    "\n",
    "x_evens = [x for x in xs if is_even(x)]\n",
    "x_evens"
   ]
  },
  {
   "cell_type": "code",
   "execution_count": 181,
   "metadata": {},
   "outputs": [
    {
     "data": {
      "text/plain": [
       "[2, 4]"
      ]
     },
     "execution_count": 181,
     "metadata": {},
     "output_type": "execute_result"
    }
   ],
   "source": [
    "## filter(True/False 판별 함수, list)\n",
    "x_evens = filter(is_even, xs)   \n",
    "list(x_evens)"
   ]
  },
  {
   "cell_type": "code",
   "execution_count": 182,
   "metadata": {
    "scrolled": true
   },
   "outputs": [
    {
     "data": {
      "text/plain": [
       "[2, 4]"
      ]
     },
     "execution_count": 182,
     "metadata": {},
     "output_type": "execute_result"
    }
   ],
   "source": [
    "## 위 결과와 동일\n",
    "## partial을 이용해서, filter와 is_even 함수를 사용하는 list_evener 함수를 선언\n",
    "\n",
    "list_evener = partial(filter, is_even)\n",
    "x_evens = list_evener(xs)\n",
    "list(x_evens)"
   ]
  },
  {
   "cell_type": "markdown",
   "metadata": {},
   "source": [
    "### (d) reduce"
   ]
  },
  {
   "cell_type": "markdown",
   "metadata": {},
   "source": [
    "> - reduce는 list의 모든 항목을 순차적으로 합쳐주면서 list를 하나의 값으로 표현한다."
   ]
  },
  {
   "cell_type": "code",
   "execution_count": 183,
   "metadata": {
    "scrolled": true
   },
   "outputs": [
    {
     "data": {
      "text/plain": [
       "24"
      ]
     },
     "execution_count": 183,
     "metadata": {},
     "output_type": "execute_result"
    }
   ],
   "source": [
    "# 1*2*3*4 = 24\n",
    "from functools import reduce\n",
    "\n",
    "x_product = reduce(multiply, xs)\n",
    "x_product"
   ]
  },
  {
   "cell_type": "code",
   "execution_count": 184,
   "metadata": {},
   "outputs": [
    {
     "data": {
      "text/plain": [
       "24"
      ]
     },
     "execution_count": 184,
     "metadata": {},
     "output_type": "execute_result"
    }
   ],
   "source": [
    "list_product = partial(reduce, multiply)\n",
    "list_product(xs)"
   ]
  },
  {
   "cell_type": "markdown",
   "metadata": {},
   "source": [
    "## (8) enumerate"
   ]
  },
  {
   "cell_type": "markdown",
   "metadata": {},
   "source": [
    "> - list를 반복하면서  list의 항목과 인덱스가 모두 필요한 경우가 종종있다."
   ]
  },
  {
   "cell_type": "code",
   "execution_count": 185,
   "metadata": {
    "collapsed": true
   },
   "outputs": [],
   "source": [
    "documents = ['Applications for Python', 'Python is used in many application domains. Here\\'s a sampling.', 'The Python Package Index lists thousands of third party modules for Python.', 'Web and Internet Development', 'Python offers many choices for web development:', 'Frameworks such as Django and Pyramid.', 'Micro-frameworks such as Flask and Bottle.', 'Advanced content management systems such as Plone and django CMS.', 'Python\\'s standard library supports many Internet protocols:', 'HTML and XML', 'JSON', 'E-mail processing.', 'Support for FTP, IMAP, and other Internet protocols.', 'Easy-to-use socket interface.', 'And the Package Index has yet more libraries:', 'Requests, a powerful HTTP client library.', 'BeautifulSoup, an HTML parser that can handle all sorts of oddball HTML.', 'Feedparser for parsing RSS/Atom feeds.', 'Paramiko, implementing the SSH2 protocol.', 'Twisted Python, a framework for asynchronous network programming.', 'Scientific and Numeric', 'Python is widely used in scientific and numeric computing:', 'SciPy is a collection of packages for mathematics, science, and engineering.', 'Pandas is a data analysis and modeling library.', 'IPython is a powerful interactive shell that features easy editing and recording of a work session, and supports visualizations and parallel computing.', 'The Software Carpentry Course teaches basic skills for scientific computing, running bootcamps and providing open-access teaching materials.', 'Education', 'Python is a superb language for teaching programming, both at the introductory level and in more advanced courses.', 'Books such as How to Think Like a Computer Scientist, Python Programming: An Introduction to Computer Science, and Practical Programming.', 'The Education Special Interest Group is a good place to discuss teaching issues.', 'Desktop GUIs', 'The Tk GUI library is included with most binary distributions of Python.', 'Some toolkits that are usable on several platforms are available separately:', 'wxWidgets', 'Kivy, for writing multitouch applications.', 'Qt via pyqt or pyside', 'Platform-specific toolkits are also available:', 'GTK+', 'Microsoft Foundation Classes through the win32 extensions', 'Software Development', 'Python is often used as a support language for software developers, for build control and management, testing, and in many other ways.', 'SCons for build control.', 'Buildbot and Apache Gump for automated continuous compilation and testing.', 'Roundup or Trac for bug tracking and project management.', 'Business Applications', 'Python is also used to build ERP and e-commerce systems:', 'Odoo is an all-in-one management software that offers a range of business applications that form a complete suite of enterprise management applications.', 'Tryton is a three-tier high-level general purpose application platform.']"
   ]
  },
  {
   "cell_type": "code",
   "execution_count": 186,
   "metadata": {},
   "outputs": [
    {
     "name": "stdout",
     "output_type": "stream",
     "text": [
      "0 데이터\n",
      "1 사이언스란\n",
      "2 데이터를\n",
      "3 수집하고\n",
      "4 분석하여\n",
      "5 활용하기\n",
      "6 위한\n",
      "7 모든\n",
      "8 기술의\n",
      "9 집합을\n",
      "10 말하며,\n",
      "11 컴퓨터\n",
      "12 사이언스,\n",
      "13 수학,\n",
      "14 통계학,\n",
      "15 머신\n",
      "16 러닝(machine\n",
      "17 learning),\n",
      "18 영상\n",
      "19 및\n",
      "20 신호\n",
      "21 처리\n",
      "22 등\n",
      "23 다양한\n",
      "24 학문\n",
      "25 분야가\n",
      "26 만나는\n",
      "27 영역이다.\n",
      "28 프로그래밍을\n",
      "29 포함하는\n",
      "30 컴퓨터\n",
      "31 사이언스는\n",
      "32 실제로\n",
      "33 데이터를\n",
      "34 다루기\n",
      "35 위한\n",
      "36 필수\n",
      "37 기술이며,\n",
      "38 수학과\n",
      "39 통계학은\n",
      "40 데이터\n",
      "41 분석\n",
      "42 모형의\n",
      "43 기반에\n",
      "44 깔린\n",
      "45 핵심적인\n",
      "46 개념을\n",
      "47 구체화하는\n",
      "48 언어이다.\n",
      "49 머신\n",
      "50 러닝은\n",
      "51 이러한\n",
      "52 분석\n",
      "53 결과를\n",
      "54 활용하여\n",
      "55 지금까지\n",
      "56 인간이\n",
      "57 해오던\n",
      "58 각종\n",
      "59 분석과\n",
      "60 의사\n",
      "61 판단을\n",
      "62 대신하고자\n",
      "63 하는\n",
      "64 노력이다.\n"
     ]
    }
   ],
   "source": [
    "## 여러개의 문서 집합을 돌면서 각 문서의 인덱스와 문서를 print해보자\n",
    "\n",
    "for i in range(len(document)):\n",
    "    d = document[i]\n",
    "    print(i, d)\n"
   ]
  },
  {
   "cell_type": "code",
   "execution_count": 187,
   "metadata": {
    "collapsed": true
   },
   "outputs": [],
   "source": [
    "## enumerate를 사용하면 한번에 인덱스와 항목을 가져올 수 있다.\n",
    "for i, document in enumerate(documents):\n",
    "    Counter(d)"
   ]
  },
  {
   "cell_type": "code",
   "execution_count": 188,
   "metadata": {},
   "outputs": [
    {
     "name": "stdout",
     "output_type": "stream",
     "text": [
      "0\n",
      "1\n",
      "2\n",
      "3\n",
      "4\n",
      "5\n",
      "6\n",
      "7\n",
      "8\n",
      "9\n",
      "10\n",
      "11\n",
      "12\n",
      "13\n",
      "14\n",
      "15\n",
      "16\n",
      "17\n",
      "18\n",
      "19\n",
      "20\n",
      "21\n",
      "22\n",
      "23\n",
      "24\n",
      "25\n",
      "26\n",
      "27\n",
      "28\n",
      "29\n",
      "30\n",
      "31\n",
      "32\n",
      "33\n",
      "34\n",
      "35\n",
      "36\n",
      "37\n",
      "38\n",
      "39\n",
      "40\n",
      "41\n",
      "42\n",
      "43\n",
      "44\n",
      "45\n",
      "46\n",
      "47\n"
     ]
    }
   ],
   "source": [
    "## 인덱스만 필요하다면 항목 부분을 빈값으로 받으면 된다.\n",
    "for i, _ in enumerate(documents):\n",
    "    print(i)"
   ]
  },
  {
   "cell_type": "markdown",
   "metadata": {},
   "source": [
    "## (9) zip과 agument unpacking"
   ]
  },
  {
   "cell_type": "markdown",
   "metadata": {},
   "source": [
    "> - zip은 여러개의 list를 서로 사응하는 항목의 tuple로 구성된 list로 변환해 준다."
   ]
  },
  {
   "cell_type": "code",
   "execution_count": 189,
   "metadata": {},
   "outputs": [
    {
     "data": {
      "text/plain": [
       "[('a', 1), ('b', 2), ('c', 3)]"
      ]
     },
     "execution_count": 189,
     "metadata": {},
     "output_type": "execute_result"
    }
   ],
   "source": [
    "list1 = ['a', 'b', 'c']\n",
    "list2 = [1, 2, 3]\n",
    "list(zip(list1, list2))"
   ]
  },
  {
   "cell_type": "code",
   "execution_count": 190,
   "metadata": {},
   "outputs": [
    {
     "data": {
      "text/plain": [
       "[('a', 1), ('b', 2), ('c', 3)]"
      ]
     },
     "execution_count": 190,
     "metadata": {},
     "output_type": "execute_result"
    }
   ],
   "source": [
    "## 주어진 list의 길이가 서로 다른 경우 zip은 가장 길이가 짧은 list가 끝나면 멈춘다.\n",
    "\n",
    "list1 = ['a', 'b', 'c']\n",
    "list2 = [1, 2, 3, 4]\n",
    "list(zip(list1, list2))"
   ]
  },
  {
   "cell_type": "code",
   "execution_count": 191,
   "metadata": {},
   "outputs": [
    {
     "data": {
      "text/plain": [
       "[('a', 1), ('b', 2), ('c', 3)]"
      ]
     },
     "execution_count": 191,
     "metadata": {},
     "output_type": "execute_result"
    }
   ],
   "source": [
    "list1 = ['a', 'b', 'c', 'd', 'e', 'f', 'g']\n",
    "list2 = [1, 2, 3]\n",
    "list(zip(list1, list2))"
   ]
  },
  {
   "cell_type": "code",
   "execution_count": 192,
   "metadata": {},
   "outputs": [
    {
     "data": {
      "text/plain": [
       "[('a', 1, 10)]"
      ]
     },
     "execution_count": 192,
     "metadata": {},
     "output_type": "execute_result"
    }
   ],
   "source": [
    "list1 = ['a', 'b', 'c', 'd', 'e', 'f', 'g']\n",
    "list2 = [1, 2, 3]\n",
    "list3 = [10]\n",
    "list(zip(list1, list2, list3))"
   ]
  },
  {
   "cell_type": "markdown",
   "metadata": {},
   "source": [
    "> - 묶인 list argument unpacking을 이용해서 다시 풀어줄 수도 있다."
   ]
  },
  {
   "cell_type": "code",
   "execution_count": 193,
   "metadata": {
    "collapsed": true
   },
   "outputs": [],
   "source": [
    "## 여기서 사용되는 *는 원래 argument unpacking(인자 해체)를 할 대 사용되는 문법이다.\n",
    "## 이를 사용하면 pairs 내의 항목들을 zip 함수에 개별적인 인자로 전달해준다.\n",
    "\n",
    "pairs = [('a', 1), ('b', 2), ('c', 3)]\n",
    "letters, numbers = zip(*pairs)"
   ]
  },
  {
   "cell_type": "code",
   "execution_count": 194,
   "metadata": {},
   "outputs": [
    {
     "data": {
      "text/plain": [
       "('a', 'b', 'c')"
      ]
     },
     "execution_count": 194,
     "metadata": {},
     "output_type": "execute_result"
    }
   ],
   "source": [
    "letters"
   ]
  },
  {
   "cell_type": "code",
   "execution_count": 195,
   "metadata": {},
   "outputs": [
    {
     "data": {
      "text/plain": [
       "(1, 2, 3)"
      ]
     },
     "execution_count": 195,
     "metadata": {},
     "output_type": "execute_result"
    }
   ],
   "source": [
    "numbers"
   ]
  },
  {
   "cell_type": "code",
   "execution_count": 196,
   "metadata": {
    "collapsed": true
   },
   "outputs": [],
   "source": [
    "## 아래와 같이 3개의 tuple을 zip 하는 것과 같다.\n",
    "\n",
    "letters, numbers = zip(('a', 1), ('b', 2), ('c', 3))"
   ]
  },
  {
   "cell_type": "code",
   "execution_count": 197,
   "metadata": {},
   "outputs": [
    {
     "data": {
      "text/plain": [
       "('a', 'b', 'c')"
      ]
     },
     "execution_count": 197,
     "metadata": {},
     "output_type": "execute_result"
    }
   ],
   "source": [
    "letters"
   ]
  },
  {
   "cell_type": "code",
   "execution_count": 198,
   "metadata": {},
   "outputs": [
    {
     "data": {
      "text/plain": [
       "(1, 2, 3)"
      ]
     },
     "execution_count": 198,
     "metadata": {},
     "output_type": "execute_result"
    }
   ],
   "source": [
    "numbers"
   ]
  },
  {
   "cell_type": "markdown",
   "metadata": {},
   "source": [
    "## (10) args와 kwargs"
   ]
  },
  {
   "cell_type": "markdown",
   "metadata": {},
   "source": [
    "> - 특정 함수 f를 입력하며 f의 결과를 두배로 만드는 함수를 반환해 주는 고차 함수를 만들고 싶다고 해보자."
   ]
  },
  {
   "cell_type": "code",
   "execution_count": 199,
   "metadata": {
    "collapsed": true
   },
   "outputs": [],
   "source": [
    "def doubler(f):\n",
    "    def g(x):\n",
    "        return 2 * f(x)\n",
    "    return g"
   ]
  },
  {
   "cell_type": "code",
   "execution_count": 200,
   "metadata": {},
   "outputs": [
    {
     "data": {
      "text/plain": [
       "8"
      ]
     },
     "execution_count": 200,
     "metadata": {},
     "output_type": "execute_result"
    }
   ],
   "source": [
    "## 이 함수는 인자가 하나가 들어오는 함수의 경우에만 작동한다.\n",
    "\n",
    "def f1(x):\n",
    "    return x + 1\n",
    "\n",
    "g = doubler(f1)\n",
    "g(3)"
   ]
  },
  {
   "cell_type": "code",
   "execution_count": 201,
   "metadata": {},
   "outputs": [
    {
     "ename": "TypeError",
     "evalue": "g() takes 1 positional argument but 2 were given",
     "output_type": "error",
     "traceback": [
      "\u001b[0;31m---------------------------------------------------------------------------\u001b[0m",
      "\u001b[0;31mTypeError\u001b[0m                                 Traceback (most recent call last)",
      "\u001b[0;32m<ipython-input-201-fea9aef9a578>\u001b[0m in \u001b[0;36m<module>\u001b[0;34m()\u001b[0m\n\u001b[1;32m      5\u001b[0m \u001b[0;34m\u001b[0m\u001b[0m\n\u001b[1;32m      6\u001b[0m \u001b[0mg\u001b[0m \u001b[0;34m=\u001b[0m \u001b[0mdoubler\u001b[0m\u001b[0;34m(\u001b[0m\u001b[0mf2\u001b[0m\u001b[0;34m)\u001b[0m\u001b[0;34m\u001b[0m\u001b[0m\n\u001b[0;32m----> 7\u001b[0;31m \u001b[0mg\u001b[0m\u001b[0;34m(\u001b[0m\u001b[0;36m1\u001b[0m\u001b[0;34m,\u001b[0m \u001b[0;36m2\u001b[0m\u001b[0;34m)\u001b[0m\u001b[0;34m\u001b[0m\u001b[0m\n\u001b[0m",
      "\u001b[0;31mTypeError\u001b[0m: g() takes 1 positional argument but 2 were given"
     ]
    }
   ],
   "source": [
    "## 두개 이상의 인자를 받는 함수의 경우에는 문제가 발생하다.\n",
    "\n",
    "def f2(x, y):\n",
    "    return x + y\n",
    "\n",
    "g = doubler(f2)\n",
    "g(1, 2)"
   ]
  },
  {
   "cell_type": "markdown",
   "metadata": {},
   "source": [
    "> - 임의의 수의 인자를 받는 함수를 만들어주면 이 문제를 해결할 수 있다.\n",
    "- 앞서 말한 argument unpacking을 사용한다."
   ]
  },
  {
   "cell_type": "code",
   "execution_count": 202,
   "metadata": {
    "collapsed": true
   },
   "outputs": [],
   "source": [
    "def magic(*args, **kargs):\n",
    "    print('unnamed args : ', args)\n",
    "    print('keyword args : ', kargs)"
   ]
  },
  {
   "cell_type": "code",
   "execution_count": 203,
   "metadata": {},
   "outputs": [
    {
     "name": "stdout",
     "output_type": "stream",
     "text": [
      "unnamed args :  (1, 2, 3, 4, 5)\n",
      "keyword args :  {'key1': 'word1', 'key2': 'word2'}\n"
     ]
    }
   ],
   "source": [
    "## agrs는 이름없는 인자로 구성된 tuple이며, kwargs는 이름이 주어진 인자로 구성된 dict이다.\n",
    "\n",
    "magic(1, 2, 3, 4, 5, key1 = 'word1', key2 = 'word2')"
   ]
  },
  {
   "cell_type": "code",
   "execution_count": 204,
   "metadata": {
    "collapsed": true
   },
   "outputs": [],
   "source": [
    "def other_way_magic(x, y, z):\n",
    "    return x + y + z"
   ]
  },
  {
   "cell_type": "code",
   "execution_count": 205,
   "metadata": {},
   "outputs": [
    {
     "data": {
      "text/plain": [
       "6"
      ]
     },
     "execution_count": 205,
     "metadata": {},
     "output_type": "execute_result"
    }
   ],
   "source": [
    "x_y_list = [1, 2]\n",
    "z_dict = {'z' : 3}\n",
    "\n",
    "other_way_magic(*x_y_list, **z_dict)"
   ]
  },
  {
   "cell_type": "code",
   "execution_count": 206,
   "metadata": {
    "collapsed": true
   },
   "outputs": [],
   "source": [
    "## 이 방식으로 앞서 발생한 문제를 해결해보자\n",
    "\n",
    "def doubler_correct(f):\n",
    "    \"\"\"f의 인자에 상관없이 작동함\"\"\"\n",
    "    def g(*args, **kwargs):\n",
    "        \"\"\"g의 인자가 무엇이든 간에 f로 보내줌\"\"\"\n",
    "        return 2 * f(*args, **kwargs)\n",
    "    return g"
   ]
  },
  {
   "cell_type": "code",
   "execution_count": 207,
   "metadata": {},
   "outputs": [
    {
     "data": {
      "text/plain": [
       "6"
      ]
     },
     "execution_count": 207,
     "metadata": {},
     "output_type": "execute_result"
    }
   ],
   "source": [
    "g = doubler_correct(f2)\n",
    "g(1, 2)"
   ]
  },
  {
   "cell_type": "markdown",
   "metadata": {},
   "source": [
    "# 과제\n",
    "\n",
    "> ## (1) 금일 실습 내용 제출\n",
    "\n",
    "> ## (2) 3장 데이터 시각화 코드 작성해서 제출\n",
    "\n",
    "\n",
    ">## (3) 점프투파이썬 (https://wikidocs.net/book/1)\n",
    "## 2장, 3장 jupyter notebook에 작성해서 제출하기\n"
   ]
  },
  {
   "cell_type": "code",
   "execution_count": null,
   "metadata": {
    "collapsed": true
   },
   "outputs": [],
   "source": []
  },
  {
   "cell_type": "code",
   "execution_count": null,
   "metadata": {
    "collapsed": true
   },
   "outputs": [],
   "source": []
  },
  {
   "cell_type": "code",
   "execution_count": null,
   "metadata": {
    "collapsed": true
   },
   "outputs": [],
   "source": []
  },
  {
   "cell_type": "code",
   "execution_count": null,
   "metadata": {
    "collapsed": true
   },
   "outputs": [],
   "source": []
  }
 ],
 "metadata": {
  "anaconda-cloud": {},
  "kernelspec": {
   "display_name": "Python [conda root]",
   "language": "python",
   "name": "conda-root-py"
  },
  "language_info": {
   "codemirror_mode": {
    "name": "ipython",
    "version": 3
   },
   "file_extension": ".py",
   "mimetype": "text/x-python",
   "name": "python",
   "nbconvert_exporter": "python",
   "pygments_lexer": "ipython3",
   "version": "3.5.2"
  }
 },
 "nbformat": 4,
 "nbformat_minor": 1
}
