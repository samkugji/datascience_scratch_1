{
 "cells": [
  {
   "cell_type": "code",
   "execution_count": 1,
   "metadata": {},
   "outputs": [],
   "source": [
    "X = [\n",
    "    [20.9666776351559,-13.1138080189357],\n",
    "    [22.7719907680008,-19.8890894944696],\n",
    "    [25.6687103160153,-11.9956004517219],\n",
    "    [18.0019794950564,-18.1989191165133],\n",
    "    [21.3967402102156,-10.8893126308196],\n",
    "    [0.443696899177716,-19.7221132386308],\n",
    "    [29.9198322142127,-14.0958668502427],\n",
    "    [19.0805843080126,-13.7888747608312],\n",
    "    [16.4685063521314,-11.2612927034291],\n",
    "    [21.4597664701884,-12.4740034586705],\n",
    "    [3.87655283720532,-17.575162461771],\n",
    "    [34.5713920556787,-10.705185165378],\n",
    "    [13.3732115747722,-16.7270274494424],\n",
    "    [20.7281704141919,-8.81165591556553],\n",
    "    [24.839851437942,-12.1240962157419],\n",
    "    [20.3019544741252,-12.8725060780898],\n",
    "    [21.9021426929599,-17.3225432396452],\n",
    "    [23.2285885715486,-12.2676568419045],\n",
    "    [28.5749111681851,-13.2616470619453],\n",
    "    [29.2957424128701,-14.6299928678996],\n",
    "    [15.2495527798625,-18.4649714274207],\n",
    "    [26.5567257400476,-9.19794350561966],\n",
    "    [30.1934232346361,-12.6272709845971],\n",
    "    [36.8267446011057,-7.25409849336718],\n",
    "    [32.157416823084,-10.4729534347553],\n",
    "    [5.85964365291694,-22.6573731626132],\n",
    "    [25.7426190674693,-14.8055803854566],\n",
    "    [16.237602636139,-16.5920595763719],\n",
    "    [14.7408608850568,-20.0537715298403],\n",
    "    [6.85907008242544,-18.3965586884781],\n",
    "    [26.5918329233128,-8.92664811750842],\n",
    "    [-11.2216019958228,-27.0519081982856],\n",
    "    [8.93593745011035,-20.8261235122575],\n",
    "    [24.4481258671796,-18.0324012215159],\n",
    "    [2.82048515404903,-22.4208457598703],\n",
    "    [30.8803004755948,-11.455358009593],\n",
    "    [15.4586738236098,-11.1242825084309],\n",
    "    [28.5332537090494,-14.7898744423126],\n",
    "    [40.4830293441052,-2.41946428697183],\n",
    "    [15.7563759125684,-13.5771266003795],\n",
    "    [19.3635588851727,-20.6224770470434],\n",
    "    [13.4212840786467,-19.0238227375766],\n",
    "    [7.77570680426702,-16.6385739839089],\n",
    "    [21.4865983854408,-15.290799330002],\n",
    "    [12.6392705930724,-23.6433305964301],\n",
    "    [12.4746151388128,-17.9720169566614],\n",
    "    [23.4572410437998,-14.602080545086],\n",
    "    [13.6878189833565,-18.9687408182414],\n",
    "    [15.4077465943441,-14.5352487124086],\n",
    "    [20.3356581548895,-10.0883159703702],\n",
    "    [20.7093833689359,-12.6939091236766],\n",
    "    [11.1032293684441,-14.1383848928755],\n",
    "    [17.5048321498308,-9.2338593361801],\n",
    "    [16.3303688220188,-15.1054735529158],\n",
    "    [26.6929062710726,-13.306030567991],\n",
    "    [34.4985678099711,-9.86199941278607],\n",
    "    [39.1374291499406,-10.5621430853401],\n",
    "    [21.9088956482146,-9.95198845621849],\n",
    "    [22.2367457578087,-17.2200123442707],\n",
    "    [10.0032784145577,-19.3557700653426],\n",
    "    [14.045833906665,-15.871937521131],\n",
    "    [15.5640911917607,-18.3396956121887],\n",
    "    [24.4771926581586,-14.8715313479137],\n",
    "    [26.533415556629,-14.693883922494],\n",
    "    [12.8722580202544,-21.2750596021509],\n",
    "    [24.4768291376862,-15.9592080959207],\n",
    "    [18.2230748567433,-14.6541444069985],\n",
    "    [4.1902148367447,-20.6144032528762],\n",
    "    [12.4332594022086,-16.6079789231489],\n",
    "    [20.5483758651873,-18.8512560786321],\n",
    "    [17.8180560451358,-12.5451990696752],\n",
    "    [11.0071081078049,-20.3938092335862],\n",
    "    [8.30560561422449,-22.9503944138682],\n",
    "    [33.9857852657284,-4.8371294974382],\n",
    "    [17.4376502239652,-14.5095976075022],\n",
    "    [29.0379635148943,-14.8461553663227],\n",
    "    [29.1344666599319,-7.70862921632672],\n",
    "    [32.9730697624544,-15.5839178785654],\n",
    "    [13.4211493998212,-20.150199857584],\n",
    "    [11.380538260355,-12.8619410359766],\n",
    "    [28.672631499186,-8.51866271785711],\n",
    "    [16.4296061111902,-23.3326051279759],\n",
    "    [25.7168371582585,-13.8899296143829],\n",
    "    [13.3185154732595,-17.8959160024249],\n",
    "    [3.60832478605376,-25.4023343597712],\n",
    "    [39.5445949652652,-11.466377647931],\n",
    "    [25.1693484426101,-12.2752652925707],\n",
    "    [25.2884257196471,-7.06710309184533],\n",
    "    [6.77665715793125,-22.3947299635571],\n",
    "    [20.1844223778907,-16.0427471125407],\n",
    "    [25.5506805272535,-9.33856532270204],\n",
    "    [25.1495682602477,-7.17350567090738],\n",
    "    [15.6978431006492,-17.5979197162642],\n",
    "    [37.42780451491,-10.843637288504],\n",
    "    [22.974620174842,-10.6171162611686],\n",
    "    [34.6327117468934,-9.26182440487384],\n",
    "    [34.7042513789061,-6.9630753351114],\n",
    "    [15.6563953929008,-17.2196961218915],\n",
    "    [25.2049825789225,-14.1592086208169]\n",
    "]"
   ]
  },
  {
   "cell_type": "markdown",
   "metadata": {},
   "source": [
    "# sklearn \n",
    "- 머신러닝 패키지\n",
    "- 서브패키지인 decomposition 은 행렬분해를 위한 다양한 알고리즘을 제공한다.\n",
    "- http://scikit-learn.org/stable/user_guide.html"
   ]
  },
  {
   "cell_type": "code",
   "execution_count": 2,
   "metadata": {},
   "outputs": [],
   "source": [
    "from sklearn.decomposition import PCA\n",
    "import numpy as np\n",
    "import matplotlib.pyplot as plt"
   ]
  },
  {
   "cell_type": "code",
   "execution_count": 3,
   "metadata": {
    "scrolled": true
   },
   "outputs": [],
   "source": [
    "x_arr = np.array(X)"
   ]
  },
  {
   "cell_type": "code",
   "execution_count": 4,
   "metadata": {
    "scrolled": false
   },
   "outputs": [
    {
     "data": {
      "text/plain": [
       "<matplotlib.collections.PathCollection at 0x10cc3f9b0>"
      ]
     },
     "execution_count": 4,
     "metadata": {},
     "output_type": "execute_result"
    },
    {
     "data": {
      "image/png": "[encoded data removed]",
      "text/plain": [
       "<matplotlib.figure.Figure at 0x10cbf63c8>"
      ]
     },
     "metadata": {},
     "output_type": "display_data"
    }
   ],
   "source": [
    "## 데이터 분포\n",
    "\n",
    "plt.scatter(x_arr[:, 0], x_arr[:, 1])"
   ]
  },
  {
   "cell_type": "code",
   "execution_count": 5,
   "metadata": {},
   "outputs": [],
   "source": [
    "## 트레이닝\n",
    "\n",
    "pca = PCA(n_components=1).fit(x_arr)"
   ]
  },
  {
   "cell_type": "code",
   "execution_count": 6,
   "metadata": {},
   "outputs": [
    {
     "data": {
      "text/plain": [
       "array([[-0.92391028, -0.38260919]])"
      ]
     },
     "execution_count": 6,
     "metadata": {},
     "output_type": "execute_result"
    }
   ],
   "source": [
    "## 주성분\n",
    "\n",
    "pca.components_"
   ]
  },
  {
   "cell_type": "code",
   "execution_count": 7,
   "metadata": {},
   "outputs": [
    {
     "data": {
      "text/plain": [
       "(99, 2)"
      ]
     },
     "execution_count": 7,
     "metadata": {},
     "output_type": "execute_result"
    }
   ],
   "source": [
    "x_arr.shape"
   ]
  },
  {
   "cell_type": "code",
   "execution_count": 8,
   "metadata": {
    "scrolled": true
   },
   "outputs": [
    {
     "data": {
      "text/plain": [
       "(1, 2)"
      ]
     },
     "execution_count": 8,
     "metadata": {},
     "output_type": "execute_result"
    }
   ],
   "source": [
    "pca.components_.shape"
   ]
  },
  {
   "cell_type": "code",
   "execution_count": 9,
   "metadata": {
    "scrolled": true
   },
   "outputs": [
    {
     "data": {
      "text/plain": [
       "array([ -1.26110635,  -0.33676876,  -6.03319918,   3.42361898,\n",
       "        -2.50955797,  20.22868486,  -9.15727319,   0.7397614 ,\n",
       "         2.18601096,  -1.9614713 ,  16.23559086, -14.75220312,\n",
       "         7.13702597,  -2.68679001,  -5.21824428,  -0.73928613,\n",
       "        -0.51509137,  -3.67465434,  -8.23386696,  -8.37630868,\n",
       "         6.06840838,  -7.92405502,  -9.97194502, -18.156364  ,\n",
       "       -12.61076058,  16.34789339,  -5.02636009,   4.43894567,\n",
       "         7.14628357,  13.79428626,  -8.06029102,  33.81082135,\n",
       "        12.80502098,  -2.59575321,  19.06530561, -11.05494264,\n",
       "         3.06658425,  -7.61066537, -23.38421854,   3.73001492,\n",
       "         3.09291731,   7.97138627,  12.27477507,  -0.9085296 ,\n",
       "        10.46136273,   8.44359288,  -2.99273675,   7.70405709,\n",
       "         4.41870346,  -1.83568203,  -1.18404671,   8.24384744,\n",
       "         0.45282426,   3.78445656,  -6.47808175, -15.00753067,\n",
       "       -19.02554095,  -3.34137249,  -0.86346384,  11.25632294,\n",
       "         6.18841802,   5.72987142,  -3.83198618,  -5.79972119,\n",
       "         9.33998101,  -3.4154952 ,   1.86308332,  17.10863677,\n",
       "         7.95990838,   1.32056731,   1.43038249,  10.7260377 ,\n",
       "        14.20015661, -16.45632701,   2.53344028,  -8.05543835,\n",
       "       -10.87548169, -11.40884875,   8.40247294,   7.49925975,\n",
       "       -10.13886118,   6.84054636,  -5.35287632,   7.63478776,\n",
       "        19.47815742, -19.05575718,  -5.46483128,  -7.56753872,\n",
       "        15.40016548,   0.58226633,  -6.94075631,  -7.39853628,\n",
       "         5.32248639, -17.3382989 ,  -4.07152232, -15.3611001 ,\n",
       "       -16.30671883,   5.21606853,  -4.77693999])"
      ]
     },
     "execution_count": 9,
     "metadata": {},
     "output_type": "execute_result"
    }
   ],
   "source": [
    "## X 배열을 centering을 한뒤, 주성분으로 투영 시킨다.\n",
    "\n",
    "np.dot((x_arr - x_arr.mean(axis=0)), pca.components_.T)[:, 0]"
   ]
  },
  {
   "cell_type": "code",
   "execution_count": 10,
   "metadata": {
    "scrolled": true
   },
   "outputs": [
    {
     "data": {
      "text/plain": [
       "array([ -1.26110635,  -0.33676876,  -6.03319918,   3.42361898,\n",
       "        -2.50955797,  20.22868486,  -9.15727319,   0.7397614 ,\n",
       "         2.18601096,  -1.9614713 ,  16.23559086, -14.75220312,\n",
       "         7.13702597,  -2.68679001,  -5.21824428,  -0.73928613,\n",
       "        -0.51509137,  -3.67465434,  -8.23386696,  -8.37630868,\n",
       "         6.06840838,  -7.92405502,  -9.97194502, -18.156364  ,\n",
       "       -12.61076058,  16.34789339,  -5.02636009,   4.43894567,\n",
       "         7.14628357,  13.79428626,  -8.06029102,  33.81082135,\n",
       "        12.80502098,  -2.59575321,  19.06530561, -11.05494264,\n",
       "         3.06658425,  -7.61066537, -23.38421854,   3.73001492,\n",
       "         3.09291731,   7.97138627,  12.27477507,  -0.9085296 ,\n",
       "        10.46136273,   8.44359288,  -2.99273675,   7.70405709,\n",
       "         4.41870346,  -1.83568203,  -1.18404671,   8.24384744,\n",
       "         0.45282426,   3.78445656,  -6.47808175, -15.00753067,\n",
       "       -19.02554095,  -3.34137249,  -0.86346384,  11.25632294,\n",
       "         6.18841802,   5.72987142,  -3.83198618,  -5.79972119,\n",
       "         9.33998101,  -3.4154952 ,   1.86308332,  17.10863677,\n",
       "         7.95990838,   1.32056731,   1.43038249,  10.7260377 ,\n",
       "        14.20015661, -16.45632701,   2.53344028,  -8.05543835,\n",
       "       -10.87548169, -11.40884875,   8.40247294,   7.49925975,\n",
       "       -10.13886118,   6.84054636,  -5.35287632,   7.63478776,\n",
       "        19.47815742, -19.05575718,  -5.46483128,  -7.56753872,\n",
       "        15.40016548,   0.58226633,  -6.94075631,  -7.39853628,\n",
       "         5.32248639, -17.3382989 ,  -4.07152232, -15.3611001 ,\n",
       "       -16.30671883,   5.21606853,  -4.77693999])"
      ]
     },
     "execution_count": 10,
     "metadata": {},
     "output_type": "execute_result"
    }
   ],
   "source": [
    "## 주성분 분석 결과를 볼 수 있는 메소드\n",
    "\n",
    "pca.transform(x_arr)[:, 0]"
   ]
  },
  {
   "cell_type": "markdown",
   "metadata": {},
   "source": [
    "## 주성분 분석의 장점\n",
    "\n",
    "1. 차원을 축소하여 직관적으로 이해하고 관리하기 쉽게 해준다.\n",
    "2. 차원을 축소시키면 연산량도 줄어든다. 이를 통해 연산속도를 개선한다.\n",
    "3. 회귀분석이나 의사결정나무(decision tree) 등의 모형 개발 시 입력변수들간의 상관관계가 높은 다중공선성(multicollinearity)이 존재할 경우 모형이 잘못만들어지고 따라서 해석에도 문제가 생기게된다.  다중공선성이 존재할 경우 해결 방법 중의 하나가 바로 상관도가 높은 변수들을 하나의 주성분으로 축소하여 모형개발에 활용하는 것이다.\n"
   ]
  },
  {
   "cell_type": "code",
   "execution_count": null,
   "metadata": {},
   "outputs": [],
   "source": []
  },
  {
   "cell_type": "code",
   "execution_count": null,
   "metadata": {},
   "outputs": [],
   "source": []
  },
  {
   "cell_type": "code",
   "execution_count": null,
   "metadata": {},
   "outputs": [],
   "source": []
  }
 ],
 "metadata": {
  "anaconda-cloud": {},
  "kernelspec": {
   "display_name": "Python [conda root]",
   "language": "python",
   "name": "conda-root-py"
  },
  "language_info": {
   "codemirror_mode": {
    "name": "ipython",
    "version": 3
   },
   "file_extension": ".py",
   "mimetype": "text/x-python",
   "name": "python",
   "nbconvert_exporter": "python",
   "pygments_lexer": "ipython3",
   "version": "3.5.4"
  }
 },
 "nbformat": 4,
 "nbformat_minor": 2
}
