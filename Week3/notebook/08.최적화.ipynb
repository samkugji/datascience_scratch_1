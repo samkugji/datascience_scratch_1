{
 "cells": [
  {
   "cell_type": "code",
   "execution_count": 1,
   "metadata": {},
   "outputs": [],
   "source": [
    "%run statistics.py\n",
    "%run linear_algebra.py"
   ]
  },
  {
   "cell_type": "code",
   "execution_count": 2,
   "metadata": {},
   "outputs": [],
   "source": [
    "import matplotlib.pyplot as plt\n",
    "import matplotlib\n",
    "matplotlib.style.use('ggplot') ## R ggplot style\n",
    "import numpy as np"
   ]
  },
  {
   "cell_type": "code",
   "execution_count": 3,
   "metadata": {},
   "outputs": [
    {
     "data": {
      "text/html": [
       "<style>.container { width:75% !important; }</style>"
      ],
      "text/plain": [
       "<IPython.core.display.HTML object>"
      ]
     },
     "metadata": {},
     "output_type": "display_data"
    }
   ],
   "source": [
    "## 주피터노트북 cell 너비 조정\n",
    "\n",
    "from IPython.core.display import display, HTML\n",
    "display(HTML(\"<style>.container { width:75% !important; }</style>\"))"
   ]
  },
  {
   "cell_type": "markdown",
   "metadata": {},
   "source": [
    "# 1. 미분법"
   ]
  },
  {
   "cell_type": "markdown",
   "metadata": {},
   "source": [
    "## 미분 공식"
   ]
  },
  {
   "cell_type": "markdown",
   "metadata": {},
   "source": [
    "### (1) 상수\n",
    "\n",
    "> - 상수를 미분하면 0이 된다.  \n",
    "> - $ \\dfrac{d}{dx}(c) = 0 $\n",
    "\n",
    "### (2) 거듭제곱\n",
    "\n",
    "> - $x$의 $n$ 제곱을 미분하면 $n-1$ 제곱으로 제곱수가 1씩 감소한다. \n",
    "- 이 공식은 $n$이 자연수이거나 음의 정수일 때 성립한다. $n=0$일 때는 성립하지 않는다.  \n",
    "> - $ \\dfrac{d}{dx}(x^n) = n x^{n-1} $\n",
    "\n",
    "### (3) 로그\n",
    "\n",
    "> - 로그함수를 미분하면 $x^{-1}$이 된다.  \n",
    "> - $ \\dfrac{d}{dx}(\\log x) = \\dfrac{1}{x} $\n",
    "\n",
    "### (4) 지수\n",
    "\n",
    "> - 밑이 오일러 수인 지수함수는 미분해도 변하지 않는다.  \n",
    "> - $ \\dfrac{d}{dx}(e^x) = e^x $"
   ]
  },
  {
   "cell_type": "markdown",
   "metadata": {},
   "source": [
    "## sympy를 활용한 미분\n",
    "- SymPy는 심볼릭 연산(symbolic operation)을 지원하기 위한 파이썬 패키지이다. 심볼릭 연산이란 사람이 연필로 계산하는 미분/적분과 동일한 형태의 연산을 말한다. 즉,  $x^2$ 의 미분 연산을 수행하면 그 결과가  $2x$ 란 형태로 출력된다. 딥 러닝(deep learning) 등에 많이 사용되는 파이썬의 theano 패키지나 tensorflow 패키지도 기울기 함수 계산을 위해 이러한 심볼릭 연산 기능을 갖추고 있다."
   ]
  },
  {
   "cell_type": "code",
   "execution_count": 4,
   "metadata": {},
   "outputs": [],
   "source": [
    "import sympy"
   ]
  },
  {
   "cell_type": "code",
   "execution_count": 5,
   "metadata": {},
   "outputs": [],
   "source": [
    "# Juypter 노트북에서 수학식의 LaTeX 표현을 위해 필요함\n",
    "sympy.init_printing(use_latex='mathjax')  "
   ]
  },
  {
   "cell_type": "code",
   "execution_count": 6,
   "metadata": {},
   "outputs": [],
   "source": [
    "## latex 표현 중지\n",
    "# sympy.init_printing(pretty_print=False)  "
   ]
  },
  {
   "cell_type": "code",
   "execution_count": 7,
   "metadata": {
    "scrolled": false
   },
   "outputs": [
    {
     "data": {
      "text/latex": [
       "$$x$$"
      ],
      "text/plain": [
       "x"
      ]
     },
     "execution_count": 7,
     "metadata": {},
     "output_type": "execute_result"
    }
   ],
   "source": [
    "x = sympy.symbols('x')\n",
    "x"
   ]
  },
  {
   "cell_type": "code",
   "execution_count": 8,
   "metadata": {},
   "outputs": [
    {
     "data": {
      "text/latex": [
       "$$x e^{x}$$"
      ],
      "text/plain": [
       "   x\n",
       "x⋅ℯ "
      ]
     },
     "execution_count": 8,
     "metadata": {},
     "output_type": "execute_result"
    }
   ],
   "source": [
    "f = x * sympy.exp(x)\n",
    "f"
   ]
  },
  {
   "cell_type": "code",
   "execution_count": 9,
   "metadata": {},
   "outputs": [
    {
     "data": {
      "text/latex": [
       "$$x e^{x} + e^{x}$$"
      ],
      "text/plain": [
       "   x    x\n",
       "x⋅ℯ  + ℯ "
      ]
     },
     "execution_count": 9,
     "metadata": {},
     "output_type": "execute_result"
    }
   ],
   "source": [
    "## 미분\n",
    "\n",
    "f.diff(x)"
   ]
  },
  {
   "cell_type": "code",
   "execution_count": 10,
   "metadata": {
    "scrolled": true
   },
   "outputs": [
    {
     "data": {
      "text/latex": [
       "$$22.1671682967919$$"
      ],
      "text/plain": [
       "22.1671682967919"
      ]
     },
     "execution_count": 10,
     "metadata": {},
     "output_type": "execute_result"
    }
   ],
   "source": [
    "## 연산된 결과를 계산\n",
    "## subs(old, new) : 기존 변수를 새로운 변수로 교체한다.\n",
    "\n",
    "f.diff(x).subs(x, 2).evalf()"
   ]
  },
  {
   "cell_type": "code",
   "execution_count": 11,
   "metadata": {},
   "outputs": [],
   "source": [
    "## 함수로 만들어서 계산\n",
    "## lambdify : 수치 계산을 위한 람다 함수를 만들어준다.\n",
    "\n",
    "\n",
    "x = sympy.symbols('x')\n",
    "y = sympy.symbols('y')\n",
    "f = x+y\n",
    "\n",
    "func = sympy.lambdify((x, y), f, modules=['numpy'])"
   ]
  },
  {
   "cell_type": "code",
   "execution_count": 12,
   "metadata": {},
   "outputs": [
    {
     "data": {
      "text/latex": [
       "$$13$$"
      ],
      "text/plain": [
       "13"
      ]
     },
     "execution_count": 12,
     "metadata": {},
     "output_type": "execute_result"
    }
   ],
   "source": [
    "func(3, 10)"
   ]
  },
  {
   "cell_type": "markdown",
   "metadata": {},
   "source": [
    "----------"
   ]
  },
  {
   "cell_type": "code",
   "execution_count": 13,
   "metadata": {},
   "outputs": [],
   "source": [
    "## 지수함수 미분\n",
    "## e^x를 미분하세요"
   ]
  },
  {
   "cell_type": "code",
   "execution_count": 32,
   "metadata": {
    "scrolled": true
   },
   "outputs": [],
   "source": [
    "#### 스터디원 코드 ####\n",
    "x = \n",
    "f = "
   ]
  },
  {
   "cell_type": "code",
   "execution_count": null,
   "metadata": {},
   "outputs": [],
   "source": [
    "## 합성함수의 미분\n",
    "## xf(x) 미분를 x에 대해 미분해보세요\n",
    "## sympy.Function 사용"
   ]
  },
  {
   "cell_type": "code",
   "execution_count": null,
   "metadata": {},
   "outputs": [],
   "source": [
    "#### 스터디원 코드 ####\n",
    "x = \n",
    "f = "
   ]
  },
  {
   "cell_type": "markdown",
   "metadata": {},
   "source": [
    "------------"
   ]
  },
  {
   "cell_type": "markdown",
   "metadata": {},
   "source": [
    "## 편미분"
   ]
  },
  {
   "cell_type": "code",
   "execution_count": null,
   "metadata": {},
   "outputs": [],
   "source": [
    "## 편미분\n",
    "## x^2 + xy + y^2를 y에 대해 미분하세요"
   ]
  },
  {
   "cell_type": "code",
   "execution_count": null,
   "metadata": {},
   "outputs": [],
   "source": [
    "#### 스터디원 코드 ####\n",
    "x =\n",
    "y = \n",
    "f = "
   ]
  },
  {
   "cell_type": "code",
   "execution_count": null,
   "metadata": {},
   "outputs": [],
   "source": [
    "## 편미분\n",
    "## x^2 + xy + y^2를 y에 대해 미분한 후, x에 대해 미분하세요\n"
   ]
  },
  {
   "cell_type": "code",
   "execution_count": null,
   "metadata": {},
   "outputs": [],
   "source": [
    "#### 스터디원 코드 ####\n",
    "x =\n",
    "y = \n",
    "f = \n"
   ]
  },
  {
   "cell_type": "markdown",
   "metadata": {},
   "source": [
    "참고 자료 : https://www.slideshare.net/dahlmoon/jupyter-notebok-20160630"
   ]
  },
  {
   "cell_type": "markdown",
   "metadata": {},
   "source": [
    "## 2. 경사하강법\n",
    "> ### 파이썬 구현\n",
    "- 편미분 \n",
    "- 그레디언트\n",
    "- 스텝"
   ]
  },
  {
   "cell_type": "markdown",
   "metadata": {},
   "source": [
    "### [경사하강법]\n",
    "<img src=\"http://cfile9.uf.tistory.com/image/223B87385890215809726D\" alt=\"Drawing\" style=\"width: 600px;\" align = \"left\"/>\n",
    "\n",
    "<img src=\"https://datascienceschool.net/upfiles/8dc79df23e7e48729cb252f5a09d1a97.png\" alt=\"Drawing\" style=\"width: 600px;\" align = \"right\"/>"
   ]
  },
  {
   "cell_type": "markdown",
   "metadata": {},
   "source": [
    "- Gradient Descent 방법은 다음과 같이 단순히 현재 위치에서의 기울기 값  $g(x_k)=\\frac {df(x_k)}{dx}$  만을 이용한다.\n",
    "- $x_{k+1}=x_k−αg(x_k)$"
   ]
  },
  {
   "cell_type": "code",
   "execution_count": 15,
   "metadata": {},
   "outputs": [],
   "source": [
    "## x^2 함수에 대해 경사하강법을 적용한다.\n",
    "\n",
    "def convex_function(x):\n",
    "    return x**2"
   ]
  },
  {
   "cell_type": "code",
   "execution_count": 16,
   "metadata": {},
   "outputs": [
    {
     "data": {
      "image/png": "[encoded data removed]",
      "text/plain": [
       "<matplotlib.figure.Figure at 0x113cf6eb8>"
      ]
     },
     "metadata": {},
     "output_type": "display_data"
    }
   ],
   "source": [
    "xs = [i for i in range(-100, 100)]\n",
    "# plt.plot(xs, [convex_function(i) for i in range(-100, 100)])\n",
    "plt.plot(xs, [convex_function(i) for i in xs])\n",
    "plt.scatter(0, 0, color = 'blue', label = 'minimum')\n",
    "plt.legend(loc = 'center')\n",
    "plt.show()"
   ]
  },
  {
   "cell_type": "markdown",
   "metadata": {},
   "source": [
    "> ### (0, 0) 을 최솟값으로 갖는다. 경사하강법을 통해 이 점을 잘 찾아가는지 살펴보자."
   ]
  },
  {
   "cell_type": "code",
   "execution_count": 17,
   "metadata": {},
   "outputs": [],
   "source": [
    "## 편미분\n",
    "def partial_difference_quotient(f, v, i, h):\n",
    "    \"\"\" 함수 f에서 v의 i번째 값의 편미분값\"\"\"\n",
    "    if i > len(v):\n",
    "        print('Value Error')\n",
    "        \n",
    "    else:\n",
    "        v_j = v[i]\n",
    "        w = v_j + h\n",
    "        \n",
    "        return (f(w) - f(v_j)) / h"
   ]
  },
  {
   "cell_type": "code",
   "execution_count": null,
   "metadata": {},
   "outputs": [],
   "source": [
    "#### 스터디원 코드 ####\n",
    "\n"
   ]
  },
  {
   "cell_type": "code",
   "execution_count": 18,
   "metadata": {},
   "outputs": [],
   "source": [
    "## 그레디언트\n",
    "## 각 위치의 편미분값들을 구한다.\n",
    "\n",
    "def estimate_gradient(f, v, h=0.00001):\n",
    "    return [partial_difference_quotient(f, v, i, h)\n",
    "            for i, _ in enumerate(v)]"
   ]
  },
  {
   "cell_type": "code",
   "execution_count": 19,
   "metadata": {},
   "outputs": [],
   "source": [
    "#### 스터디원 코드 ####\n",
    "\n"
   ]
  },
  {
   "cell_type": "code",
   "execution_count": 20,
   "metadata": {
    "scrolled": false
   },
   "outputs": [
    {
     "data": {
      "text/latex": [
       "$$-15.959495959521064$$"
      ],
      "text/plain": [
       "-15.959495959521064"
      ]
     },
     "execution_count": 20,
     "metadata": {},
     "output_type": "execute_result"
    }
   ],
   "source": [
    "##\n",
    "v = np.linspace(-10, 10, num = 100) ## 정해진 범위 안에서 균등한 간격으로 n개의 유리수를 생성한다.\n",
    "\n",
    "partial_difference_quotient(convex_function, v, 10, 0.0001)"
   ]
  },
  {
   "cell_type": "code",
   "execution_count": 21,
   "metadata": {},
   "outputs": [],
   "source": [
    "def step(v, direction, step_size):\n",
    "    \"\"\" v 에서 step_size 만큼 이동\"\"\"\n",
    "\n",
    "    return [v_i + step_size * direction_i\n",
    "            for v_i, direction_i in zip(v, direction)]"
   ]
  },
  {
   "cell_type": "code",
   "execution_count": 22,
   "metadata": {},
   "outputs": [],
   "source": [
    "#### 스터디원 코드 ####\n",
    "\n"
   ]
  },
  {
   "cell_type": "code",
   "execution_count": 23,
   "metadata": {},
   "outputs": [
    {
     "name": "stdout",
     "output_type": "stream",
     "text": [
      "[472 번째 시행]  편차 : 9.888211771888768e-06 최솟값 위치 :  [-0.00044721405285108666, 0.00021610757919011663]\n"
     ]
    }
   ],
   "source": [
    "import random\n",
    "tolerance = 0.00001\n",
    "v = [random.randint(-10, 10) for i in range(2)]\n",
    "i = 0\n",
    "while True:\n",
    "    i += 1\n",
    "    gradient = estimate_gradient(convex_function, v) # 임의의 시작점에서 gradient 계산\n",
    "    next_v = step(v, gradient, -0.01)                # gradient 반대 방향으로 0.01 만큼 이동\n",
    "    if distance(next_v, v) < tolerance:              # v와 next_v 간의 편차 (거리)가 허용치보다 적을 경우 멈춘다.\n",
    "        break\n",
    "    v = next_v\n",
    "print('[%s 번째 시행] ' %str(i), '편차 :', distance(next_v, v), '최솟값 위치 : ', v)"
   ]
  },
  {
   "cell_type": "code",
   "execution_count": null,
   "metadata": {},
   "outputs": [],
   "source": [
    "#### 스터디원 코드 ####\n",
    "\n"
   ]
  },
  {
   "cell_type": "markdown",
   "metadata": {},
   "source": [
    "> ### 잘 찾아가는지 확인해보자."
   ]
  },
  {
   "cell_type": "code",
   "execution_count": 24,
   "metadata": {},
   "outputs": [],
   "source": [
    "def gradient_descent_plot():\n",
    "    result_arr = []\n",
    "    tolerance = 0.00001\n",
    "    v = [random.randint(-100, 100) for i in range(2)]\n",
    "    starting_point = v[:]\n",
    "\n",
    "    while True:\n",
    "        gradient = estimate_gradient(convex_function, v) \n",
    "        next_v = step(v, gradient, -0.01)\n",
    "        if distance(next_v, v) < tolerance:              \n",
    "            break\n",
    "        v = next_v\n",
    "        result_arr.append([v[0], convex_function(v[0])]) # 움직임 저장\n",
    "    print('시작위치 :', starting_point, '[%s 번 시행] ' %str(i), '편차 :', distance(next_v, v), '최솟값 위치 : ', v)\n",
    "    plt.scatter([x[0] for x in result_arr], [x[1] for x in result_arr])\n",
    "    plt.show()"
   ]
  },
  {
   "cell_type": "code",
   "execution_count": 25,
   "metadata": {
    "scrolled": true
   },
   "outputs": [
    {
     "name": "stdout",
     "output_type": "stream",
     "text": [
      "시작위치 : [-82, 90] [472 번 시행]  편차 : 9.984427667606147e-06 최솟값 위치 :  [-0.00034122058617140725, 0.0003640226375965303]\n"
     ]
    },
    {
     "data": {
      "image/png": "[encoded data removed]",
      "text/plain": [
       "<matplotlib.figure.Figure at 0x113cd2b38>"
      ]
     },
     "metadata": {},
     "output_type": "display_data"
    }
   ],
   "source": [
    "gradient_descent_plot()"
   ]
  },
  {
   "cell_type": "markdown",
   "metadata": {},
   "source": [
    "> ### 최솟값을 찾아가기 위해 convex function의 모든 값을 다 훑고있다.\n",
    "### step size를 조정한다면?\n",
    "- step size가 너무 작을 때 : 계산 시간이 너무 오래걸림.\n",
    "- step size가 너무 클 때 : 너무 많이 이동해서 발산될 위험이 있음.    \n",
    ">> ### 적절한 거리를 미리 정해두고 가장 합리적인 값을 선택해보자."
   ]
  },
  {
   "cell_type": "code",
   "execution_count": 26,
   "metadata": {},
   "outputs": [],
   "source": [
    "step_sizes = [100, 10, 1, 0.1, 0.01, 0.001, 0.0001, 0.00001]"
   ]
  },
  {
   "cell_type": "code",
   "execution_count": 27,
   "metadata": {},
   "outputs": [],
   "source": [
    "def safe(f):\n",
    "    \"\"\"f와 똑같은 함수를 반환하지만 f에 오류가 발생하면 무한대를 반환해준다.\"\"\"\n",
    "    def safe_f(*args, **kwargs):\n",
    "        try:\n",
    "            return f(*args, **kwargs)\n",
    "        except:\n",
    "            return float('inf')         # \"infinity\"\n",
    "    return safe_f"
   ]
  },
  {
   "cell_type": "code",
   "execution_count": 28,
   "metadata": {},
   "outputs": [],
   "source": [
    "def minimize_batch(target_fn, origin_fn, gradient_fn, theta_0, tolerance=0.000001):\n",
    "    \"\"\"target_fn을 최소화 시킬 수 있는 theta를 찾기 위해 gradient descent를 사용한다.\"\"\"\n",
    "    from functools import partial\n",
    "    step_sizes = [100, 10, 1, 0.1, 0.01, 0.001, 0.0001, 0.00001]\n",
    "\n",
    "    theta = theta_0                           # theta를 시작점으로 설정\n",
    "    target_fn = safe(target_fn)               # 오류를 처리할 수 있는 target_fn으로 변환\n",
    "    value = target_fn(theta)                  # 최소화시키려는 값\n",
    "    gradient_fn = partial(estimate_gradient, convex_function)  ## 그레디언트 함수 x^2 -> 2x\n",
    "    i = 0\n",
    "    while True:\n",
    "        i += 1\n",
    "        gradient = gradient_fn(theta)\n",
    "        next_thetas = [step(theta, gradient, -step_size)\n",
    "                       for step_size in step_sizes] # step size에 따라 모두 계산\n",
    "\n",
    "        # 함수를 최소화시키는 theta 선택\n",
    "        next_theta = min(next_thetas, key=target_fn)\n",
    "        next_value = target_fn(next_theta)\n",
    "\n",
    "        # tolerance 만큼 수렴하면 멈춘다.\n",
    "        if abs(value - next_value) < tolerance:\n",
    "            return print('[%s 번째 시행] ' %str(i), '편차 :', abs(value - next_value), '최솟값 위치 : ', theta)\n",
    "        else:\n",
    "            theta, value = next_theta, next_value\n",
    "        "
   ]
  },
  {
   "cell_type": "code",
   "execution_count": 29,
   "metadata": {},
   "outputs": [
    {
     "name": "stdout",
     "output_type": "stream",
     "text": [
      "시작위치 : [-33, 70]\n",
      "[50 번째 시행]  편차 : 6.849190637470752e-07 최솟값 위치 :  [-0.0005937395840641268, 0.0012438418201092078]\n"
     ]
    }
   ],
   "source": [
    "v = [random.randint(-100,100) for i in range(2)]\n",
    "print ('시작위치 :', v)\n",
    "minimize_batch(sum_of_squares, convex_function, estimate_gradient, v)"
   ]
  },
  {
   "cell_type": "code",
   "execution_count": null,
   "metadata": {},
   "outputs": [],
   "source": [
    "#### 스터디원 코드 ####\n",
    "\n"
   ]
  },
  {
   "cell_type": "code",
   "execution_count": null,
   "metadata": {},
   "outputs": [],
   "source": []
  },
  {
   "cell_type": "markdown",
   "metadata": {},
   "source": [
    "> ### 시행횟수는 1/10으로 줄었다."
   ]
  },
  {
   "cell_type": "code",
   "execution_count": 30,
   "metadata": {},
   "outputs": [],
   "source": [
    "## 시각화\n",
    "def minimize_batch_plot(target_fn, origin_fn, gradient_fn, theta_0, tolerance=0.000001):\n",
    "    \"\"\"target_fn을 최소화 시킬 수 있는 theta를 찾기 위해 gradient descent를 사용한다.\"\"\"\n",
    "    from functools import partial\n",
    "    step_sizes = [100, 10, 1, 0.1, 0.01, 0.001, 0.0001, 0.00001]\n",
    "\n",
    "    theta = theta_0                           # theta를 시작점으로 설정\n",
    "    target_fn = safe(target_fn)               # 오류를 처리할 수 있는 target_fn으로 변환\n",
    "    value = target_fn(theta)                  # 최소화시키려는 값\n",
    "    gradient_fn = partial(estimate_gradient, convex_function)  ## 그레디언트 함수 x^2 -> 2x\n",
    "    plot_arr = []\n",
    "    i = 0\n",
    "    while True:\n",
    "        i += 1\n",
    "        gradient = gradient_fn(theta)\n",
    "        next_thetas = [step(theta, gradient, -step_size)\n",
    "                       for step_size in step_sizes] # step size에 따라 모두 계산\n",
    "\n",
    "        # 함수를 최소화시키는 theta 선택\n",
    "        next_theta = min(next_thetas, key=target_fn)\n",
    "        next_value = target_fn(next_theta)\n",
    "\n",
    "        # tolerance 만큼 수렴하면 멈춘다.\n",
    "        if abs(value - next_value) < tolerance:  ## 이전 value와 다음 value의 편차를 계산함 -> 편미분값이나 마찬가지임\n",
    "            break\n",
    "        else:\n",
    "            theta, value = next_theta, next_value\n",
    "        plot_arr.append([theta[0], origin_fn(theta[0])])\n",
    "    print('[%s 번 시행] ' %str(i), '최솟값 위치 : ', theta)\n",
    "    plt.scatter([x[0] for x in plot_arr], [x[1] for x in plot_arr])\n",
    "    plt.show()"
   ]
  },
  {
   "cell_type": "code",
   "execution_count": 31,
   "metadata": {
    "scrolled": false
   },
   "outputs": [
    {
     "name": "stdout",
     "output_type": "stream",
     "text": [
      "시작 위치 :  [47, 2209]\n",
      "[48 번 시행]  최솟값 위치 :  [0.0013051689196703156, -0.0007576500111309458]\n"
     ]
    },
    {
     "data": {
      "image/png": "[encoded data removed]",
      "text/plain": [
       "<matplotlib.figure.Figure at 0x113e216a0>"
      ]
     },
     "metadata": {},
     "output_type": "display_data"
    }
   ],
   "source": [
    "v = [random.randint(-100,100) for i in range(2)]\n",
    "print('시작 위치 : ', [v[0], convex_function(v[0])])\n",
    "minimize_batch_plot(sum_of_squares, convex_function, estimate_gradient, v)"
   ]
  },
  {
   "cell_type": "markdown",
   "metadata": {},
   "source": [
    "> ### 시행횟수는 1/10으로 줄어들었다.\n",
    "### 이와 같은 방식을 Batch Gradient Descent 라고 한다.\n",
    "### $θ:=θ−η∇θJ(θ)$"
   ]
  },
  {
   "cell_type": "markdown",
   "metadata": {},
   "source": [
    "## 3. 여러가지 경사하강법\n"
   ]
  },
  {
   "cell_type": "markdown",
   "metadata": {},
   "source": [
    "### (1) SGD ( Stochastic Gradient Descent )\n",
    "- Batch Gradient Descent 는 Loss function을 계산할 때 train set 전체를 사용한다.\n",
    "- 그러나 이렇게 계산을 할 경우 한번 step을 내딛을 때 전체 데이터에 대해 Loss Function을 계산해야 하므로 너무 많은 계산량이 필요하다. \n",
    "- 이를 방지하기 위해 보통은 Stochastic Gradient Descent (SGD) 라는 방법을 사용한다. \n",
    "- 이 방법에서는 loss function을 계산할 때 전체 데이터(batch) 대신 일부 조그마한 데이터의 모음(mini-batch)에 대해서만 loss function을 계산한다.\n",
    "    - 위에서 구현한 방법은 모델 최적화 관점에서 만들어진 것이 아니므로 loss function이 train set 전체를 사용하지 않는다.\n",
    "- 장점\n",
    "    - 빠른 연산 속도\n",
    "- 단점\n",
    "    - 다소 부정확함 (하지만 여러번 반복하면 batch 결과에 수렴함)"
   ]
  },
  {
   "cell_type": "markdown",
   "metadata": {},
   "source": [
    "### (2) Momentum\n",
    "-  Gradient Descent를 통해 이동하는 과정에 일종의 ‘관성’을 주는 것이다. 현재 Gradient를 통해 이동하는 방향과는 별개로, 과거에 이동했던 방식을 기억하면서 그 방향으로 일정 정도를 추가적으로 이동하는 방식이다. \n",
    "- $v_t$를 time step t에서의 이동 벡터라고 할 때, 아래와 같은 식으로 이동을 표현할 수 있다.\n",
    "    - $v_t=γv_{t−1}+η∇θJ(θ)$\n",
    "    - $\\theta = \\theta - v_t$\n",
    "- $γ$는 얼마나 momentum을 줄 것인지에 대한 momentum term으로서, 보통 0.9 정도의 값을 사용한다. 식을 살펴보면 과거에 얼마나 이동했는지에 대한 이동 항 $v$를 기억하고, 새로운 이동항을 구할 경우 과거에 이동했던 정도에 관성항만큼 곱해준 후 Gradient을 이용한 이동 step 항을 더해준다.\n",
    "- 아래와 같이 SGD가 Oscilation 현상을 겪을 때 더욱 빛을 발한다."
   ]
  },
  {
   "cell_type": "markdown",
   "metadata": {},
   "source": [
    "### SGD vs Momentum\n",
    "<img src=\"http://ruder.io/content/images/2015/12/without_momentum.gif\" alt=\"Drawing\" style=\"width: 600px;\" align = \"left\"/> \n",
    "<img src=\"http://ruder.io/content/images/2015/12/with_momentum.gif\" alt=\"Drawing\" style=\"width: 600px;\" align = \"left\"/>"
   ]
  },
  {
   "cell_type": "markdown",
   "metadata": {},
   "source": [
    "### (3) Adagrad\n",
    "- 변수들을 update할 때 각각의 변수마다 step size를 다르게 설정해서 이동하는 방식이다.\n",
    "- word2vec이나 GloVe 같이 word representation을 학습시킬 경우 단어의 등장 확률에 따라 variable의 사용 비율이 확연하게 차이나기 때문에 Adagrad와 같은 학습 방식을 이용하면 훨씬 더 좋은 성능을 거둘 수 있을 것이다.\n",
    "- $G_t=G_{t−1}+(∇_θJ(θ_t))^2$\n",
    "- $θ_{t+1}=θ_t − \\frac { η }{ \\sqrt {G_t+ϵ} } ⋅∇_θJ(θ_t)$"
   ]
  },
  {
   "cell_type": "markdown",
   "metadata": {},
   "source": [
    "### (4) RMSProp\n",
    "### (5) AdaDelta\n",
    "### (6) Adam"
   ]
  },
  {
   "cell_type": "markdown",
   "metadata": {},
   "source": [
    "> ### 각각이 가지는 문제점들을 해결하면서 발전중임."
   ]
  },
  {
   "cell_type": "markdown",
   "metadata": {},
   "source": [
    "<img src=\"http://aikorea.org/cs231n/assets/nn3/opt2.gif\" alt=\"Drawing\" style=\"width: 450px;\" align = \"right\"/>\n",
    "<img src=\"http://aikorea.org/cs231n/assets/nn3/opt1.gif\" alt=\"Drawing\" style=\"width: 450px;\" align = \"left\"/>"
   ]
  },
  {
   "cell_type": "markdown",
   "metadata": {},
   "source": [
    "## 참고자료\n",
    "> http://shuuki4.github.io/deep%20learning/2016/05/20/Gradient-Descent-Algorithm-Overview.html"
   ]
  }
 ],
 "metadata": {
  "anaconda-cloud": {},
  "kernelspec": {
   "display_name": "Python [conda root]",
   "language": "python",
   "name": "conda-root-py"
  },
  "language_info": {
   "codemirror_mode": {
    "name": "ipython",
    "version": 3
   },
   "file_extension": ".py",
   "mimetype": "text/x-python",
   "name": "python",
   "nbconvert_exporter": "python",
   "pygments_lexer": "ipython3",
   "version": "3.5.4"
  }
 },
 "nbformat": 4,
 "nbformat_minor": 2
}
