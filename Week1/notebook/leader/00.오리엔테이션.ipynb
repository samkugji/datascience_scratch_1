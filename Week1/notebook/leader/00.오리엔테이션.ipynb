{
 "cells": [
  {
   "cell_type": "markdown",
   "metadata": {},
   "source": [
    "# 1. 스터디 목표\n",
    "\n",
    "- 한명도 빠짐없이 직접 코드를 짜서 실행시키는 실습 위주\n",
    "    - 스터디 리더가 제작한 jupyter notebook에 스터디원들이 직접 코드를 입력하면서 스터디 진행\n",
    "- 보충 학습을 위한 과제\n",
    "- 실습 환경\n",
    "    - python 3.x \n",
    "    - jupyter notebook\n",
    "        "
   ]
  },
  {
   "cell_type": "markdown",
   "metadata": {},
   "source": [
    "# 2. 커리큘럼\n",
    "\n",
    "\n",
    "## (1) 파이썬 설치 및 파이썬 기초\n",
    "- OT\n",
    "- 파이썬 설치\n",
    "- 파이썬 속성 강좌\n",
    "- 데이터 시각화\n",
    "\n",
    "## (2) 수학 및 통계 기초\n",
    "- 선형대수\n",
    "- 통계\n",
    "- 확률\n",
    "- 가설과 추론\n",
    "\n",
    "## (3) 기계학습 기초\n",
    "- 경사 하강법\n",
    "- 데이터 다루기\n",
    "- 기계학습\n",
    "- k-NN\n",
    "\n",
    "## (4) 예측 분석 기초\n",
    "- 단순 회귀 분석\n",
    "- 다중 회귀 분석\n",
    "- 나이브 베이즈\n",
    "- 로지스틱 회귀 분석\n",
    "\n",
    "## (5) 분류 분석 기초\n",
    "- 의사결정나무\n",
    "- 신경망\n",
    "- 군집화\n",
    "\n",
    "## (6) 기타\n",
    "- 자연어 처리\n",
    "- 추천 시스템"
   ]
  },
  {
   "cell_type": "markdown",
   "metadata": {
    "collapsed": true
   },
   "source": [
    "# 3. 데이터 과학이란?\n",
    "\n",
    "\n",
    "데이터 사이언스란 데이터를 수집하고 분석하여 활용하기 위한 모든 기술의 집합을 말하며, 컴퓨터 사이언스, 수학, 통계학, 머신 러닝(machine learning), 영상 및 신호 처리 등 다양한 학문 분야가 만나는 영역이다. 프로그래밍을 포함하는 컴퓨터 사이언스는 실제로 데이터를 다루기 위한 필수 기술이며, \n",
    "수학과 통계학은 데이터 분석 모형의 기반에 깔린 핵심적인 개념을 구체화하는 언어이다. \n",
    "머신 러닝은 이러한 분석 결과를 활용하여 지금까지 인간이 해오던 각종 분석과 의사 판단을 대신하고자 하는 노력이다.\n",
    "\n",
    "\n",
    "# 4. 데이터 과학 학습\n",
    "\n",
    "- 기초 수학 이론\n",
    "    - 선형대수\n",
    "    - 미분과 적분\n",
    "    - 최적화\n",
    "    - 확률론\n",
    "\n",
    "- 컴퓨터 관리 및 프로그래밍 기술\n",
    "    - 리눅스 운영체제 사용법\n",
    "    - 프로그래밍 언어\n",
    "    - 데이터베이스 시스템\n",
    "    - 병렬처리, 가상화, 클라우드 사용법\n",
    "\n",
    "- 데이터 분석 이론\n",
    "    - 확률 모형\n",
    "    - 검정 및 추정\n",
    "    - 회귀 분석과 분류, 클러스터링\n",
    "    \n",
    "- 해당 분야에 대한 전문 지식\n",
    "    - 해당 분야의 정보를 이해하고 분석 결과가 올바른지를 판단할 수 있는 능력\n",
    "    - 이미지 처리, 음성/음향 처리, 텍스트 처리 등의 자료 전처리 기술"
   ]
  },
  {
   "cell_type": "code",
   "execution_count": null,
   "metadata": {
    "collapsed": true
   },
   "outputs": [],
   "source": []
  },
  {
   "cell_type": "code",
   "execution_count": null,
   "metadata": {
    "collapsed": true
   },
   "outputs": [],
   "source": []
  },
  {
   "cell_type": "code",
   "execution_count": null,
   "metadata": {
    "collapsed": true
   },
   "outputs": [],
   "source": []
  },
  {
   "cell_type": "code",
   "execution_count": null,
   "metadata": {
    "collapsed": true
   },
   "outputs": [],
   "source": []
  },
  {
   "cell_type": "code",
   "execution_count": null,
   "metadata": {
    "collapsed": true
   },
   "outputs": [],
   "source": []
  },
  {
   "cell_type": "code",
   "execution_count": null,
   "metadata": {
    "collapsed": true
   },
   "outputs": [],
   "source": []
  },
  {
   "cell_type": "code",
   "execution_count": null,
   "metadata": {
    "collapsed": true
   },
   "outputs": [],
   "source": []
  },
  {
   "cell_type": "code",
   "execution_count": null,
   "metadata": {
    "collapsed": true
   },
   "outputs": [],
   "source": []
  },
  {
   "cell_type": "code",
   "execution_count": null,
   "metadata": {
    "collapsed": true
   },
   "outputs": [],
   "source": []
  },
  {
   "cell_type": "code",
   "execution_count": null,
   "metadata": {
    "collapsed": true
   },
   "outputs": [],
   "source": []
  }
 ],
 "metadata": {
  "anaconda-cloud": {},
  "kernelspec": {
   "display_name": "Python [conda root]",
   "language": "python",
   "name": "conda-root-py"
  },
  "language_info": {
   "codemirror_mode": {
    "name": "ipython",
    "version": 3
   },
   "file_extension": ".py",
   "mimetype": "text/x-python",
   "name": "python",
   "nbconvert_exporter": "python",
   "pygments_lexer": "ipython3",
   "version": "3.5.2"
  }
 },
 "nbformat": 4,
 "nbformat_minor": 1
}
